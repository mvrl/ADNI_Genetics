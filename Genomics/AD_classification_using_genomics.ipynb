{
 "cells": [
  {
   "cell_type": "markdown",
   "metadata": {},
   "source": [
    "## Data Preparation"
   ]
  },
  {
   "cell_type": "code",
   "execution_count": 233,
   "metadata": {},
   "outputs": [],
   "source": [
    "import os\n",
    "#os.listdir('./data/')"
   ]
  },
  {
   "cell_type": "markdown",
   "metadata": {},
   "source": [
    "In terminal at current directory where association files from GWAS run in PLINK are present run:\n",
    "\n",
    "head -2000 logistic_results.assoc_2.logistic.adjusted | awk '{ print $2 }' >> top2000_snps.txt \n",
    "\n",
    "top2000_snps.txt has the top 2000 SNPs associated with CN_AD GWAS logistic analysis\n",
    "\n",
    "Now extract only the top 2000 snps geneomic data for CN_AD subjects {in GWAS_ADNI/CN_AD/data/}\n",
    "\n",
    "plink --bfile GWAS_1_2_3_clean_CN_AD12 --make-bed --out GWAS_1_2_3_final_CN_AD12 #to make sure the files are sorted\n",
    "\n",
    "NOTE: GWAS_1_2_3_clean_CN_AD12 is the final plink file set obtained after Quality Control Analysis\n",
    "\n",
    "plink --bfile GWAS_1_2_3_final_CN_AD12 --extract top2000_snps.txt --recode --make-bed --out GWAS_CN_AD12"
   ]
  },
  {
   "cell_type": "markdown",
   "metadata": {},
   "source": [
    "Finally we have GWAS_CN_AD12.ped file which contain genotype information in single line for each subject\n",
    "\n",
    "FID,IID,FatherID,MotherID,Sex,Phenotype,Genotype:{Minor allele, Major allele} Sequence\n",
    "starting from column 7 In the the form of pair minor allele and major allele. \n",
    "\n",
    "Which means\n",
    "\n",
    "minor allele for snp1 is 7 and major allele for snp1 is 8;\n",
    "\n",
    "minor allele for snp1 is 9 and major allele for snp1 is 10; \n",
    "\n",
    "and so on\n",
    "\n",
    "Note: The missing genotypes are encoded with 00"
   ]
  },
  {
   "cell_type": "code",
   "execution_count": 234,
   "metadata": {},
   "outputs": [],
   "source": [
    "import pandas as pd\n",
    "from collections import Counter"
   ]
  },
  {
   "cell_type": "code",
   "execution_count": 235,
   "metadata": {},
   "outputs": [],
   "source": [
    "df = pd.read_csv('./data/ADNIMERGE.csv',low_memory=False)\n",
    "df_bl = df[df['VISCODE']=='bl']"
   ]
  },
  {
   "cell_type": "code",
   "execution_count": 236,
   "metadata": {},
   "outputs": [
    {
     "data": {
      "text/plain": [
       "Counter({'CN': 518, 'AD': 398, 'LMCI': 651, 'SMC': 301, 'EMCI': 389, nan: 12})"
      ]
     },
     "execution_count": 236,
     "metadata": {},
     "output_type": "execute_result"
    }
   ],
   "source": [
    "Counter(df[df['VISCODE']=='bl']['DX_bl'])"
   ]
  },
  {
   "cell_type": "code",
   "execution_count": 237,
   "metadata": {},
   "outputs": [],
   "source": [
    "with open('./data/GWAS_CN_AD12.fam','r') as infile:\n",
    "    text = infile.read().strip().split('\\n')\n",
    "\n",
    "PTID = [line.strip().split(' ')[1] for line in text]\n",
    "    "
   ]
  },
  {
   "cell_type": "code",
   "execution_count": 238,
   "metadata": {},
   "outputs": [],
   "source": [
    "df_GWAS = df_bl[pd.DataFrame(df_bl.PTID.tolist()).isin(PTID).any(1).values]"
   ]
  },
  {
   "cell_type": "code",
   "execution_count": 239,
   "metadata": {},
   "outputs": [
    {
     "data": {
      "text/plain": [
       "True"
      ]
     },
     "execution_count": 239,
     "metadata": {},
     "output_type": "execute_result"
    }
   ],
   "source": [
    "set(df_GWAS.PTID) == set(PTID)"
   ]
  },
  {
   "cell_type": "code",
   "execution_count": 240,
   "metadata": {},
   "outputs": [
    {
     "data": {
      "text/plain": [
       "Counter({'AD': 195, 'CN': 325})"
      ]
     },
     "execution_count": 240,
     "metadata": {},
     "output_type": "execute_result"
    }
   ],
   "source": [
    "Counter(df_GWAS['DX_bl'])"
   ]
  },
  {
   "cell_type": "markdown",
   "metadata": {},
   "source": [
    "Prepare Genotype dataset as a matrix (195+325) x (2000 + 1(age) + 1(gender) + 1(education) + 1(Baseline Diagnosis) ) = 520 x 2004"
   ]
  },
  {
   "cell_type": "code",
   "execution_count": 241,
   "metadata": {},
   "outputs": [],
   "source": [
    "def sequence_parser(t):\n",
    "    \n",
    "    t1 = [t[i].strip() for i in range(len(t)) if i%2 !=0]\n",
    "    t2 = [t[i].strip() for i in range(len(t)) if i%2 ==0]\n",
    "    Geno = [t1[i]+t2[i] for i in range(len(t1))]\n",
    "    \n",
    "    return Geno"
   ]
  },
  {
   "cell_type": "code",
   "execution_count": 242,
   "metadata": {},
   "outputs": [],
   "source": [
    "data = []\n",
    "with open('./data/GWAS_CN_AD12.ped','r') as infile:   \n",
    "    text = infile.read().strip().split('\\n')\n",
    "    for line in text:\n",
    "        gene = line.split(' ')[6:]\n",
    "        PTID = line.split(' ')[1]\n",
    "        AGE = df_GWAS[df_GWAS['PTID'] == PTID].AGE.item()\n",
    "        GENDER = df_GWAS[df_GWAS['PTID'] == PTID].PTGENDER.item()\n",
    "        EDU = df_GWAS[df_GWAS['PTID'] == PTID].PTEDUCAT.item()\n",
    "        DIAG = df_GWAS[df_GWAS['PTID'] == PTID].DX_bl.item()\n",
    "        GENOME = sequence_parser(gene)\n",
    "        output = [PTID] + [AGE] + [GENDER] + [EDU] + [DIAG]+ GENOME\n",
    "        data.append(output)\n",
    "        \n",
    "    "
   ]
  },
  {
   "cell_type": "code",
   "execution_count": 243,
   "metadata": {},
   "outputs": [],
   "source": [
    "with open('./data/top2000_snps.txt') as infile:\n",
    "    snps = infile.read().strip().split('\\n')"
   ]
  },
  {
   "cell_type": "code",
   "execution_count": 244,
   "metadata": {},
   "outputs": [],
   "source": [
    "column_names = ['PTID','AGE','GENDER','EDU']+['DIAG']+snps"
   ]
  },
  {
   "cell_type": "code",
   "execution_count": 245,
   "metadata": {},
   "outputs": [],
   "source": [
    "df_final = pd.DataFrame(data,columns=column_names)\n",
    "df_final.to_csv('./data/GWAS12_data_Dx_bl.csv')"
   ]
  },
  {
   "cell_type": "markdown",
   "metadata": {},
   "source": [
    "# Simple Classifier"
   ]
  },
  {
   "cell_type": "code",
   "execution_count": 296,
   "metadata": {},
   "outputs": [],
   "source": [
    "#Number of top SNPs to take as features\n",
    "N = 500\n",
    "import pandas as pd\n",
    "from collections import Counter"
   ]
  },
  {
   "cell_type": "code",
   "execution_count": 297,
   "metadata": {},
   "outputs": [
    {
     "data": {
      "text/plain": [
       "Counter({'CN': 257, 'AD': 146})"
      ]
     },
     "execution_count": 297,
     "metadata": {},
     "output_type": "execute_result"
    }
   ],
   "source": [
    "df_final = pd.read_csv('./data/GWAS_data_Dx_bl.csv',na_values=[\"00\"])\n",
    "df_final = df_final.iloc[:, 0:N+6] #Only top N snps\n",
    "df_final = df_final.drop(columns=['Unnamed: 0'])\n",
    "df_final.dropna(inplace=True)\n",
    "Counter(df_final.DIAG)"
   ]
  },
  {
   "cell_type": "code",
   "execution_count": 298,
   "metadata": {},
   "outputs": [
    {
     "data": {
      "text/html": [
       "<div>\n",
       "<style scoped>\n",
       "    .dataframe tbody tr th:only-of-type {\n",
       "        vertical-align: middle;\n",
       "    }\n",
       "\n",
       "    .dataframe tbody tr th {\n",
       "        vertical-align: top;\n",
       "    }\n",
       "\n",
       "    .dataframe thead th {\n",
       "        text-align: right;\n",
       "    }\n",
       "</style>\n",
       "<table border=\"1\" class=\"dataframe\">\n",
       "  <thead>\n",
       "    <tr style=\"text-align: right;\">\n",
       "      <th></th>\n",
       "      <th>PTID</th>\n",
       "      <th>AGE</th>\n",
       "      <th>GENDER</th>\n",
       "      <th>EDU</th>\n",
       "      <th>DIAG</th>\n",
       "      <th>rs2075650</th>\n",
       "      <th>rs11253696</th>\n",
       "      <th>rs2136613</th>\n",
       "      <th>rs157580</th>\n",
       "      <th>rs6116375</th>\n",
       "      <th>...</th>\n",
       "      <th>rs2435588</th>\n",
       "      <th>rs13087917</th>\n",
       "      <th>rs6829532</th>\n",
       "      <th>rs2437994</th>\n",
       "      <th>rs17200294</th>\n",
       "      <th>rs17780119</th>\n",
       "      <th>rs338466</th>\n",
       "      <th>rs10248034</th>\n",
       "      <th>rs11144032</th>\n",
       "      <th>rs8062322</th>\n",
       "    </tr>\n",
       "  </thead>\n",
       "  <tbody>\n",
       "    <tr>\n",
       "      <th>0</th>\n",
       "      <td>014_S_0520</td>\n",
       "      <td>77.7</td>\n",
       "      <td>Female</td>\n",
       "      <td>16</td>\n",
       "      <td>CN</td>\n",
       "      <td>GG</td>\n",
       "      <td>GG</td>\n",
       "      <td>TT</td>\n",
       "      <td>CC</td>\n",
       "      <td>CC</td>\n",
       "      <td>...</td>\n",
       "      <td>CT</td>\n",
       "      <td>CC</td>\n",
       "      <td>AA</td>\n",
       "      <td>CT</td>\n",
       "      <td>CC</td>\n",
       "      <td>TT</td>\n",
       "      <td>GG</td>\n",
       "      <td>GA</td>\n",
       "      <td>AA</td>\n",
       "      <td>GT</td>\n",
       "    </tr>\n",
       "    <tr>\n",
       "      <th>1</th>\n",
       "      <td>005_S_1341</td>\n",
       "      <td>71.6</td>\n",
       "      <td>Female</td>\n",
       "      <td>12</td>\n",
       "      <td>AD</td>\n",
       "      <td>GG</td>\n",
       "      <td>GG</td>\n",
       "      <td>TT</td>\n",
       "      <td>CC</td>\n",
       "      <td>CC</td>\n",
       "      <td>...</td>\n",
       "      <td>CC</td>\n",
       "      <td>CT</td>\n",
       "      <td>AC</td>\n",
       "      <td>CC</td>\n",
       "      <td>TT</td>\n",
       "      <td>TG</td>\n",
       "      <td>GG</td>\n",
       "      <td>GA</td>\n",
       "      <td>AA</td>\n",
       "      <td>GT</td>\n",
       "    </tr>\n",
       "    <tr>\n",
       "      <th>3</th>\n",
       "      <td>018_S_0055</td>\n",
       "      <td>75.5</td>\n",
       "      <td>Male</td>\n",
       "      <td>20</td>\n",
       "      <td>CN</td>\n",
       "      <td>GG</td>\n",
       "      <td>GG</td>\n",
       "      <td>TT</td>\n",
       "      <td>CC</td>\n",
       "      <td>CC</td>\n",
       "      <td>...</td>\n",
       "      <td>CT</td>\n",
       "      <td>CC</td>\n",
       "      <td>AA</td>\n",
       "      <td>CC</td>\n",
       "      <td>CC</td>\n",
       "      <td>GG</td>\n",
       "      <td>GG</td>\n",
       "      <td>GG</td>\n",
       "      <td>AA</td>\n",
       "      <td>GG</td>\n",
       "    </tr>\n",
       "    <tr>\n",
       "      <th>4</th>\n",
       "      <td>027_S_0118</td>\n",
       "      <td>80.4</td>\n",
       "      <td>Male</td>\n",
       "      <td>20</td>\n",
       "      <td>CN</td>\n",
       "      <td>GG</td>\n",
       "      <td>GG</td>\n",
       "      <td>TT</td>\n",
       "      <td>CC</td>\n",
       "      <td>CT</td>\n",
       "      <td>...</td>\n",
       "      <td>CC</td>\n",
       "      <td>CT</td>\n",
       "      <td>AC</td>\n",
       "      <td>CC</td>\n",
       "      <td>TT</td>\n",
       "      <td>GG</td>\n",
       "      <td>GG</td>\n",
       "      <td>GG</td>\n",
       "      <td>AA</td>\n",
       "      <td>GG</td>\n",
       "    </tr>\n",
       "    <tr>\n",
       "      <th>5</th>\n",
       "      <td>027_S_0403</td>\n",
       "      <td>76.3</td>\n",
       "      <td>Male</td>\n",
       "      <td>16</td>\n",
       "      <td>CN</td>\n",
       "      <td>GG</td>\n",
       "      <td>GG</td>\n",
       "      <td>TT</td>\n",
       "      <td>CC</td>\n",
       "      <td>CC</td>\n",
       "      <td>...</td>\n",
       "      <td>CC</td>\n",
       "      <td>CC</td>\n",
       "      <td>AA</td>\n",
       "      <td>CC</td>\n",
       "      <td>TT</td>\n",
       "      <td>TT</td>\n",
       "      <td>GG</td>\n",
       "      <td>GG</td>\n",
       "      <td>AA</td>\n",
       "      <td>GT</td>\n",
       "    </tr>\n",
       "    <tr>\n",
       "      <th>...</th>\n",
       "      <td>...</td>\n",
       "      <td>...</td>\n",
       "      <td>...</td>\n",
       "      <td>...</td>\n",
       "      <td>...</td>\n",
       "      <td>...</td>\n",
       "      <td>...</td>\n",
       "      <td>...</td>\n",
       "      <td>...</td>\n",
       "      <td>...</td>\n",
       "      <td>...</td>\n",
       "      <td>...</td>\n",
       "      <td>...</td>\n",
       "      <td>...</td>\n",
       "      <td>...</td>\n",
       "      <td>...</td>\n",
       "      <td>...</td>\n",
       "      <td>...</td>\n",
       "      <td>...</td>\n",
       "      <td>...</td>\n",
       "      <td>...</td>\n",
       "    </tr>\n",
       "    <tr>\n",
       "      <th>536</th>\n",
       "      <td>024_S_4158</td>\n",
       "      <td>84.3</td>\n",
       "      <td>Male</td>\n",
       "      <td>18</td>\n",
       "      <td>CN</td>\n",
       "      <td>GG</td>\n",
       "      <td>GT</td>\n",
       "      <td>TT</td>\n",
       "      <td>CC</td>\n",
       "      <td>TT</td>\n",
       "      <td>...</td>\n",
       "      <td>TT</td>\n",
       "      <td>CT</td>\n",
       "      <td>AA</td>\n",
       "      <td>CC</td>\n",
       "      <td>CT</td>\n",
       "      <td>GG</td>\n",
       "      <td>GG</td>\n",
       "      <td>GA</td>\n",
       "      <td>AA</td>\n",
       "      <td>GG</td>\n",
       "    </tr>\n",
       "    <tr>\n",
       "      <th>537</th>\n",
       "      <td>024_S_4223</td>\n",
       "      <td>75.8</td>\n",
       "      <td>Male</td>\n",
       "      <td>16</td>\n",
       "      <td>AD</td>\n",
       "      <td>GG</td>\n",
       "      <td>GG</td>\n",
       "      <td>TT</td>\n",
       "      <td>CC</td>\n",
       "      <td>CC</td>\n",
       "      <td>...</td>\n",
       "      <td>CT</td>\n",
       "      <td>CC</td>\n",
       "      <td>AA</td>\n",
       "      <td>CC</td>\n",
       "      <td>CC</td>\n",
       "      <td>TG</td>\n",
       "      <td>GG</td>\n",
       "      <td>GG</td>\n",
       "      <td>AA</td>\n",
       "      <td>GG</td>\n",
       "    </tr>\n",
       "    <tr>\n",
       "      <th>539</th>\n",
       "      <td>018_S_4400</td>\n",
       "      <td>71.1</td>\n",
       "      <td>Male</td>\n",
       "      <td>20</td>\n",
       "      <td>CN</td>\n",
       "      <td>AA</td>\n",
       "      <td>GT</td>\n",
       "      <td>TC</td>\n",
       "      <td>CC</td>\n",
       "      <td>CT</td>\n",
       "      <td>...</td>\n",
       "      <td>TT</td>\n",
       "      <td>CC</td>\n",
       "      <td>AA</td>\n",
       "      <td>CC</td>\n",
       "      <td>CC</td>\n",
       "      <td>TT</td>\n",
       "      <td>GG</td>\n",
       "      <td>GG</td>\n",
       "      <td>AA</td>\n",
       "      <td>TT</td>\n",
       "    </tr>\n",
       "    <tr>\n",
       "      <th>541</th>\n",
       "      <td>041_S_4014</td>\n",
       "      <td>80.7</td>\n",
       "      <td>Male</td>\n",
       "      <td>16</td>\n",
       "      <td>CN</td>\n",
       "      <td>GG</td>\n",
       "      <td>GG</td>\n",
       "      <td>TT</td>\n",
       "      <td>CC</td>\n",
       "      <td>CT</td>\n",
       "      <td>...</td>\n",
       "      <td>CT</td>\n",
       "      <td>CT</td>\n",
       "      <td>AC</td>\n",
       "      <td>TT</td>\n",
       "      <td>CT</td>\n",
       "      <td>TG</td>\n",
       "      <td>GG</td>\n",
       "      <td>GG</td>\n",
       "      <td>AA</td>\n",
       "      <td>GT</td>\n",
       "    </tr>\n",
       "    <tr>\n",
       "      <th>544</th>\n",
       "      <td>033_S_4176</td>\n",
       "      <td>84.0</td>\n",
       "      <td>Male</td>\n",
       "      <td>20</td>\n",
       "      <td>CN</td>\n",
       "      <td>GG</td>\n",
       "      <td>GG</td>\n",
       "      <td>TT</td>\n",
       "      <td>CC</td>\n",
       "      <td>CC</td>\n",
       "      <td>...</td>\n",
       "      <td>CT</td>\n",
       "      <td>CT</td>\n",
       "      <td>AA</td>\n",
       "      <td>CC</td>\n",
       "      <td>TT</td>\n",
       "      <td>TT</td>\n",
       "      <td>GG</td>\n",
       "      <td>GG</td>\n",
       "      <td>AA</td>\n",
       "      <td>GG</td>\n",
       "    </tr>\n",
       "  </tbody>\n",
       "</table>\n",
       "<p>403 rows × 505 columns</p>\n",
       "</div>"
      ],
      "text/plain": [
       "           PTID   AGE  GENDER  EDU DIAG rs2075650 rs11253696 rs2136613  \\\n",
       "0    014_S_0520  77.7  Female   16   CN        GG         GG        TT   \n",
       "1    005_S_1341  71.6  Female   12   AD        GG         GG        TT   \n",
       "3    018_S_0055  75.5    Male   20   CN        GG         GG        TT   \n",
       "4    027_S_0118  80.4    Male   20   CN        GG         GG        TT   \n",
       "5    027_S_0403  76.3    Male   16   CN        GG         GG        TT   \n",
       "..          ...   ...     ...  ...  ...       ...        ...       ...   \n",
       "536  024_S_4158  84.3    Male   18   CN        GG         GT        TT   \n",
       "537  024_S_4223  75.8    Male   16   AD        GG         GG        TT   \n",
       "539  018_S_4400  71.1    Male   20   CN        AA         GT        TC   \n",
       "541  041_S_4014  80.7    Male   16   CN        GG         GG        TT   \n",
       "544  033_S_4176  84.0    Male   20   CN        GG         GG        TT   \n",
       "\n",
       "    rs157580 rs6116375  ... rs2435588 rs13087917 rs6829532 rs2437994  \\\n",
       "0         CC        CC  ...        CT         CC        AA        CT   \n",
       "1         CC        CC  ...        CC         CT        AC        CC   \n",
       "3         CC        CC  ...        CT         CC        AA        CC   \n",
       "4         CC        CT  ...        CC         CT        AC        CC   \n",
       "5         CC        CC  ...        CC         CC        AA        CC   \n",
       "..       ...       ...  ...       ...        ...       ...       ...   \n",
       "536       CC        TT  ...        TT         CT        AA        CC   \n",
       "537       CC        CC  ...        CT         CC        AA        CC   \n",
       "539       CC        CT  ...        TT         CC        AA        CC   \n",
       "541       CC        CT  ...        CT         CT        AC        TT   \n",
       "544       CC        CC  ...        CT         CT        AA        CC   \n",
       "\n",
       "    rs17200294 rs17780119 rs338466 rs10248034 rs11144032 rs8062322  \n",
       "0           CC         TT       GG         GA         AA        GT  \n",
       "1           TT         TG       GG         GA         AA        GT  \n",
       "3           CC         GG       GG         GG         AA        GG  \n",
       "4           TT         GG       GG         GG         AA        GG  \n",
       "5           TT         TT       GG         GG         AA        GT  \n",
       "..         ...        ...      ...        ...        ...       ...  \n",
       "536         CT         GG       GG         GA         AA        GG  \n",
       "537         CC         TG       GG         GG         AA        GG  \n",
       "539         CC         TT       GG         GG         AA        TT  \n",
       "541         CT         TG       GG         GG         AA        GT  \n",
       "544         TT         TT       GG         GG         AA        GG  \n",
       "\n",
       "[403 rows x 505 columns]"
      ]
     },
     "execution_count": 298,
     "metadata": {},
     "output_type": "execute_result"
    }
   ],
   "source": [
    "df_final"
   ]
  },
  {
   "cell_type": "code",
   "execution_count": 299,
   "metadata": {},
   "outputs": [],
   "source": [
    "from sklearn.preprocessing import OneHotEncoder\n",
    "from sklearn.preprocessing import LabelBinarizer\n",
    "df = df_final"
   ]
  },
  {
   "cell_type": "code",
   "execution_count": 300,
   "metadata": {},
   "outputs": [],
   "source": [
    "# https://machinelearningmastery.com/feature-selection-with-categorical-data/\n",
    "from pandas import read_csv\n",
    "from sklearn.model_selection import train_test_split\n",
    "from sklearn.preprocessing import LabelEncoder\n",
    "from sklearn.preprocessing import OneHotEncoder\n",
    "from scipy.sparse import hstack\n",
    "\n",
    "# load the dataset\n",
    "def load_dataset(df):\n",
    "    # load the dataset as a pandas DataFrame\n",
    "    data = df\n",
    "    y = data.DIAG.values\n",
    "    age = data.AGE.values\n",
    "    edu = data.EDU.values\n",
    "    X = data.drop(columns=['PTID','AGE','EDU','DIAG']) #Only keep the string data type\n",
    "    # format all fields as string\n",
    "    X = X.astype(str)\n",
    "    return X, y, age, edu\n",
    " \n",
    "# prepare input data\n",
    "def prepare_inputs(X):\n",
    "    oe = OneHotEncoder()\n",
    "    oe.fit(X)\n",
    "    X_enc = oe.transform(X)\n",
    "    return X_enc\n",
    " \n",
    "# prepare target\n",
    "def prepare_targets(y):\n",
    "    le = LabelEncoder()\n",
    "    le.fit(y)\n",
    "    y = le.transform(y)\n",
    "    return y\n",
    " \n",
    "# load the dataset\n",
    "X, y, age, edu = load_dataset(df)\n",
    "X_enc = prepare_inputs(X)\n",
    "y_enc = prepare_targets(y)\n",
    "\n",
    "X_enc_age = hstack((X_enc,np.array(age)[:,None]))\n",
    "X_enc_age_edu = hstack((X_enc_age,np.array(edu)[:,None]))\n",
    "\n",
    "# split into train and test sets\n",
    "X_train, X_test, y_train, y_test = train_test_split(X_enc, y_enc, test_size=0.33, random_state=1)"
   ]
  },
  {
   "cell_type": "markdown",
   "metadata": {},
   "source": [
    "# Grid Search"
   ]
  },
  {
   "cell_type": "markdown",
   "metadata": {},
   "source": [
    "#https://machinelearningmastery.com/hyperparameter-optimization-with-random-search-and-grid-search/"
   ]
  },
  {
   "cell_type": "code",
   "execution_count": 318,
   "metadata": {},
   "outputs": [],
   "source": [
    "from sklearn.model_selection import RepeatedStratifiedKFold\n",
    "from sklearn.model_selection import GridSearchCV\n",
    "from sklearn.model_selection import RandomizedSearchCV\n",
    "from sklearn.ensemble import (RandomForestClassifier,\n",
    "                              GradientBoostingClassifier)"
   ]
  },
  {
   "cell_type": "code",
   "execution_count": 319,
   "metadata": {},
   "outputs": [
    {
     "name": "stdout",
     "output_type": "stream",
     "text": [
      "Best Score: 0.895096941222702\n",
      "Best Hyperparameters: {'n_estimators': 3000}\n"
     ]
    }
   ],
   "source": [
    "X, y = X_enc_age_edu, y_enc\n",
    "# define model\n",
    "model = GradientBoostingClassifier()\n",
    "# define evaluation\n",
    "cv = RepeatedStratifiedKFold(n_splits=5, n_repeats=3, random_state=1)\n",
    "# define search space\n",
    "space = dict()\n",
    "space['n_estimators'] = [1500,2000,2100,2200,2500,3000]\n",
    "\n",
    "scoring = {'AUC': 'roc_auc', 'Balanced Accuracy':'balanced_accuracy'}\n",
    "# define search\n",
    "search = GridSearchCV(model, space,n_jobs=-1, cv=cv,scoring=scoring, refit='AUC', return_train_score=True)\n",
    "# execute search\n",
    "result = search.fit(X, y)\n",
    "# summarize result\n",
    "print('Best Score: %s' % result.best_score_)\n",
    "print('Best Hyperparameters: %s' % result.best_params_)"
   ]
  },
  {
   "cell_type": "code",
   "execution_count": 320,
   "metadata": {},
   "outputs": [],
   "source": [
    "results = search.cv_results_"
   ]
  },
  {
   "cell_type": "code",
   "execution_count": 321,
   "metadata": {},
   "outputs": [
    {
     "name": "stdout",
     "output_type": "stream",
     "text": [
      "Automatically created module for IPython interactive environment\n"
     ]
    },
    {
     "data": {
      "image/png": "[encoded data removed]",
      "text/plain": [
       "<Figure size 936x936 with 1 Axes>"
      ]
     },
     "metadata": {
      "needs_background": "light"
     },
     "output_type": "display_data"
    }
   ],
   "source": [
    "#https://scikit-learn.org/stable/auto_examples/model_selection/plot_multi_metric_evaluation.html#sphx-glr-auto-examples-model-selection-plot-multi-metric-evaluation-py\n",
    "\n",
    "# Author: Raghav RV <rvraghav93@gmail.com>\n",
    "# License: BSD\n",
    "\n",
    "results = search.cv_results_\n",
    "\n",
    "import numpy as np\n",
    "from matplotlib import pyplot as plt\n",
    "\n",
    "from sklearn.datasets import make_hastie_10_2\n",
    "from sklearn.model_selection import GridSearchCV\n",
    "from sklearn.metrics import make_scorer\n",
    "from sklearn.metrics import accuracy_score\n",
    "from sklearn.tree import DecisionTreeClassifier\n",
    "\n",
    "print(__doc__)\n",
    "\n",
    "\n",
    "plt.figure(figsize=(13, 13))\n",
    "plt.title(\"GridSearchCV evaluating using multiple scorers simultaneously\",\n",
    "          fontsize=16)\n",
    "\n",
    "plt.xlabel(\"param_n_estimators\")\n",
    "plt.ylabel(\"Score\")\n",
    "\n",
    "ax = plt.gca()\n",
    "ax.set_xlim(1500, 3002)\n",
    "ax.set_ylim(0.50, 1)\n",
    "\n",
    "# Get the regular numpy array from the MaskedArray\n",
    "X_axis = np.array(results['param_n_estimators'].data, dtype=float)\n",
    "\n",
    "for scorer, color in zip(sorted(scoring), ['g', 'k']):\n",
    "    for sample, style in (('train', '--'), ('test', '-')):\n",
    "        sample_score_mean = results['mean_%s_%s' % (sample, scorer)]\n",
    "        sample_score_std = results['std_%s_%s' % (sample, scorer)]\n",
    "        ax.fill_between(X_axis, sample_score_mean - sample_score_std,\n",
    "                        sample_score_mean + sample_score_std,\n",
    "                        alpha=0.1 if sample == 'test' else 0, color=color)\n",
    "        ax.plot(X_axis, sample_score_mean, style, color=color,\n",
    "                alpha=1 if sample == 'test' else 0.7,\n",
    "                label=\"%s (%s)\" % (scorer, sample))\n",
    "\n",
    "    best_index = np.nonzero(results['rank_test_%s' % scorer] == 1)[0][0]\n",
    "    best_score = results['mean_test_%s' % scorer][best_index]\n",
    "\n",
    "    # Plot a dotted vertical line at the best score for that scorer marked by x\n",
    "    ax.plot([X_axis[best_index], ] * 2, [0, best_score],\n",
    "            linestyle='-.', color=color, marker='x', markeredgewidth=3, ms=8)\n",
    "\n",
    "    # Annotate the best score for that scorer\n",
    "    ax.annotate(\"%0.2f\" % best_score,\n",
    "                (X_axis[best_index], best_score + 0.005))\n",
    "\n",
    "plt.legend(loc=\"best\")\n",
    "plt.grid(False)\n",
    "plt.show()\n"
   ]
  },
  {
   "cell_type": "code",
   "execution_count": 277,
   "metadata": {},
   "outputs": [],
   "source": [
    "# from sklearn.ensemble import (RandomForestClassifier,\n",
    "#                               GradientBoostingClassifier)\n",
    "\n",
    "# def classifier(name,n_estimators=100):\n",
    "#     if name == 'RandomForestClassifier':\n",
    "#         return RandomForestClassifier(n_estimators=n_estimators,criterion='gini',class_weight='balanced')\n",
    "    \n",
    "#     if name == 'GradientBoosting':\n",
    "#         return GradientBoostingClassifier(n_estimators=n_estimators)\n",
    "    \n",
    "#     else:\n",
    "#         raise NotImplementedError(\"This classifier is not implemented yet. Please choose from [RandomForest, GradientBoosting]\")\n",
    "        "
   ]
  },
  {
   "cell_type": "code",
   "execution_count": 305,
   "metadata": {},
   "outputs": [],
   "source": [
    "# import numpy as np\n",
    "# from sklearn.metrics import roc_curve, auc, f1_score, roc_auc_score, balanced_accuracy_score\n",
    "# n_estimators = 2100\n",
    "# model = classifier('GradientBoosting', n_estimators)\n",
    "# probas_ = model.fit(X_train, y_train).predict_proba(X_test)\n",
    "# y_pred = model.predict(X_test)\n",
    "# acc = balanced_accuracy_score(y_test, y_pred)\n",
    "# f1 = f1_score(y_test, y_pred, average='macro')\n",
    "# auc_score = roc_auc_score(y_test, probas_[:, 1])\t    \t\n",
    "# importance =  model.feature_importances_\n",
    "# #print(acc)\n",
    "# #print(auc_score)"
   ]
  }
 ],
 "metadata": {
  "kernelspec": {
   "display_name": "Python 3",
   "language": "python",
   "name": "python3"
  },
  "language_info": {
   "codemirror_mode": {
    "name": "ipython",
    "version": 3
   },
   "file_extension": ".py",
   "mimetype": "text/x-python",
   "name": "python",
   "nbconvert_exporter": "python",
   "pygments_lexer": "ipython3",
   "version": "3.8.3"
  }
 },
 "nbformat": 4,
 "nbformat_minor": 4
}
