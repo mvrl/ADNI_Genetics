{
 "cells": [
  {
   "cell_type": "code",
   "execution_count": 1,
   "metadata": {},
   "outputs": [],
   "source": [
    "from collections import Counter\n",
    "import os\n",
    "import pandas as pd\n",
    "from collections import Counter\n",
    "from sklearn.preprocessing import LabelBinarizer\n",
    "from sklearn.model_selection import RepeatedStratifiedKFold\n",
    "from sklearn.feature_selection import RFECV\n",
    "from sklearn.ensemble import (RandomForestClassifier,\n",
    "                              GradientBoostingClassifier)\n",
    "from sklearn.model_selection import RandomizedSearchCV\n",
    "from imblearn.pipeline import Pipeline\n",
    "from imblearn.over_sampling import ADASYN, SMOTE, SMOTENC\n",
    "import numpy as np\n",
    "from matplotlib import pyplot as plt\n",
    "from sklearn.model_selection import GridSearchCV\n",
    "from sklearn.metrics import make_scorer\n",
    "from sklearn.metrics import accuracy_score\n",
    "from sklearn.metrics import roc_curve, auc, f1_score, roc_auc_score, balanced_accuracy_score"
   ]
  },
  {
   "cell_type": "markdown",
   "metadata": {},
   "source": [
    "## Data Preparation"
   ]
  },
  {
   "cell_type": "code",
   "execution_count": 2,
   "metadata": {},
   "outputs": [],
   "source": [
    "#os.listdir('./data/')"
   ]
  },
  {
   "cell_type": "markdown",
   "metadata": {},
   "source": [
    "In terminal at current directory where association files from GWAS run in PLINK are present run:\n",
    "\n",
    "head -2000 logistic_results.assoc_2.logistic.adjusted | awk '{ print $2 }' >> top2000_snps.txt \n",
    "\n",
    "top2000_snps.txt has the top 2000 SNPs associated with CN_AD GWAS logistic analysis\n",
    "\n",
    "Now extract only the top 2000 snps geneomic data for CN_AD subjects {in GWAS_ADNI/CN_AD/QualityControl/}\n",
    "\n",
    "plink --bfile GWAS_1_2_3_clean_CN_AD12 --make-bed --out GWAS_1_2_3_final_CN_AD12 #to make sure the files are sorted\n",
    "\n",
    "NOTE: GWAS_1_2_3_clean_CN_AD12 is the final plink file set obtained after Quality Control Analysis\n",
    "\n",
    "plink --bfile GWAS_1_2_3_final_CN_AD12 --extract top2000_snps.txt --recode --make-bed --out GWAS_CN_AD12"
   ]
  },
  {
   "cell_type": "markdown",
   "metadata": {},
   "source": [
    "Finally we have GWAS_CN_AD12.ped file which contain genotype information in single line for each subject\n",
    "\n",
    "FID,IID,FatherID,MotherID,Sex,Phenotype,Genotype:{Minor allele, Major allele} Sequence\n",
    "starting from column 7 In the the form of pair minor allele and major allele. \n",
    "\n",
    "Which means\n",
    "\n",
    "minor allele for snp1 is 7 and major allele for snp1 is 8;\n",
    "\n",
    "minor allele for snp1 is 9 and major allele for snp1 is 10; \n",
    "\n",
    "and so on\n",
    "\n",
    "Note: The missing genotypes are encoded with 00"
   ]
  },
  {
   "cell_type": "code",
   "execution_count": 3,
   "metadata": {},
   "outputs": [],
   "source": [
    "df = pd.read_csv('./data/ADNIMERGE.csv',low_memory=False)\n",
    "df_bl = df[df['VISCODE']=='bl']"
   ]
  },
  {
   "cell_type": "code",
   "execution_count": 4,
   "metadata": {},
   "outputs": [
    {
     "name": "stdout",
     "output_type": "stream",
     "text": [
      "Counter({'LMCI': 651, 'CN': 518, 'AD': 398, 'EMCI': 389, 'SMC': 301, nan: 12})\n"
     ]
    }
   ],
   "source": [
    "print(Counter(df[df['VISCODE']=='bl']['DX_bl']))"
   ]
  },
  {
   "cell_type": "code",
   "execution_count": 5,
   "metadata": {},
   "outputs": [],
   "source": [
    "with open('./data/GWAS_CN_AD12.fam','r') as infile:\n",
    "    text = infile.read().strip().split('\\n')\n",
    "\n",
    "PTID = [line.strip().split(' ')[1] for line in text]\n",
    "    "
   ]
  },
  {
   "cell_type": "code",
   "execution_count": 6,
   "metadata": {},
   "outputs": [],
   "source": [
    "df_GWAS = df_bl[pd.DataFrame(df_bl.PTID.tolist()).isin(PTID).any(1).values]"
   ]
  },
  {
   "cell_type": "code",
   "execution_count": 7,
   "metadata": {},
   "outputs": [
    {
     "name": "stdout",
     "output_type": "stream",
     "text": [
      "True\n"
     ]
    }
   ],
   "source": [
    "print(set(df_GWAS.PTID) == set(PTID))"
   ]
  },
  {
   "cell_type": "code",
   "execution_count": 8,
   "metadata": {},
   "outputs": [
    {
     "name": "stdout",
     "output_type": "stream",
     "text": [
      "Counter({'CN': 325, 'AD': 195})\n"
     ]
    }
   ],
   "source": [
    "print(Counter(df_GWAS['DX_bl']))"
   ]
  },
  {
   "cell_type": "markdown",
   "metadata": {},
   "source": [
    "Prepare Genotype dataset as a matrix (195+325) x (2000 + 1(age) + 1(gender) + 1(education) + 1(Baseline Diagnosis) ) = 520 x 2004"
   ]
  },
  {
   "cell_type": "code",
   "execution_count": 9,
   "metadata": {},
   "outputs": [],
   "source": [
    "def sequence_parser(t):\n",
    "    \n",
    "    t1 = [t[i].strip() for i in range(len(t)) if i%2 !=0]\n",
    "    t2 = [t[i].strip() for i in range(len(t)) if i%2 ==0]\n",
    "    Geno = [t1[i]+t2[i] for i in range(len(t1))]\n",
    "    \n",
    "    return Geno"
   ]
  },
  {
   "cell_type": "code",
   "execution_count": 10,
   "metadata": {},
   "outputs": [],
   "source": [
    "data = []\n",
    "with open('./data/GWAS_CN_AD12.ped','r') as infile:   \n",
    "    text = infile.read().strip().split('\\n')\n",
    "    for line in text:\n",
    "        gene = line.split(' ')[6:]\n",
    "        PTID = line.split(' ')[1]\n",
    "        AGE = df_GWAS[df_GWAS['PTID'] == PTID].AGE.item()\n",
    "        GENDER = df_GWAS[df_GWAS['PTID'] == PTID].PTGENDER.item()\n",
    "        EDU = df_GWAS[df_GWAS['PTID'] == PTID].PTEDUCAT.item()\n",
    "        DIAG = df_GWAS[df_GWAS['PTID'] == PTID].DX_bl.item()\n",
    "        GENOME = sequence_parser(gene)\n",
    "        output = [PTID] + [AGE] + [GENDER] + [EDU] + [DIAG]+ GENOME\n",
    "        data.append(output)\n",
    "        \n",
    "    "
   ]
  },
  {
   "cell_type": "code",
   "execution_count": 11,
   "metadata": {},
   "outputs": [],
   "source": [
    "with open('./data/top2000_snps.txt') as infile:\n",
    "    snps = infile.read().strip().split('\\n')"
   ]
  },
  {
   "cell_type": "code",
   "execution_count": 12,
   "metadata": {},
   "outputs": [],
   "source": [
    "column_names = ['PTID','AGE','GENDER','EDU']+['DIAG']+snps"
   ]
  },
  {
   "cell_type": "code",
   "execution_count": 13,
   "metadata": {},
   "outputs": [],
   "source": [
    "df_final = pd.DataFrame(data,columns=column_names)\n",
    "df_final.to_csv('./data/GWAS12_data_Dx_bl.csv')"
   ]
  },
  {
   "cell_type": "code",
   "execution_count": 14,
   "metadata": {},
   "outputs": [],
   "source": [
    "#Number of top SNPs to take as features\n",
    "N = 50\n",
    "import pandas as pd\n",
    "from collections import Counter"
   ]
  },
  {
   "cell_type": "code",
   "execution_count": 15,
   "metadata": {},
   "outputs": [
    {
     "name": "stdout",
     "output_type": "stream",
     "text": [
      "Counter({'CN': 319, 'AD': 188})\n"
     ]
    }
   ],
   "source": [
    "df_final = pd.read_csv('./data/GWAS_data_Dx_bl.csv',na_values=[\"00\"])\n",
    "df_final = df_final.iloc[:, 0:N+6] #Only top N snps\n",
    "df_final = df_final.drop(columns=['Unnamed: 0'])\n",
    "df_final.dropna(inplace=True)\n",
    "print(Counter(df_final.DIAG))"
   ]
  },
  {
   "cell_type": "code",
   "execution_count": 16,
   "metadata": {},
   "outputs": [
    {
     "name": "stdout",
     "output_type": "stream",
     "text": [
      "(507, 154) (507,)\n"
     ]
    }
   ],
   "source": [
    "from sklearn.preprocessing import LabelBinarizer\n",
    "def prepare_targets(y):\n",
    "    le = LabelBinarizer()\n",
    "    le.fit(y)\n",
    "    y = le.transform(y)\n",
    "    return y\n",
    "\n",
    "#Very inefficient approach! but is easier to visualize in my head\n",
    "def data_prep(df): #This takes the dataframe and returns the one hot encoded expansion of input features\n",
    "    target = prepare_targets(list(df.DIAG))\n",
    "    df1 = df.drop(columns=['PTID','DIAG']).reset_index(drop=True) #Patient ID and DIAG not needed\n",
    "    num_cols = ['AGE','EDU']\n",
    "    cat_cols = list(set(df1.columns) - set(num_cols)) #Categorical features\n",
    "    expand_cat = ['AGE','EDU'] #List of expanded categorical columns\n",
    "    for cat in cat_cols:\n",
    "        expand_cat = expand_cat + [str(cat)+'_'+ c for c in list(set(df1[cat]))]\n",
    "    df_out = pd.DataFrame(columns=list(expand_cat))\n",
    "    df_out['AGE'] = df1.AGE\n",
    "    df_out['EDU'] = df1.EDU\n",
    "    for i in range(len(df1)):\n",
    "        row = df1.iloc[i]\n",
    "        for col in cat_cols:\n",
    "            item = row[col]\n",
    "            df_out.at[i,str(col)+'_'+ item] = str(1)\n",
    "        \n",
    "    df_out = df_out.fillna(str(0))\n",
    "    return df_out, target.ravel()\n",
    "df, y = data_prep(df_final)\n",
    "print(df.shape, y.shape)"
   ]
  },
  {
   "cell_type": "markdown",
   "metadata": {},
   "source": [
    "## Recursive Feature Selections"
   ]
  },
  {
   "cell_type": "code",
   "execution_count": 25,
   "metadata": {},
   "outputs": [],
   "source": [
    "estimator = GradientBoostingClassifier(random_state=1,n_estimators=2*df.shape[1])\n",
    "cv = RepeatedStratifiedKFold(n_splits=5, n_repeats=3, random_state=1)\n",
    "selector = RFECV(estimator, n_jobs=-1,step=1, cv=cv)\n",
    "selector = selector.fit(df, y)"
   ]
  },
  {
   "cell_type": "code",
   "execution_count": 18,
   "metadata": {},
   "outputs": [
    {
     "name": "stdout",
     "output_type": "stream",
     "text": [
      "(507, 114)\n"
     ]
    }
   ],
   "source": [
    "df = df.loc[:, selector.support_]\n",
    "print(df.shape)"
   ]
  },
  {
   "cell_type": "code",
   "execution_count": 19,
   "metadata": {},
   "outputs": [],
   "source": [
    "final_N = df.shape[1]"
   ]
  },
  {
   "cell_type": "code",
   "execution_count": 20,
   "metadata": {},
   "outputs": [],
   "source": [
    "cat_columns = list(set(df.columns) - set(['AGE','EDU']))"
   ]
  },
  {
   "cell_type": "code",
   "execution_count": 21,
   "metadata": {},
   "outputs": [],
   "source": [
    "cat_columns_index = range(2,df.shape[1])"
   ]
  },
  {
   "cell_type": "markdown",
   "metadata": {},
   "source": [
    "# Classifier"
   ]
  },
  {
   "cell_type": "markdown",
   "metadata": {},
   "source": [
    "## Hyperparameters Grid Search"
   ]
  },
  {
   "cell_type": "markdown",
   "metadata": {},
   "source": [
    "Adapted from https://machinelearningmastery.com/hyperparameter-optimization-with-random-search-and-grid-search/"
   ]
  },
  {
   "cell_type": "code",
   "execution_count": 23,
   "metadata": {},
   "outputs": [
    {
     "name": "stdout",
     "output_type": "stream",
     "text": [
      "Best Score: 0.7600271791885072\n",
      "Best Hyperparameters: {'n_estimators': 250}\n",
      "Automatically created module for IPython interactive environment\n"
     ]
    },
    {
     "data": {
      "image/png": "[encoded data removed]",
      "text/plain": [
       "<Figure size 936x936 with 1 Axes>"
      ]
     },
     "metadata": {
      "needs_background": "light"
     },
     "output_type": "display_data"
    }
   ],
   "source": [
    "#Adapted from #https://scikit-learn.org/stable/auto_examples/model_selection/plot_multi_metric_evaluation.html#sphx-glr-auto-examples-model-selection-plot-multi-metric-evaluation-py\n",
    "\n",
    "# Author: Raghav RV <rvraghav93@gmail.com>\n",
    "# License: BSD\n",
    "groups = 'CN_AD'\n",
    "model = Pipeline([\n",
    "        ('sampling', SMOTENC(sampling_strategy=0.7, k_neighbors=7, categorical_features = cat_columns_index,random_state=1)),\n",
    "        ('classifier', GradientBoostingClassifier(random_state=1))\n",
    "    ])\n",
    "space = dict()\n",
    "X, y = df, y\n",
    "# define model\n",
    "model = GradientBoostingClassifier(random_state=1)\n",
    "# define evaluation\n",
    "cv = RepeatedStratifiedKFold(n_splits=5, n_repeats=3, random_state=1)\n",
    "# define search space\n",
    "space = dict()\n",
    "space['n_estimators'] = range(50,5*X.shape[1],50)\n",
    "\n",
    "scoring = {'AUC': 'roc_auc', 'Accuracy':'accuracy'}\n",
    "# define search\n",
    "search = GridSearchCV(model, space,n_jobs=-1, cv=cv,scoring=scoring, refit='Accuracy', return_train_score=True)\n",
    "# execute search\n",
    "result = search.fit(X, y)\n",
    "# summarize result\n",
    "print('Best Score: %s' % result.best_score_)\n",
    "print('Best Hyperparameters: %s' % result.best_params_)\n",
    "results = search.cv_results_\n",
    "\n",
    "print(__doc__)\n",
    "plt.figure(figsize=(13, 13))\n",
    "plt.title(\"GridSearchCV evaluating using multiple scorers simultaneously\",\n",
    "          fontsize=16)\n",
    "\n",
    "plt.xlabel(\"param_n_estimators\")\n",
    "plt.ylabel(\"Score\")\n",
    "\n",
    "ax = plt.gca()\n",
    "ax.set_xlim(min(space['n_estimators']), max(space['n_estimators'])+2)\n",
    "ax.set_ylim(0.50, 1)\n",
    "\n",
    "# Get the regular numpy array from the MaskedArray\n",
    "X_axis = np.array(results['param_n_estimators'].data, dtype=float)\n",
    "\n",
    "for scorer, color in zip(sorted(scoring), ['g', 'k']):\n",
    "    for sample, style in (('train', '--'), ('test', '-')):\n",
    "        sample_score_mean = results['mean_%s_%s' % (sample, scorer)]\n",
    "        sample_score_std = results['std_%s_%s' % (sample, scorer)]\n",
    "        ax.fill_between(X_axis, sample_score_mean - sample_score_std,\n",
    "                        sample_score_mean + sample_score_std,\n",
    "                        alpha=0.1 if sample == 'test' else 0, color=color)\n",
    "        ax.plot(X_axis, sample_score_mean, style, color=color,\n",
    "                alpha=1 if sample == 'test' else 0.7,\n",
    "                label=\"%s (%s)\" % (scorer, sample))\n",
    "\n",
    "    best_index = np.nonzero(results['rank_test_%s' % scorer] == 1)[0][0]\n",
    "    best_score = results['mean_test_%s' % scorer][best_index]\n",
    "\n",
    "    # Plot a dotted vertical line at the best score for that scorer marked by x\n",
    "    ax.plot([X_axis[best_index], ] * 2, [0, best_score],\n",
    "            linestyle='-.', color=color, marker='x', markeredgewidth=3, ms=8)\n",
    "\n",
    "    # Annotate the best score for that scorer\n",
    "    ax.annotate(\"%0.2f\" % best_score,\n",
    "                (X_axis[best_index], best_score + 0.005))\n",
    "\n",
    "plt.legend(loc=\"best\")\n",
    "plt.grid(False)\n",
    "plt.savefig('./results/Grid_search_Using_Genomic_for:'+groups+'.png')"
   ]
  },
  {
   "cell_type": "markdown",
   "metadata": {},
   "source": [
    "## Final Run and Save Results"
   ]
  },
  {
   "cell_type": "code",
   "execution_count": 24,
   "metadata": {},
   "outputs": [
    {
     "data": {
      "image/png": "[encoded data removed]",
      "text/plain": [
       "<Figure size 432x288 with 1 Axes>"
      ]
     },
     "metadata": {
      "needs_background": "light"
     },
     "output_type": "display_data"
    },
    {
     "name": "stdout",
     "output_type": "stream",
     "text": [
      "for total of  114 Features\n",
      "Mean Balanced Accuracy: 0.7324406761084393\n",
      "Mean AUC: 0.8217884472818683\n",
      "END OF THE EXPERIMENT\n"
     ]
    },
    {
     "data": {
      "text/plain": [
       "<Figure size 432x288 with 0 Axes>"
      ]
     },
     "metadata": {},
     "output_type": "display_data"
    }
   ],
   "source": [
    "tprs = []\n",
    "aucs = []\n",
    "acc = []\n",
    "imp = []\n",
    "mean_fpr = np.linspace(0, 1, 100)\n",
    "cv = RepeatedStratifiedKFold(n_splits=5, n_repeats=3, random_state=1)\n",
    "fig, ax = plt.subplots()\n",
    "X, y = df, y\n",
    "for train, test in cv.split(X, y):\n",
    "    X_train = X.iloc[train]\n",
    "    y_train = y[train]\n",
    "    \n",
    "    X_test = X.iloc[test]\n",
    "    y_test = y[test]\n",
    "    n_estimators = result.best_params_['n_estimators']\n",
    "    model = GradientBoostingClassifier(random_state=1,n_estimators=n_estimators)\n",
    "    oversample = SMOTENC(sampling_strategy=0.7, k_neighbors=7, categorical_features = cat_columns_index,random_state=1)\n",
    "    X_train, y_train = oversample.fit_resample(X_train, y_train)\n",
    "    probas_ = model.fit(X_train, y_train).predict_proba(X_test)\n",
    "    y_pred = model.predict(X_test)\n",
    "    acc.append(balanced_accuracy_score(y_test, y_pred))\n",
    "    fpr, tpr, thresholds = roc_curve(y_test, probas_[:, 1],drop_intermediate='False')\n",
    "    roc_auc = roc_auc_score(y_test, probas_[:, 1])\n",
    "    interp_tpr = np.interp(mean_fpr, fpr, tpr)\n",
    "    interp_tpr[0] = 0.0\n",
    "    tprs.append(interp_tpr)\n",
    "    aucs.append(roc_auc)\n",
    "    imp.append(model.feature_importances_)\n",
    "\n",
    "ax.plot([0, 1], [0, 1], linestyle='--', lw=2, color='r',\n",
    "        label='Chance', alpha=.8)\n",
    "\n",
    "mean_tpr = np.mean(tprs, axis=0)\n",
    "mean_tpr[-1] = 1.0\n",
    "mean_auc = auc(mean_fpr, mean_tpr)\n",
    "std_auc = np.std(aucs)\n",
    "ax.plot(mean_fpr, mean_tpr, color='b',\n",
    "        label=r'Mean ROC (AUC = %0.2f $\\pm$ %0.2f)' % (mean_auc, std_auc),\n",
    "        lw=2, alpha=.8)\n",
    "\n",
    "std_tpr = np.std(tprs, axis=0)\n",
    "tprs_upper = np.minimum(mean_tpr + std_tpr, 1)\n",
    "tprs_lower = np.maximum(mean_tpr - std_tpr, 0)\n",
    "ax.fill_between(mean_fpr, tprs_lower, tprs_upper, color='grey', alpha=.2,\n",
    "                label=r'$\\pm$ 1 std. dev.')\n",
    "\n",
    "ax.set(xlim=[-0.05, 1.05], ylim=[-0.05, 1.05],\n",
    "       title=\"Receiver operating characteristic\")\n",
    "ax.legend(loc=\"lower right\")\n",
    "plt.show()\n",
    "plt.savefig('./results/ROC_for:'+groups+'.png')\n",
    "print('for total of ',final_N,\"Features\")\n",
    "print('Mean Balanced Accuracy:',sum(acc)/len(acc))\n",
    "print('Mean AUC:',sum(aucs)/len(aucs))\n",
    "\n",
    "imp = np.array(imp)\n",
    "imp = imp.mean(axis=0)\n",
    "\n",
    "imp_df = pd.DataFrame(columns=['features','importance'])\n",
    "imp_df['features'] = list(X.columns)\n",
    "imp_df['importance'] = imp\n",
    "\n",
    "imp_df_sorted = imp_df.sort_values(by=['importance'],ascending=False)\n",
    "imp_df_sorted.to_csv('./results/'+groups+'_Classification_ranked_'+str(final_N)+'Genomic_features.csv')\n",
    "\n",
    "print(\"END OF THE EXPERIMENT\")"
   ]
  }
 ],
 "metadata": {
  "kernelspec": {
   "display_name": "Python 3",
   "language": "python",
   "name": "python3"
  },
  "language_info": {
   "codemirror_mode": {
    "name": "ipython",
    "version": 3
   },
   "file_extension": ".py",
   "mimetype": "text/x-python",
   "name": "python",
   "nbconvert_exporter": "python",
   "pygments_lexer": "ipython3",
   "version": "3.8.3"
  }
 },
 "nbformat": 4,
 "nbformat_minor": 4
}
