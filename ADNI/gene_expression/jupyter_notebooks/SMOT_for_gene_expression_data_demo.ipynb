{
 "cells": [
  {
   "cell_type": "code",
   "execution_count": 1,
   "metadata": {},
   "outputs": [],
   "source": [
    "import pandas as pd"
   ]
  },
  {
   "cell_type": "code",
   "execution_count": 10,
   "metadata": {},
   "outputs": [],
   "source": [
    "final_gene = pd.read_csv('ADNI_Imaging_Gene_Expression_MMSE_geneLabeled_Combined.csv',low_memory=False)\n",
    "final_gene = final_gene.T\n",
    "final_gene.columns = final_gene.iloc[0]\n",
    "final_gene = final_gene.drop(['PTID','Gene'])\n",
    "#final_gene"
   ]
  },
  {
   "cell_type": "code",
   "execution_count": 16,
   "metadata": {},
   "outputs": [
    {
     "data": {
      "text/html": [
       "<div>\n",
       "<style scoped>\n",
       "    .dataframe tbody tr th:only-of-type {\n",
       "        vertical-align: middle;\n",
       "    }\n",
       "\n",
       "    .dataframe tbody tr th {\n",
       "        vertical-align: top;\n",
       "    }\n",
       "\n",
       "    .dataframe thead th {\n",
       "        text-align: right;\n",
       "    }\n",
       "</style>\n",
       "<table border=\"1\" class=\"dataframe\">\n",
       "  <thead>\n",
       "    <tr style=\"text-align: right;\">\n",
       "      <th>PTID</th>\n",
       "      <th>COLPROT</th>\n",
       "      <th>RIN</th>\n",
       "      <th>VISCODE</th>\n",
       "      <th>EXAMDATE</th>\n",
       "      <th>AGE</th>\n",
       "      <th>PTGENDER</th>\n",
       "      <th>PTEDUCAT</th>\n",
       "      <th>PTETHCAT</th>\n",
       "      <th>PTRACCAT</th>\n",
       "      <th>APOE4</th>\n",
       "      <th>...</th>\n",
       "      <th>AFFX-r2-TagH_at</th>\n",
       "      <th>AFFX-r2-TagIN-3_at</th>\n",
       "      <th>AFFX-r2-TagIN-5_at</th>\n",
       "      <th>AFFX-r2-TagIN-M_at</th>\n",
       "      <th>AFFX-r2-TagJ-3_at</th>\n",
       "      <th>AFFX-r2-TagJ-5_at</th>\n",
       "      <th>AFFX-r2-TagO-3_at</th>\n",
       "      <th>AFFX-r2-TagO-5_at</th>\n",
       "      <th>AFFX-r2-TagQ-3_at</th>\n",
       "      <th>AFFX-r2-TagQ-5_at</th>\n",
       "    </tr>\n",
       "  </thead>\n",
       "  <tbody>\n",
       "    <tr>\n",
       "      <th>116_S_1249</th>\n",
       "      <td>ADNIGO</td>\n",
       "      <td>7.7</td>\n",
       "      <td>m48</td>\n",
       "      <td>2/23/11</td>\n",
       "      <td>70.8</td>\n",
       "      <td>Female</td>\n",
       "      <td>15</td>\n",
       "      <td>Not Hisp/Latino</td>\n",
       "      <td>White</td>\n",
       "      <td>1</td>\n",
       "      <td>...</td>\n",
       "      <td>2.355</td>\n",
       "      <td>2.624</td>\n",
       "      <td>2.01</td>\n",
       "      <td>2.906</td>\n",
       "      <td>2.463</td>\n",
       "      <td>2.05</td>\n",
       "      <td>2.06</td>\n",
       "      <td>1.858</td>\n",
       "      <td>2.028</td>\n",
       "      <td>2.162</td>\n",
       "    </tr>\n",
       "    <tr>\n",
       "      <th>037_S_4410</th>\n",
       "      <td>ADNI2</td>\n",
       "      <td>7.6</td>\n",
       "      <td>bl</td>\n",
       "      <td>1/4/12</td>\n",
       "      <td>69.1</td>\n",
       "      <td>Female</td>\n",
       "      <td>14</td>\n",
       "      <td>Not Hisp/Latino</td>\n",
       "      <td>White</td>\n",
       "      <td>0</td>\n",
       "      <td>...</td>\n",
       "      <td>2.1</td>\n",
       "      <td>2.82</td>\n",
       "      <td>1.726</td>\n",
       "      <td>2.465</td>\n",
       "      <td>2.26</td>\n",
       "      <td>1.933</td>\n",
       "      <td>1.717</td>\n",
       "      <td>2.208</td>\n",
       "      <td>2.058</td>\n",
       "      <td>1.882</td>\n",
       "    </tr>\n",
       "    <tr>\n",
       "      <th>006_S_4153</th>\n",
       "      <td>ADNI2</td>\n",
       "      <td>7.2</td>\n",
       "      <td>bl</td>\n",
       "      <td>9/9/11</td>\n",
       "      <td>79.3</td>\n",
       "      <td>Male</td>\n",
       "      <td>20</td>\n",
       "      <td>Not Hisp/Latino</td>\n",
       "      <td>White</td>\n",
       "      <td>1</td>\n",
       "      <td>...</td>\n",
       "      <td>2.165</td>\n",
       "      <td>2.455</td>\n",
       "      <td>1.84</td>\n",
       "      <td>2.681</td>\n",
       "      <td>2.251</td>\n",
       "      <td>1.985</td>\n",
       "      <td>1.77</td>\n",
       "      <td>2.184</td>\n",
       "      <td>2.007</td>\n",
       "      <td>2.134</td>\n",
       "    </tr>\n",
       "    <tr>\n",
       "      <th>116_S_1232</th>\n",
       "      <td>ADNIGO</td>\n",
       "      <td>6.8</td>\n",
       "      <td>m48</td>\n",
       "      <td>2/16/11</td>\n",
       "      <td>72.1</td>\n",
       "      <td>Female</td>\n",
       "      <td>14</td>\n",
       "      <td>Not Hisp/Latino</td>\n",
       "      <td>White</td>\n",
       "      <td>0</td>\n",
       "      <td>...</td>\n",
       "      <td>2.094</td>\n",
       "      <td>2.599</td>\n",
       "      <td>1.837</td>\n",
       "      <td>2.713</td>\n",
       "      <td>2.158</td>\n",
       "      <td>1.916</td>\n",
       "      <td>1.878</td>\n",
       "      <td>2.163</td>\n",
       "      <td>2.185</td>\n",
       "      <td>2.099</td>\n",
       "    </tr>\n",
       "    <tr>\n",
       "      <th>099_S_4205</th>\n",
       "      <td>ADNI2</td>\n",
       "      <td>7.9</td>\n",
       "      <td>bl</td>\n",
       "      <td>11/4/11</td>\n",
       "      <td>81.4</td>\n",
       "      <td>Female</td>\n",
       "      <td>18</td>\n",
       "      <td>Not Hisp/Latino</td>\n",
       "      <td>White</td>\n",
       "      <td>0</td>\n",
       "      <td>...</td>\n",
       "      <td>1.973</td>\n",
       "      <td>2.544</td>\n",
       "      <td>1.909</td>\n",
       "      <td>2.548</td>\n",
       "      <td>2.266</td>\n",
       "      <td>2.077</td>\n",
       "      <td>1.838</td>\n",
       "      <td>2.085</td>\n",
       "      <td>1.941</td>\n",
       "      <td>1.883</td>\n",
       "    </tr>\n",
       "  </tbody>\n",
       "</table>\n",
       "<p>5 rows × 49418 columns</p>\n",
       "</div>"
      ],
      "text/plain": [
       "PTID       COLPROT  RIN VISCODE EXAMDATE   AGE PTGENDER PTEDUCAT  \\\n",
       "116_S_1249  ADNIGO  7.7     m48  2/23/11  70.8   Female       15   \n",
       "037_S_4410   ADNI2  7.6      bl   1/4/12  69.1   Female       14   \n",
       "006_S_4153   ADNI2  7.2      bl   9/9/11  79.3     Male       20   \n",
       "116_S_1232  ADNIGO  6.8     m48  2/16/11  72.1   Female       14   \n",
       "099_S_4205   ADNI2  7.9      bl  11/4/11  81.4   Female       18   \n",
       "\n",
       "PTID               PTETHCAT PTRACCAT APOE4  ... AFFX-r2-TagH_at  \\\n",
       "116_S_1249  Not Hisp/Latino    White     1  ...           2.355   \n",
       "037_S_4410  Not Hisp/Latino    White     0  ...             2.1   \n",
       "006_S_4153  Not Hisp/Latino    White     1  ...           2.165   \n",
       "116_S_1232  Not Hisp/Latino    White     0  ...           2.094   \n",
       "099_S_4205  Not Hisp/Latino    White     0  ...           1.973   \n",
       "\n",
       "PTID       AFFX-r2-TagIN-3_at AFFX-r2-TagIN-5_at AFFX-r2-TagIN-M_at  \\\n",
       "116_S_1249              2.624               2.01              2.906   \n",
       "037_S_4410               2.82              1.726              2.465   \n",
       "006_S_4153              2.455               1.84              2.681   \n",
       "116_S_1232              2.599              1.837              2.713   \n",
       "099_S_4205              2.544              1.909              2.548   \n",
       "\n",
       "PTID       AFFX-r2-TagJ-3_at AFFX-r2-TagJ-5_at AFFX-r2-TagO-3_at  \\\n",
       "116_S_1249             2.463              2.05              2.06   \n",
       "037_S_4410              2.26             1.933             1.717   \n",
       "006_S_4153             2.251             1.985              1.77   \n",
       "116_S_1232             2.158             1.916             1.878   \n",
       "099_S_4205             2.266             2.077             1.838   \n",
       "\n",
       "PTID       AFFX-r2-TagO-5_at AFFX-r2-TagQ-3_at AFFX-r2-TagQ-5_at  \n",
       "116_S_1249             1.858             2.028             2.162  \n",
       "037_S_4410             2.208             2.058             1.882  \n",
       "006_S_4153             2.184             2.007             2.134  \n",
       "116_S_1232             2.163             2.185             2.099  \n",
       "099_S_4205             2.085             1.941             1.883  \n",
       "\n",
       "[5 rows x 49418 columns]"
      ]
     },
     "execution_count": 16,
     "metadata": {},
     "output_type": "execute_result"
    }
   ],
   "source": [
    "final_gene.head()"
   ]
  },
  {
   "cell_type": "code",
   "execution_count": 17,
   "metadata": {},
   "outputs": [],
   "source": [
    "X = final_gene.loc[:, '11715100_at':'AFFX-r2-TagQ-5_at']\n",
    "y = final_gene['DX_bl']"
   ]
  },
  {
   "cell_type": "code",
   "execution_count": null,
   "metadata": {},
   "outputs": [],
   "source": []
  },
  {
   "cell_type": "code",
   "execution_count": 18,
   "metadata": {},
   "outputs": [
    {
     "data": {
      "text/plain": [
       "Counter({'CN': 260, 'AD': 43, 'EMCI': 215, 'LMCI': 226})"
      ]
     },
     "execution_count": 18,
     "metadata": {},
     "output_type": "execute_result"
    }
   ],
   "source": [
    "from collections import Counter\n",
    "Counter(y)"
   ]
  },
  {
   "cell_type": "markdown",
   "metadata": {},
   "source": [
    "## Classes: CN_AD, CN_EMCI, CN_LMCI, EMCI_LMCI, EMCI_AD, LMCI_AD "
   ]
  },
  {
   "cell_type": "code",
   "execution_count": 13,
   "metadata": {},
   "outputs": [
    {
     "name": "stdout",
     "output_type": "stream",
     "text": [
      "Collecting imbalanced-learn\n",
      "  Downloading imbalanced_learn-0.8.0-py3-none-any.whl (206 kB)\n",
      "\u001b[K     |████████████████████████████████| 206 kB 2.5 MB/s eta 0:00:01\n",
      "\u001b[?25hRequirement already satisfied: scipy>=0.19.1 in /Users/subashkhanal/miniconda3/lib/python3.8/site-packages (from imbalanced-learn) (1.5.2)\n",
      "Requirement already satisfied: numpy>=1.13.3 in /Users/subashkhanal/miniconda3/lib/python3.8/site-packages (from imbalanced-learn) (1.19.1)\n",
      "Collecting scikit-learn>=0.24\n",
      "  Downloading scikit_learn-0.24.1-cp38-cp38-macosx_10_13_x86_64.whl (7.2 MB)\n",
      "\u001b[K     |████████████████████████████████| 7.2 MB 10.4 MB/s eta 0:00:01\n",
      "\u001b[?25hRequirement already satisfied: joblib>=0.11 in /Users/subashkhanal/miniconda3/lib/python3.8/site-packages (from imbalanced-learn) (0.17.0)\n",
      "Requirement already satisfied: threadpoolctl>=2.0.0 in /Users/subashkhanal/miniconda3/lib/python3.8/site-packages (from scikit-learn>=0.24->imbalanced-learn) (2.1.0)\n",
      "Installing collected packages: scikit-learn, imbalanced-learn\n",
      "  Attempting uninstall: scikit-learn\n",
      "    Found existing installation: scikit-learn 0.23.2\n",
      "    Uninstalling scikit-learn-0.23.2:\n",
      "      Successfully uninstalled scikit-learn-0.23.2\n",
      "Successfully installed imbalanced-learn-0.8.0 scikit-learn-0.24.1\n"
     ]
    }
   ],
   "source": [
    "!pip install imbalanced-learn"
   ]
  },
  {
   "cell_type": "code",
   "execution_count": 14,
   "metadata": {},
   "outputs": [
    {
     "name": "stdout",
     "output_type": "stream",
     "text": [
      "0.8.0\n"
     ]
    }
   ],
   "source": [
    "import imblearn\n",
    "print(imblearn.__version__)"
   ]
  },
  {
   "cell_type": "code",
   "execution_count": 43,
   "metadata": {},
   "outputs": [],
   "source": [
    "from sklearn.utils import shuffle\n",
    "from sklearn.preprocessing import label_binarize\n",
    "\n",
    "classes = ['CN_AD', 'CN_EMCI', 'CN_LMCI', 'EMCI_LMCI', 'EMCI_AD', 'LMCI_AD']\n",
    "\n",
    "df1 = final_gene[final_gene['DX_bl']=='CN']\n",
    "df2 = final_gene[final_gene['DX_bl']=='AD']\n",
    "df_sampled = pd.concat([df1, df2])\n",
    "df_sampled = shuffle(df_sampled, random_state = 42)\n",
    "y = df_sampled.DX_bl\n",
    "X = df_sampled.loc[:,'11715100_at':'AFFX-r2-TagQ-5_at']\n",
    "y = label_binarize(y, classes=['CN', 'AD'])\n",
    "X = X.fillna(X.mean())"
   ]
  },
  {
   "cell_type": "code",
   "execution_count": 55,
   "metadata": {},
   "outputs": [
    {
     "name": "stdout",
     "output_type": "stream",
     "text": [
      "Counter({0: 53, 1: 8})\n",
      "Counter({0: 207, 1: 35})\n",
      "Counter({0: 207, 1: 207})\n"
     ]
    }
   ],
   "source": [
    "from imblearn.over_sampling import ADASYN\n",
    "from sklearn.model_selection import train_test_split\n",
    "X_train, X_test, y_train, y_test = train_test_split(X, y, test_size=0.2, random_state=42)\n",
    "print(Counter(y_test.reshape(len(y_test))))\n",
    "print(Counter(y_train.reshape(len(y_train))))\n",
    "oversample = SMOTE(sampling_strategy=1.0, k_neighbors=7)\n",
    "X_train, y_train = oversample.fit_resample(X_train, y_train)\n",
    "print(Counter(y_train.reshape(len(y_train))))"
   ]
  },
  {
   "cell_type": "code",
   "execution_count": null,
   "metadata": {},
   "outputs": [],
   "source": [
    "model = GradientBoostingClassifier(n_estimators=1000)\n",
    "probas_ = model.fit(X_train, y_train).predict_proba(X_test)\n",
    "acc = model.score(X_test,y_test,average='weighted')\n",
    "y_pred = model.predict(X_test)\n",
    "f1 = f1_score(y_test, y_pred, average='weighted')\n",
    "importance =  model.feature_importances_\n",
    "acc, f1"
   ]
  },
  {
   "cell_type": "code",
   "execution_count": 33,
   "metadata": {},
   "outputs": [
    {
     "name": "stdout",
     "output_type": "stream",
     "text": [
      "Mean ROC AUC: 0.605\n"
     ]
    }
   ],
   "source": [
    "from sklearn.ensemble import RandomForestClassifier,GradientBoostingClassifier\n",
    "from sklearn.model_selection import cross_val_score\n",
    "from sklearn.model_selection import RepeatedStratifiedKFold\n",
    "from imblearn.pipeline import Pipeline\n",
    "from numpy import mean\n",
    "n_estimators = 1000\n",
    "model = RandomForestClassifier(n_estimators=n_estimators,criterion='gini',class_weight='balanced')\n",
    "# evaluate pipeline\n",
    "steps = [('over', SMOTE()), ('model', model)]\n",
    "pipeline = Pipeline(steps=steps)\n",
    "# evaluate pipeline\n",
    "cv = RepeatedStratifiedKFold(n_splits=5, n_repeats=5, random_state=1)\n",
    "scores = cross_val_score(pipeline, X, y, scoring='roc_auc', cv=cv, n_jobs=-1)\n",
    "print('Mean ROC AUC: %.3f' % mean(scores))"
   ]
  },
  {
   "cell_type": "code",
   "execution_count": null,
   "metadata": {},
   "outputs": [],
   "source": []
  }
 ],
 "metadata": {
  "kernelspec": {
   "display_name": "Python 3",
   "language": "python",
   "name": "python3"
  },
  "language_info": {
   "codemirror_mode": {
    "name": "ipython",
    "version": 3
   },
   "file_extension": ".py",
   "mimetype": "text/x-python",
   "name": "python",
   "nbconvert_exporter": "python",
   "pygments_lexer": "ipython3",
   "version": "3.8.3"
  }
 },
 "nbformat": 4,
 "nbformat_minor": 4
}
