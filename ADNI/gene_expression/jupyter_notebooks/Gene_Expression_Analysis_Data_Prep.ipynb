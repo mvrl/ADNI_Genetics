{
 "cells": [
  {
   "cell_type": "markdown",
   "metadata": {
    "colab_type": "text",
    "id": "DVvT00mXKM0r"
   },
   "source": [
    "In this analysis, the gene expression data for some of the subjects in ADNI1/GO and ADNI2 phase is used to identify the most significantly different (in terms of their expression) between the research groups, example AD and CN, MCI and AD,etc.\n",
    "\n",
    "For this analysis, ADNI_Gene_Expression_Profile is downloaded from the ADNI-Genetic_Data section. It has gene expression over 49386 probes for a total of 744 subjects.\n",
    "\n",
    "The goal is to identify the genes with maximum discriminative value for Alzheimer's disease phase classification. In the end these gene expression values can be used as additional features to train the classifier which so far have been trained with neuroimaging data (eg. MRI) only.\n",
    "\n",
    "Because the end goal is to use these gene expression features (if considered important), it makes sense to determine the presence of imaging data for which the gene expression is also available. For this a .csv file is downloaded using the Advanced Search (Beta) option where information of subjects from all ADNI phase, all image modalities are conslidated into a single file called ADNI_subjects.csv\n",
    "\n",
    "Apart from genetic data, the demographic information, neuropsychological assessment results, etc available in ADNIMERGE.csv for all the subjects in ADNI are also used for analysis.\n",
    "\n",
    "This notebook will combine following information into one csv file:\n",
    "1. Subject's demographic information and assessment results from ADNIMERGE.csv\n",
    "2. A uniform VisitID consistent across different modalities and csv files\n",
    "3. Gene expression results extracted from Gene_Expression_Profile.csv\n",
    "4. Availability of imaging data for given subject"
   ]
  },
  {
   "cell_type": "markdown",
   "metadata": {
    "colab_type": "text",
    "id": "NJ-I7x8FKM0s"
   },
   "source": [
    "As it should be obvious the first step towards this should be mapping the visit code for the files (VISCODE) which apparently has been labeled differently during different phases of the ADNI project. For this task ADNI2_VISITID.csv and VISITS.csv files downloaded from ADNI- Study_data section were used to remove the inconsistencies in VISIT code across different csv files, then the overall csv file  named as ('My_csv.csv') can be built accurately. \n",
    "\n"
   ]
  },
  {
   "cell_type": "markdown",
   "metadata": {
    "colab_type": "text",
    "id": "MTQGVKdPKM0t"
   },
   "source": [
    "One good thing is the file ADNIMERGE.csv has the visit code already resolved. All we need to do is the resolve the inconsistency in the visit code for subjects in ADNI2 for ADNI_Gene_Expression_Profile.csv file. Once VISCODE is resolved We can also extract the EXAMDATE information from ADNIMERGE.csv for the subjects with Gene expression profile. This would allow us to check the presence of right imaging file corresponding to the subjects and visit with gene expression data"
   ]
  },
  {
   "cell_type": "markdown",
   "metadata": {
    "colab_type": "text",
    "id": "MvYHGxciKM0u"
   },
   "source": [
    "First let us peek into our current working directory"
   ]
  },
  {
   "cell_type": "code",
   "execution_count": 9,
   "metadata": {
    "colab": {},
    "colab_type": "code",
    "id": "u-RbrovnKM0v"
   },
   "outputs": [],
   "source": [
    "import os\n",
    "data_prep_path = '/Users/subashkhanal/Desktop/MLforAlzheimers/data/ADNI/genetics/data_prep'"
   ]
  },
  {
   "cell_type": "code",
   "execution_count": 10,
   "metadata": {
    "colab": {},
    "colab_type": "code",
    "id": "Ll8fT7fMKM0z",
    "outputId": "98ec95f5-4de8-4540-a3fa-e48237c9e4f7"
   },
   "outputs": [
    {
     "data": {
      "text/plain": [
       "['My_visCodes1.csv',\n",
       " 'My_csv.csv',\n",
       " 'ADNIMERGE.csv',\n",
       " '.DS_Store',\n",
       " 'VISITS.xlsx',\n",
       " 'ADNI_Gene_Expression_Profile.csv',\n",
       " 'ADNI2_VISITID.csv',\n",
       " 'ADNI_subjects_withVISCODE.csv',\n",
       " 'ADNI_subjects.csv']"
      ]
     },
     "execution_count": 10,
     "metadata": {},
     "output_type": "execute_result"
    }
   ],
   "source": [
    "os.listdir(data_prep_path)"
   ]
  },
  {
   "cell_type": "markdown",
   "metadata": {
    "colab_type": "text",
    "id": "mPxxtzeaKM09"
   },
   "source": [
    "Now let's load all these files using pandas"
   ]
  },
  {
   "cell_type": "code",
   "execution_count": 11,
   "metadata": {
    "colab": {},
    "colab_type": "code",
    "id": "EplOR2s5KM0-"
   },
   "outputs": [],
   "source": [
    "import pandas as pd\n",
    "gene_expr_data_path ='/Users/subashkhanal/Desktop/MLforAlzheimers/data/ADNI/genetics/ADNI_Gene_Expression_Profile/'"
   ]
  },
  {
   "cell_type": "code",
   "execution_count": 12,
   "metadata": {
    "colab": {},
    "colab_type": "code",
    "id": "Nixb-z_tKM1C",
    "outputId": "95455606-8a2a-4ea0-c996-7eb5cfbe96b3"
   },
   "outputs": [],
   "source": [
    "gene_exp = pd.read_csv(os.path.join(gene_expr_data_path,'ADNI_Gene_Expression_Profile.csv'),low_memory=False)\n"
   ]
  },
  {
   "cell_type": "code",
   "execution_count": 28,
   "metadata": {
    "colab": {},
    "colab_type": "code",
    "id": "D0SEgOcaKM1H",
    "outputId": "29817735-0a8c-470d-f376-836738fb6db0"
   },
   "outputs": [],
   "source": [
    "merge_df = pd.read_csv(os.path.join(data_prep_path,'ADNIMERGE.csv'),low_memory=False)\n",
    "subjects_df = pd.read_csv(os.path.join(data_prep_path,'ADNI_subjects.csv'),low_memory=False)\n",
    "ADNI2_VISITID = pd.read_csv(os.path.join(data_prep_path,'ADNI2_VISITID.csv'),low_memory=False)\n",
    "my_pd = pd.read_csv(os.path.join(data_prep_path,'My_csv.csv'),low_memory=False)"
   ]
  },
  {
   "cell_type": "markdown",
   "metadata": {
    "colab_type": "text",
    "id": "wMN3n2KgKM1K"
   },
   "source": [
    "As seen I already have created a template for My_csv.csv file. It contains subjects from gene expression file and selected columns from ADNIMERGE.csv file"
   ]
  },
  {
   "cell_type": "code",
   "execution_count": 29,
   "metadata": {
    "colab": {},
    "colab_type": "code",
    "id": "Qi_ApHqsKM1L",
    "outputId": "2a40a915-d93a-43f3-eaae-f02a119cfb16"
   },
   "outputs": [
    {
     "data": {
      "text/html": [
       "<div>\n",
       "<style scoped>\n",
       "    .dataframe tbody tr th:only-of-type {\n",
       "        vertical-align: middle;\n",
       "    }\n",
       "\n",
       "    .dataframe tbody tr th {\n",
       "        vertical-align: top;\n",
       "    }\n",
       "\n",
       "    .dataframe thead th {\n",
       "        text-align: right;\n",
       "    }\n",
       "</style>\n",
       "<table border=\"1\" class=\"dataframe\">\n",
       "  <thead>\n",
       "    <tr style=\"text-align: right;\">\n",
       "      <th></th>\n",
       "      <th>COLPROT</th>\n",
       "      <th>VISCODE</th>\n",
       "      <th>PTID</th>\n",
       "      <th>EXAMDATE</th>\n",
       "      <th>AGE</th>\n",
       "      <th>PTGENDER</th>\n",
       "      <th>PTEDUCAT</th>\n",
       "      <th>PTETHCAT</th>\n",
       "      <th>PTRACCAT</th>\n",
       "      <th>APOE4</th>\n",
       "      <th>...</th>\n",
       "      <th>ADAS13_bl</th>\n",
       "      <th>ADAS13</th>\n",
       "      <th>MMSE_bl</th>\n",
       "      <th>MMSE</th>\n",
       "      <th>DX_bl</th>\n",
       "      <th>DX</th>\n",
       "      <th>MRI</th>\n",
       "      <th>FDG_PET</th>\n",
       "      <th>AV45_PET</th>\n",
       "      <th>TAU_PET</th>\n",
       "    </tr>\n",
       "  </thead>\n",
       "  <tbody>\n",
       "    <tr>\n",
       "      <th>0</th>\n",
       "      <td>ADNIGO</td>\n",
       "      <td>m48</td>\n",
       "      <td>116_S_1249</td>\n",
       "      <td>NaN</td>\n",
       "      <td>NaN</td>\n",
       "      <td>NaN</td>\n",
       "      <td>NaN</td>\n",
       "      <td>NaN</td>\n",
       "      <td>NaN</td>\n",
       "      <td>NaN</td>\n",
       "      <td>...</td>\n",
       "      <td>NaN</td>\n",
       "      <td>NaN</td>\n",
       "      <td>NaN</td>\n",
       "      <td>NaN</td>\n",
       "      <td>NaN</td>\n",
       "      <td>NaN</td>\n",
       "      <td>NaN</td>\n",
       "      <td>NaN</td>\n",
       "      <td>NaN</td>\n",
       "      <td>NaN</td>\n",
       "    </tr>\n",
       "    <tr>\n",
       "      <th>1</th>\n",
       "      <td>ADNI2</td>\n",
       "      <td>v03</td>\n",
       "      <td>037_S_4410</td>\n",
       "      <td>NaN</td>\n",
       "      <td>NaN</td>\n",
       "      <td>NaN</td>\n",
       "      <td>NaN</td>\n",
       "      <td>NaN</td>\n",
       "      <td>NaN</td>\n",
       "      <td>NaN</td>\n",
       "      <td>...</td>\n",
       "      <td>NaN</td>\n",
       "      <td>NaN</td>\n",
       "      <td>NaN</td>\n",
       "      <td>NaN</td>\n",
       "      <td>NaN</td>\n",
       "      <td>NaN</td>\n",
       "      <td>NaN</td>\n",
       "      <td>NaN</td>\n",
       "      <td>NaN</td>\n",
       "      <td>NaN</td>\n",
       "    </tr>\n",
       "    <tr>\n",
       "      <th>2</th>\n",
       "      <td>ADNI2</td>\n",
       "      <td>v03</td>\n",
       "      <td>006_S_4153</td>\n",
       "      <td>NaN</td>\n",
       "      <td>NaN</td>\n",
       "      <td>NaN</td>\n",
       "      <td>NaN</td>\n",
       "      <td>NaN</td>\n",
       "      <td>NaN</td>\n",
       "      <td>NaN</td>\n",
       "      <td>...</td>\n",
       "      <td>NaN</td>\n",
       "      <td>NaN</td>\n",
       "      <td>NaN</td>\n",
       "      <td>NaN</td>\n",
       "      <td>NaN</td>\n",
       "      <td>NaN</td>\n",
       "      <td>NaN</td>\n",
       "      <td>NaN</td>\n",
       "      <td>NaN</td>\n",
       "      <td>NaN</td>\n",
       "    </tr>\n",
       "    <tr>\n",
       "      <th>3</th>\n",
       "      <td>ADNIGO</td>\n",
       "      <td>m48</td>\n",
       "      <td>116_S_1232</td>\n",
       "      <td>NaN</td>\n",
       "      <td>NaN</td>\n",
       "      <td>NaN</td>\n",
       "      <td>NaN</td>\n",
       "      <td>NaN</td>\n",
       "      <td>NaN</td>\n",
       "      <td>NaN</td>\n",
       "      <td>...</td>\n",
       "      <td>NaN</td>\n",
       "      <td>NaN</td>\n",
       "      <td>NaN</td>\n",
       "      <td>NaN</td>\n",
       "      <td>NaN</td>\n",
       "      <td>NaN</td>\n",
       "      <td>NaN</td>\n",
       "      <td>NaN</td>\n",
       "      <td>NaN</td>\n",
       "      <td>NaN</td>\n",
       "    </tr>\n",
       "    <tr>\n",
       "      <th>4</th>\n",
       "      <td>ADNI2</td>\n",
       "      <td>v03</td>\n",
       "      <td>099_S_4205</td>\n",
       "      <td>NaN</td>\n",
       "      <td>NaN</td>\n",
       "      <td>NaN</td>\n",
       "      <td>NaN</td>\n",
       "      <td>NaN</td>\n",
       "      <td>NaN</td>\n",
       "      <td>NaN</td>\n",
       "      <td>...</td>\n",
       "      <td>NaN</td>\n",
       "      <td>NaN</td>\n",
       "      <td>NaN</td>\n",
       "      <td>NaN</td>\n",
       "      <td>NaN</td>\n",
       "      <td>NaN</td>\n",
       "      <td>NaN</td>\n",
       "      <td>NaN</td>\n",
       "      <td>NaN</td>\n",
       "      <td>NaN</td>\n",
       "    </tr>\n",
       "  </tbody>\n",
       "</table>\n",
       "<p>5 rows × 32 columns</p>\n",
       "</div>"
      ],
      "text/plain": [
       "  COLPROT VISCODE        PTID  EXAMDATE  AGE  PTGENDER  PTEDUCAT  PTETHCAT  \\\n",
       "0  ADNIGO     m48  116_S_1249       NaN  NaN       NaN       NaN       NaN   \n",
       "1   ADNI2     v03  037_S_4410       NaN  NaN       NaN       NaN       NaN   \n",
       "2   ADNI2     v03  006_S_4153       NaN  NaN       NaN       NaN       NaN   \n",
       "3  ADNIGO     m48  116_S_1232       NaN  NaN       NaN       NaN       NaN   \n",
       "4   ADNI2     v03  099_S_4205       NaN  NaN       NaN       NaN       NaN   \n",
       "\n",
       "   PTRACCAT  APOE4  ...  ADAS13_bl  ADAS13  MMSE_bl  MMSE  DX_bl  DX  MRI  \\\n",
       "0       NaN    NaN  ...        NaN     NaN      NaN   NaN    NaN NaN  NaN   \n",
       "1       NaN    NaN  ...        NaN     NaN      NaN   NaN    NaN NaN  NaN   \n",
       "2       NaN    NaN  ...        NaN     NaN      NaN   NaN    NaN NaN  NaN   \n",
       "3       NaN    NaN  ...        NaN     NaN      NaN   NaN    NaN NaN  NaN   \n",
       "4       NaN    NaN  ...        NaN     NaN      NaN   NaN    NaN NaN  NaN   \n",
       "\n",
       "   FDG_PET  AV45_PET  TAU_PET  \n",
       "0      NaN       NaN      NaN  \n",
       "1      NaN       NaN      NaN  \n",
       "2      NaN       NaN      NaN  \n",
       "3      NaN       NaN      NaN  \n",
       "4      NaN       NaN      NaN  \n",
       "\n",
       "[5 rows x 32 columns]"
      ]
     },
     "execution_count": 29,
     "metadata": {},
     "output_type": "execute_result"
    }
   ],
   "source": [
    "my_pd.head()"
   ]
  },
  {
   "cell_type": "code",
   "execution_count": 30,
   "metadata": {
    "colab": {},
    "colab_type": "code",
    "id": "dTtj54IOKM1R",
    "outputId": "4029000d-46cf-45c7-9576-28e128ab2a89"
   },
   "outputs": [
    {
     "data": {
      "text/plain": [
       "{'v02', 'v03', 'v04', 'v05', 'v06', 'v11'}"
      ]
     },
     "execution_count": 30,
     "metadata": {},
     "output_type": "execute_result"
    }
   ],
   "source": [
    "set(my_pd[my_pd['COLPROT'] == 'ADNI2']['VISCODE'])"
   ]
  },
  {
   "cell_type": "markdown",
   "metadata": {
    "colab_type": "text",
    "id": "_TAR-oPvKM1U"
   },
   "source": [
    "Now let's map the VISCODE for ADNI2 from vxx to mxx using RID and current VISCODE and looking up VISCODE2 in 'ADNI2_VISITID.csv'. \n",
    "Note PTID or subject ID is the form of: SiteID_S_RID"
   ]
  },
  {
   "cell_type": "code",
   "execution_count": 31,
   "metadata": {
    "colab": {},
    "colab_type": "code",
    "id": "9pd_Zh_RKM1V",
    "outputId": "860f6950-eac0-4a2d-bbb8-c83c423358bb"
   },
   "outputs": [],
   "source": [
    "for i in range(len(my_pd)):\n",
    "    phase = my_pd.iloc[i]['COLPROT']\n",
    "    if phase == 'ADNI2':\n",
    "        \n",
    "        vid = my_pd.iloc[i]['VISCODE']\n",
    "        RID = int(my_pd.iloc[i]['PTID'].split('_')[-1])\n",
    "        #print (vid, RID)\n",
    "\n",
    "        #look up VISCODE2 in mapping csv\n",
    "        n_vid = ADNI2_VISITID[(ADNI2_VISITID['RID'] == RID) & (ADNI2_VISITID['VISCODE']==vid)]['VISCODE2'].iloc[0]\n",
    "        \n",
    "        my_pd.at[i,'VISCODE']=n_vid"
   ]
  },
  {
   "cell_type": "code",
   "execution_count": 32,
   "metadata": {
    "colab": {},
    "colab_type": "code",
    "id": "5PyPsmpEKM1Y",
    "outputId": "488f144b-714f-478a-dfe2-c93af15348f8"
   },
   "outputs": [
    {
     "data": {
      "text/plain": [
       "{'bl', 'm03', 'm06', 'm12', 'm48', 'm60', 'm72', 'm84', 'scmri'}"
      ]
     },
     "execution_count": 32,
     "metadata": {},
     "output_type": "execute_result"
    }
   ],
   "source": [
    "set(my_pd[my_pd['COLPROT'] == 'ADNI2']['VISCODE'])"
   ]
  },
  {
   "cell_type": "code",
   "execution_count": 33,
   "metadata": {
    "colab": {},
    "colab_type": "code",
    "id": "stWtH_yEKM1b",
    "outputId": "d5fe9c88-429e-45c2-bb67-77e3cbc3b399"
   },
   "outputs": [
    {
     "data": {
      "text/plain": [
       "{'ADNI2', 'ADNIGO'}"
      ]
     },
     "execution_count": 33,
     "metadata": {},
     "output_type": "execute_result"
    }
   ],
   "source": [
    "set(my_pd['COLPROT'])"
   ]
  },
  {
   "cell_type": "code",
   "execution_count": 34,
   "metadata": {
    "colab": {},
    "colab_type": "code",
    "id": "Yg9Q5QDSKM1g",
    "outputId": "d27edf40-580a-47f8-8c25-be3b8fd2c909"
   },
   "outputs": [
    {
     "data": {
      "text/html": [
       "<div>\n",
       "<style scoped>\n",
       "    .dataframe tbody tr th:only-of-type {\n",
       "        vertical-align: middle;\n",
       "    }\n",
       "\n",
       "    .dataframe tbody tr th {\n",
       "        vertical-align: top;\n",
       "    }\n",
       "\n",
       "    .dataframe thead th {\n",
       "        text-align: right;\n",
       "    }\n",
       "</style>\n",
       "<table border=\"1\" class=\"dataframe\">\n",
       "  <thead>\n",
       "    <tr style=\"text-align: right;\">\n",
       "      <th></th>\n",
       "      <th>COLPROT</th>\n",
       "      <th>VISCODE</th>\n",
       "      <th>PTID</th>\n",
       "      <th>EXAMDATE</th>\n",
       "      <th>AGE</th>\n",
       "      <th>PTGENDER</th>\n",
       "      <th>PTEDUCAT</th>\n",
       "      <th>PTETHCAT</th>\n",
       "      <th>PTRACCAT</th>\n",
       "      <th>APOE4</th>\n",
       "      <th>...</th>\n",
       "      <th>ADAS13_bl</th>\n",
       "      <th>ADAS13</th>\n",
       "      <th>MMSE_bl</th>\n",
       "      <th>MMSE</th>\n",
       "      <th>DX_bl</th>\n",
       "      <th>DX</th>\n",
       "      <th>MRI</th>\n",
       "      <th>FDG_PET</th>\n",
       "      <th>AV45_PET</th>\n",
       "      <th>TAU_PET</th>\n",
       "    </tr>\n",
       "  </thead>\n",
       "  <tbody>\n",
       "    <tr>\n",
       "      <th>0</th>\n",
       "      <td>ADNIGO</td>\n",
       "      <td>m48</td>\n",
       "      <td>116_S_1249</td>\n",
       "      <td>NaN</td>\n",
       "      <td>NaN</td>\n",
       "      <td>NaN</td>\n",
       "      <td>NaN</td>\n",
       "      <td>NaN</td>\n",
       "      <td>NaN</td>\n",
       "      <td>NaN</td>\n",
       "      <td>...</td>\n",
       "      <td>NaN</td>\n",
       "      <td>NaN</td>\n",
       "      <td>NaN</td>\n",
       "      <td>NaN</td>\n",
       "      <td>NaN</td>\n",
       "      <td>NaN</td>\n",
       "      <td>NaN</td>\n",
       "      <td>NaN</td>\n",
       "      <td>NaN</td>\n",
       "      <td>NaN</td>\n",
       "    </tr>\n",
       "    <tr>\n",
       "      <th>1</th>\n",
       "      <td>ADNI2</td>\n",
       "      <td>bl</td>\n",
       "      <td>037_S_4410</td>\n",
       "      <td>NaN</td>\n",
       "      <td>NaN</td>\n",
       "      <td>NaN</td>\n",
       "      <td>NaN</td>\n",
       "      <td>NaN</td>\n",
       "      <td>NaN</td>\n",
       "      <td>NaN</td>\n",
       "      <td>...</td>\n",
       "      <td>NaN</td>\n",
       "      <td>NaN</td>\n",
       "      <td>NaN</td>\n",
       "      <td>NaN</td>\n",
       "      <td>NaN</td>\n",
       "      <td>NaN</td>\n",
       "      <td>NaN</td>\n",
       "      <td>NaN</td>\n",
       "      <td>NaN</td>\n",
       "      <td>NaN</td>\n",
       "    </tr>\n",
       "    <tr>\n",
       "      <th>2</th>\n",
       "      <td>ADNI2</td>\n",
       "      <td>bl</td>\n",
       "      <td>006_S_4153</td>\n",
       "      <td>NaN</td>\n",
       "      <td>NaN</td>\n",
       "      <td>NaN</td>\n",
       "      <td>NaN</td>\n",
       "      <td>NaN</td>\n",
       "      <td>NaN</td>\n",
       "      <td>NaN</td>\n",
       "      <td>...</td>\n",
       "      <td>NaN</td>\n",
       "      <td>NaN</td>\n",
       "      <td>NaN</td>\n",
       "      <td>NaN</td>\n",
       "      <td>NaN</td>\n",
       "      <td>NaN</td>\n",
       "      <td>NaN</td>\n",
       "      <td>NaN</td>\n",
       "      <td>NaN</td>\n",
       "      <td>NaN</td>\n",
       "    </tr>\n",
       "    <tr>\n",
       "      <th>3</th>\n",
       "      <td>ADNIGO</td>\n",
       "      <td>m48</td>\n",
       "      <td>116_S_1232</td>\n",
       "      <td>NaN</td>\n",
       "      <td>NaN</td>\n",
       "      <td>NaN</td>\n",
       "      <td>NaN</td>\n",
       "      <td>NaN</td>\n",
       "      <td>NaN</td>\n",
       "      <td>NaN</td>\n",
       "      <td>...</td>\n",
       "      <td>NaN</td>\n",
       "      <td>NaN</td>\n",
       "      <td>NaN</td>\n",
       "      <td>NaN</td>\n",
       "      <td>NaN</td>\n",
       "      <td>NaN</td>\n",
       "      <td>NaN</td>\n",
       "      <td>NaN</td>\n",
       "      <td>NaN</td>\n",
       "      <td>NaN</td>\n",
       "    </tr>\n",
       "    <tr>\n",
       "      <th>4</th>\n",
       "      <td>ADNI2</td>\n",
       "      <td>bl</td>\n",
       "      <td>099_S_4205</td>\n",
       "      <td>NaN</td>\n",
       "      <td>NaN</td>\n",
       "      <td>NaN</td>\n",
       "      <td>NaN</td>\n",
       "      <td>NaN</td>\n",
       "      <td>NaN</td>\n",
       "      <td>NaN</td>\n",
       "      <td>...</td>\n",
       "      <td>NaN</td>\n",
       "      <td>NaN</td>\n",
       "      <td>NaN</td>\n",
       "      <td>NaN</td>\n",
       "      <td>NaN</td>\n",
       "      <td>NaN</td>\n",
       "      <td>NaN</td>\n",
       "      <td>NaN</td>\n",
       "      <td>NaN</td>\n",
       "      <td>NaN</td>\n",
       "    </tr>\n",
       "  </tbody>\n",
       "</table>\n",
       "<p>5 rows × 32 columns</p>\n",
       "</div>"
      ],
      "text/plain": [
       "  COLPROT VISCODE        PTID  EXAMDATE  AGE  PTGENDER  PTEDUCAT  PTETHCAT  \\\n",
       "0  ADNIGO     m48  116_S_1249       NaN  NaN       NaN       NaN       NaN   \n",
       "1   ADNI2      bl  037_S_4410       NaN  NaN       NaN       NaN       NaN   \n",
       "2   ADNI2      bl  006_S_4153       NaN  NaN       NaN       NaN       NaN   \n",
       "3  ADNIGO     m48  116_S_1232       NaN  NaN       NaN       NaN       NaN   \n",
       "4   ADNI2      bl  099_S_4205       NaN  NaN       NaN       NaN       NaN   \n",
       "\n",
       "   PTRACCAT  APOE4  ...  ADAS13_bl  ADAS13  MMSE_bl  MMSE  DX_bl  DX  MRI  \\\n",
       "0       NaN    NaN  ...        NaN     NaN      NaN   NaN    NaN NaN  NaN   \n",
       "1       NaN    NaN  ...        NaN     NaN      NaN   NaN    NaN NaN  NaN   \n",
       "2       NaN    NaN  ...        NaN     NaN      NaN   NaN    NaN NaN  NaN   \n",
       "3       NaN    NaN  ...        NaN     NaN      NaN   NaN    NaN NaN  NaN   \n",
       "4       NaN    NaN  ...        NaN     NaN      NaN   NaN    NaN NaN  NaN   \n",
       "\n",
       "   FDG_PET  AV45_PET  TAU_PET  \n",
       "0      NaN       NaN      NaN  \n",
       "1      NaN       NaN      NaN  \n",
       "2      NaN       NaN      NaN  \n",
       "3      NaN       NaN      NaN  \n",
       "4      NaN       NaN      NaN  \n",
       "\n",
       "[5 rows x 32 columns]"
      ]
     },
     "execution_count": 34,
     "metadata": {},
     "output_type": "execute_result"
    }
   ],
   "source": [
    "my_pd.head()"
   ]
  },
  {
   "cell_type": "markdown",
   "metadata": {
    "colab_type": "text",
    "id": "MyesO1gJKM1k"
   },
   "source": [
    "Now let's extract information from ADNIMERGE.csv for our subjects and visits"
   ]
  },
  {
   "cell_type": "code",
   "execution_count": 35,
   "metadata": {
    "colab": {},
    "colab_type": "code",
    "id": "MHwChiqdKM1k"
   },
   "outputs": [],
   "source": [
    "#columns in my csv for which we want information to be extracted from ADNIMERGE, last four columns are related to presence of imaging file\n",
    "#those four would be filled using subjects_df downloaded from image search option \n",
    "merge_cols = my_pd.columns[:-4]"
   ]
  },
  {
   "cell_type": "code",
   "execution_count": 36,
   "metadata": {
    "colab": {},
    "colab_type": "code",
    "id": "SWABQRTCKM1n",
    "outputId": "d30f06f9-7110-4781-f05a-4f3677e16fe8"
   },
   "outputs": [
    {
     "data": {
      "text/plain": [
       "False"
      ]
     },
     "execution_count": 36,
     "metadata": {},
     "output_type": "execute_result"
    }
   ],
   "source": [
    "#just to see if all vist codes are also present in ADNIMERGE\n",
    "set(my_pd['VISCODE']) <= set(merge_df['VISCODE']) #to check column name match or not"
   ]
  },
  {
   "cell_type": "code",
   "execution_count": 37,
   "metadata": {
    "colab": {},
    "colab_type": "code",
    "id": "pwsxfcxKKM1r",
    "outputId": "66adcad1-fe2f-46af-96b0-5a3224aeb089"
   },
   "outputs": [
    {
     "data": {
      "text/plain": [
       "({'bl',\n",
       "  'm0',\n",
       "  'm03',\n",
       "  'm06',\n",
       "  'm102',\n",
       "  'm108',\n",
       "  'm114',\n",
       "  'm12',\n",
       "  'm120',\n",
       "  'm126',\n",
       "  'm132',\n",
       "  'm144',\n",
       "  'm156',\n",
       "  'm168',\n",
       "  'm18',\n",
       "  'm24',\n",
       "  'm30',\n",
       "  'm36',\n",
       "  'm42',\n",
       "  'm48',\n",
       "  'm54',\n",
       "  'm60',\n",
       "  'm66',\n",
       "  'm72',\n",
       "  'm78',\n",
       "  'm84',\n",
       "  'm90',\n",
       "  'm96',\n",
       "  'y1'},\n",
       " {'bl', 'm03', 'm06', 'm12', 'm36', 'm48', 'm60', 'm72', 'm84', 'scmri'})"
      ]
     },
     "execution_count": 37,
     "metadata": {},
     "output_type": "execute_result"
    }
   ],
   "source": [
    "set(merge_df['VISCODE']),set(my_pd['VISCODE'])"
   ]
  },
  {
   "cell_type": "markdown",
   "metadata": {
    "colab_type": "text",
    "id": "oBzR71BpKM1u"
   },
   "source": [
    "let's see what are the instances with visit code 'scrmi' as that one is not present in ADNIMERGE.csv"
   ]
  },
  {
   "cell_type": "code",
   "execution_count": 38,
   "metadata": {
    "colab": {},
    "colab_type": "code",
    "id": "mZCq-pWNKM1v",
    "outputId": "66c5219f-8ee7-4a01-e9b2-e62e48f1510b"
   },
   "outputs": [
    {
     "data": {
      "text/html": [
       "<div>\n",
       "<style scoped>\n",
       "    .dataframe tbody tr th:only-of-type {\n",
       "        vertical-align: middle;\n",
       "    }\n",
       "\n",
       "    .dataframe tbody tr th {\n",
       "        vertical-align: top;\n",
       "    }\n",
       "\n",
       "    .dataframe thead th {\n",
       "        text-align: right;\n",
       "    }\n",
       "</style>\n",
       "<table border=\"1\" class=\"dataframe\">\n",
       "  <thead>\n",
       "    <tr style=\"text-align: right;\">\n",
       "      <th></th>\n",
       "      <th>COLPROT</th>\n",
       "      <th>VISCODE</th>\n",
       "      <th>PTID</th>\n",
       "      <th>EXAMDATE</th>\n",
       "      <th>AGE</th>\n",
       "      <th>PTGENDER</th>\n",
       "      <th>PTEDUCAT</th>\n",
       "      <th>PTETHCAT</th>\n",
       "      <th>PTRACCAT</th>\n",
       "      <th>APOE4</th>\n",
       "      <th>...</th>\n",
       "      <th>ADAS13_bl</th>\n",
       "      <th>ADAS13</th>\n",
       "      <th>MMSE_bl</th>\n",
       "      <th>MMSE</th>\n",
       "      <th>DX_bl</th>\n",
       "      <th>DX</th>\n",
       "      <th>MRI</th>\n",
       "      <th>FDG_PET</th>\n",
       "      <th>AV45_PET</th>\n",
       "      <th>TAU_PET</th>\n",
       "    </tr>\n",
       "  </thead>\n",
       "  <tbody>\n",
       "    <tr>\n",
       "      <th>360</th>\n",
       "      <td>ADNI2</td>\n",
       "      <td>scmri</td>\n",
       "      <td>009_S_4564</td>\n",
       "      <td>NaN</td>\n",
       "      <td>NaN</td>\n",
       "      <td>NaN</td>\n",
       "      <td>NaN</td>\n",
       "      <td>NaN</td>\n",
       "      <td>NaN</td>\n",
       "      <td>NaN</td>\n",
       "      <td>...</td>\n",
       "      <td>NaN</td>\n",
       "      <td>NaN</td>\n",
       "      <td>NaN</td>\n",
       "      <td>NaN</td>\n",
       "      <td>NaN</td>\n",
       "      <td>NaN</td>\n",
       "      <td>NaN</td>\n",
       "      <td>NaN</td>\n",
       "      <td>NaN</td>\n",
       "      <td>NaN</td>\n",
       "    </tr>\n",
       "  </tbody>\n",
       "</table>\n",
       "<p>1 rows × 32 columns</p>\n",
       "</div>"
      ],
      "text/plain": [
       "    COLPROT VISCODE        PTID  EXAMDATE  AGE  PTGENDER  PTEDUCAT  PTETHCAT  \\\n",
       "360   ADNI2   scmri  009_S_4564       NaN  NaN       NaN       NaN       NaN   \n",
       "\n",
       "     PTRACCAT  APOE4  ...  ADAS13_bl  ADAS13  MMSE_bl  MMSE  DX_bl  DX  MRI  \\\n",
       "360       NaN    NaN  ...        NaN     NaN      NaN   NaN    NaN NaN  NaN   \n",
       "\n",
       "     FDG_PET  AV45_PET  TAU_PET  \n",
       "360      NaN       NaN      NaN  \n",
       "\n",
       "[1 rows x 32 columns]"
      ]
     },
     "execution_count": 38,
     "metadata": {},
     "output_type": "execute_result"
    }
   ],
   "source": [
    "my_pd[my_pd['VISCODE']=='scmri']"
   ]
  },
  {
   "cell_type": "markdown",
   "metadata": {
    "colab_type": "text",
    "id": "xoSVVrwGKM1y"
   },
   "source": [
    "There is one instance with PTID '009_S_4564' with visit code 'scmri' that is not present in ADNIMERGE. It is seen from imaging record that the subject was screened for Imaging on date 3/9/2012 and labeled as \"ADNI2 Screening MRI-New Pt\". There is availability of gene expression data for this PTID taken on year 2012. and ADNI merge shows a baseline study 'bl' on date 3/20/2012. What does this say? Well, the imaging data and other forms of data may not have been collected on the same date!!"
   ]
  },
  {
   "cell_type": "code",
   "execution_count": 39,
   "metadata": {
    "colab": {},
    "colab_type": "code",
    "id": "tvhrHxoGKM1z",
    "outputId": "c11c3ee8-b3ab-4877-e173-8a327ffcd0fd"
   },
   "outputs": [
    {
     "data": {
      "text/html": [
       "<div>\n",
       "<style scoped>\n",
       "    .dataframe tbody tr th:only-of-type {\n",
       "        vertical-align: middle;\n",
       "    }\n",
       "\n",
       "    .dataframe tbody tr th {\n",
       "        vertical-align: top;\n",
       "    }\n",
       "\n",
       "    .dataframe thead th {\n",
       "        text-align: right;\n",
       "    }\n",
       "</style>\n",
       "<table border=\"1\" class=\"dataframe\">\n",
       "  <thead>\n",
       "    <tr style=\"text-align: right;\">\n",
       "      <th></th>\n",
       "      <th>COLPROT</th>\n",
       "      <th>VISCODE</th>\n",
       "      <th>PTID</th>\n",
       "      <th>EXAMDATE</th>\n",
       "      <th>AGE</th>\n",
       "      <th>PTGENDER</th>\n",
       "      <th>PTEDUCAT</th>\n",
       "      <th>PTETHCAT</th>\n",
       "      <th>PTRACCAT</th>\n",
       "      <th>APOE4</th>\n",
       "      <th>...</th>\n",
       "      <th>ADAS13_bl</th>\n",
       "      <th>ADAS13</th>\n",
       "      <th>MMSE_bl</th>\n",
       "      <th>MMSE</th>\n",
       "      <th>DX_bl</th>\n",
       "      <th>DX</th>\n",
       "      <th>MRI</th>\n",
       "      <th>FDG_PET</th>\n",
       "      <th>AV45_PET</th>\n",
       "      <th>TAU_PET</th>\n",
       "    </tr>\n",
       "  </thead>\n",
       "  <tbody>\n",
       "    <tr>\n",
       "      <th>360</th>\n",
       "      <td>ADNI2</td>\n",
       "      <td>scmri</td>\n",
       "      <td>009_S_4564</td>\n",
       "      <td>NaN</td>\n",
       "      <td>NaN</td>\n",
       "      <td>NaN</td>\n",
       "      <td>NaN</td>\n",
       "      <td>NaN</td>\n",
       "      <td>NaN</td>\n",
       "      <td>NaN</td>\n",
       "      <td>...</td>\n",
       "      <td>NaN</td>\n",
       "      <td>NaN</td>\n",
       "      <td>NaN</td>\n",
       "      <td>NaN</td>\n",
       "      <td>NaN</td>\n",
       "      <td>NaN</td>\n",
       "      <td>NaN</td>\n",
       "      <td>NaN</td>\n",
       "      <td>NaN</td>\n",
       "      <td>NaN</td>\n",
       "    </tr>\n",
       "  </tbody>\n",
       "</table>\n",
       "<p>1 rows × 32 columns</p>\n",
       "</div>"
      ],
      "text/plain": [
       "    COLPROT VISCODE        PTID  EXAMDATE  AGE  PTGENDER  PTEDUCAT  PTETHCAT  \\\n",
       "360   ADNI2   scmri  009_S_4564       NaN  NaN       NaN       NaN       NaN   \n",
       "\n",
       "     PTRACCAT  APOE4  ...  ADAS13_bl  ADAS13  MMSE_bl  MMSE  DX_bl  DX  MRI  \\\n",
       "360       NaN    NaN  ...        NaN     NaN      NaN   NaN    NaN NaN  NaN   \n",
       "\n",
       "     FDG_PET  AV45_PET  TAU_PET  \n",
       "360      NaN       NaN      NaN  \n",
       "\n",
       "[1 rows x 32 columns]"
      ]
     },
     "execution_count": 39,
     "metadata": {},
     "output_type": "execute_result"
    }
   ],
   "source": [
    "my_pd[my_pd['PTID']=='009_S_4564']"
   ]
  },
  {
   "cell_type": "code",
   "execution_count": 27,
   "metadata": {
    "colab": {},
    "colab_type": "code",
    "collapsed": true,
    "id": "XsV22sQlKM11"
   },
   "outputs": [
    {
     "data": {
      "text/plain": [
       "Index(['COLPROT', 'VISCODE', 'PTID', 'EXAMDATE', 'AGE', 'PTGENDER', 'PTEDUCAT',\n",
       "       'PTETHCAT', 'PTRACCAT', 'APOE4', 'FDG_bl', 'FDG', 'ABETA_bl', 'ABETA',\n",
       "       'TAU_bl', 'TAU', 'PTAU_bl', 'PTAU', 'Hippocampus_bl', 'Hippocampus',\n",
       "       'WholeBrain_bl', 'WholeBrain', 'ADAS13_bl', 'ADAS13', 'MMSE_bl', 'MMSE',\n",
       "       'DX_bl', 'DX', 'MRI', 'FDG_PET', 'AV45_PET', 'TAU_PET'],\n",
       "      dtype='object')"
      ]
     },
     "execution_count": 27,
     "metadata": {},
     "output_type": "execute_result"
    }
   ],
   "source": [
    "my_pd = my_pd.T\n"
   ]
  },
  {
   "cell_type": "code",
   "execution_count": 40,
   "metadata": {
    "colab": {},
    "colab_type": "code",
    "id": "wsUen5dqKM15"
   },
   "outputs": [],
   "source": [
    "my_pd = my_pd.astype({'EXAMDATE': 'str', 'PTGENDER': 'str','PTGENDER':'str', 'PTEDUCAT':'str',\n",
    "       'PTETHCAT':'str', 'PTRACCAT':'str','DX_bl':'str','DX':'str','ABETA_bl':'str','ABETA':'str'})"
   ]
  },
  {
   "cell_type": "code",
   "execution_count": 50,
   "metadata": {
    "colab": {},
    "colab_type": "code",
    "id": "A_ek3_SSKM2D"
   },
   "outputs": [],
   "source": [
    "#Insert entries from MERGE dataframe\n",
    "for i in range(len(my_pd)):\n",
    "    \n",
    "    phase = my_pd['COLPROT'].iloc[i]\n",
    "    visit = my_pd['VISCODE'].iloc[i]\n",
    "    subject = my_pd['PTID'].iloc[i]\n",
    "    extracted_row = merge_df[(merge_df['COLPROT']==phase)& (merge_df['VISCODE']==visit)& (merge_df['PTID']==subject)]\n",
    "   \n",
    "    if len(extracted_row) !=0 :\n",
    "        \n",
    "        for col in merge_cols:\n",
    "            value = extracted_row[col].iloc[0]\n",
    "            if (i==366) & (value == '<8'): #one bug case\n",
    "                my_pd.at[i,col] = 7.99\n",
    "            else:\n",
    "                 my_pd.at[i,col] = value\n",
    "        \n",
    "    \n",
    "    "
   ]
  },
  {
   "cell_type": "code",
   "execution_count": 63,
   "metadata": {},
   "outputs": [],
   "source": [
    "my_pd.to_csv(os.path.join(data_prep_path,'my_csv_final1.csv'))"
   ]
  },
  {
   "cell_type": "code",
   "execution_count": 54,
   "metadata": {
    "colab": {},
    "colab_type": "code",
    "id": "3VTBTZi8KM2W",
    "outputId": "7e89710a-1779-4c6c-f5eb-0b1d0caa593e"
   },
   "outputs": [
    {
     "data": {
      "text/plain": [
       "{'ADNI Baseline',\n",
       " 'ADNI Screening',\n",
       " 'ADNI1/GO Month 12',\n",
       " 'ADNI1/GO Month 18',\n",
       " 'ADNI1/GO Month 24',\n",
       " 'ADNI1/GO Month 36',\n",
       " 'ADNI1/GO Month 48',\n",
       " 'ADNI1/GO Month 6',\n",
       " 'ADNI2 Baseline-New Pt',\n",
       " 'ADNI2 Initial Visit-Cont Pt',\n",
       " 'ADNI2 Month 3 MRI-New Pt',\n",
       " 'ADNI2 Month 6-New Pt',\n",
       " 'ADNI2 Screening MRI-New Pt',\n",
       " 'ADNI2 Tau-only visit',\n",
       " 'ADNI2 Year 1 Visit',\n",
       " 'ADNI2 Year 2 Visit',\n",
       " 'ADNI2 Year 3 Visit',\n",
       " 'ADNI2 Year 4 Visit',\n",
       " 'ADNI2 Year 5 Visit',\n",
       " 'ADNI3 Initial Visit-Cont Pt',\n",
       " 'ADNI3 Year 1 Visit',\n",
       " 'ADNI3 Year 2 Visit',\n",
       " 'ADNI3 Year 3 Visit',\n",
       " 'ADNIGO Month 3 MRI',\n",
       " 'ADNIGO Month 60',\n",
       " 'ADNIGO Month 72',\n",
       " 'ADNIGO Screening MRI',\n",
       " 'No Visit Defined',\n",
       " 'Unscheduled'}"
      ]
     },
     "execution_count": 54,
     "metadata": {},
     "output_type": "execute_result"
    }
   ],
   "source": [
    "set(subjects_df['Visit'])"
   ]
  },
  {
   "cell_type": "markdown",
   "metadata": {
    "colab_type": "text",
    "id": "CYXtKnZMKM2V"
   },
   "source": [
    "Now let's copy the information about presence of imaging file. Using the subject_df. Now it would have been nicer if the imaging files were also tagged with a VISCODE but instead they have description. So we need to get a VISCODE using the Visit description \n",
    "in the subject_df. For this a mapping file called 'My_visCodes1.csv was created using the visit code related files available in ADNI and used here to create a visit code for each imaging file."
   ]
  },
  {
   "cell_type": "code",
   "execution_count": 55,
   "metadata": {
    "colab": {},
    "colab_type": "code",
    "id": "tVZV6OBmKM2Z"
   },
   "outputs": [],
   "source": [
    "# my_vis = pd.read_excel('My_visCodes.xlsx')\n",
    "# my_vis['VISNAME'] = list(set(subjects_df['Visit']))\n"
   ]
  },
  {
   "cell_type": "code",
   "execution_count": 56,
   "metadata": {
    "colab": {},
    "colab_type": "code",
    "id": "R4rovP2wKM2c"
   },
   "outputs": [],
   "source": [
    "#my_vis.to_excel('My_visCodes1.xlsx')"
   ]
  },
  {
   "cell_type": "code",
   "execution_count": 57,
   "metadata": {
    "colab": {},
    "colab_type": "code",
    "id": "SDpj7CO_KM2f"
   },
   "outputs": [],
   "source": [
    "my_vis = pd.read_csv(os.path.join(data_prep_path,'My_visCodes1.csv'))\n",
    "subjects_df = pd.read_csv(os.path.join(data_prep_path,'ADNI_subjects.csv'))"
   ]
  },
  {
   "cell_type": "markdown",
   "metadata": {
    "colab_type": "text",
    "id": "zEr_FSvOKM2h"
   },
   "source": [
    "Now using the map \"My_visCodes1.csv' Let's fill the column VISCODE in the subjects_df"
   ]
  },
  {
   "cell_type": "code",
   "execution_count": 58,
   "metadata": {
    "colab": {},
    "colab_type": "code",
    "id": "qdVH_5eHKM2i"
   },
   "outputs": [],
   "source": [
    "subjects_df = subjects_df.astype({'VISCODE': 'str'}) "
   ]
  },
  {
   "cell_type": "code",
   "execution_count": 59,
   "metadata": {
    "colab": {},
    "colab_type": "code",
    "id": "qYhubmCIKM2k"
   },
   "outputs": [],
   "source": [
    "for i in range(len(subjects_df)):\n",
    "    visname = subjects_df['Visit'].iloc[i]\n",
    "    viscode = my_vis[my_vis['VISNAME']==visname]['VISCODE'].iloc[0]\n",
    "    subjects_df.at[i,'VISCODE'] = viscode\n",
    "    "
   ]
  },
  {
   "cell_type": "code",
   "execution_count": 60,
   "metadata": {
    "colab": {},
    "colab_type": "code",
    "id": "uvt3zjkzKM2m",
    "outputId": "4f26ffb5-b205-4097-b077-ae0867ba7e6a"
   },
   "outputs": [
    {
     "data": {
      "text/plain": [
       "{'bl',\n",
       " 'init',\n",
       " 'm03',\n",
       " 'm06',\n",
       " 'm12',\n",
       " 'm18',\n",
       " 'm24',\n",
       " 'm36',\n",
       " 'm48',\n",
       " 'm60',\n",
       " 'm72',\n",
       " 'nv',\n",
       " 'sc',\n",
       " 'scmri',\n",
       " 'tau',\n",
       " 'uns',\n",
       " 'v02',\n",
       " 'v03',\n",
       " 'v04',\n",
       " 'v05',\n",
       " 'v06',\n",
       " 'v11',\n",
       " 'v21',\n",
       " 'v31',\n",
       " 'v41',\n",
       " 'v51',\n",
       " 'y1',\n",
       " 'y2',\n",
       " 'y3'}"
      ]
     },
     "execution_count": 60,
     "metadata": {},
     "output_type": "execute_result"
    }
   ],
   "source": [
    "set(subjects_df['VISCODE'])"
   ]
  },
  {
   "cell_type": "markdown",
   "metadata": {
    "colab_type": "text",
    "id": "K5uzwOh2KM2p"
   },
   "source": [
    "However, this still has visit codes like vxx for ADNI2. So let's change those to mxx form as we did earlier"
   ]
  },
  {
   "cell_type": "code",
   "execution_count": 61,
   "metadata": {
    "colab": {},
    "colab_type": "code",
    "id": "uuf0EKaIKM2p"
   },
   "outputs": [],
   "source": [
    "for i in range(len(subjects_df)):\n",
    "    phase = subjects_df.iloc[i]['Phase']\n",
    "    if phase == 'ADNI 2':\n",
    "        \n",
    "        vid = subjects_df.iloc[i]['VISCODE']\n",
    "        RID = int(subjects_df.iloc[i]['Subject ID'].split('_')[-1])\n",
    "        #print (vid, RID)\n",
    "        if vid in set(ADNI2_VISITID['VISCODE']): #to avoid cases like vid= 'tau'\n",
    "            \n",
    "            #look up VISCODE2 in mapping csv\n",
    "            n_vid = ADNI2_VISITID[(ADNI2_VISITID['RID'] == RID) & (ADNI2_VISITID['VISCODE']==vid)]['VISCODE2']\n",
    "            n_vid = list(n_vid)[0]\n",
    "\n",
    "\n",
    "\n",
    "            subjects_df.at[i,'VISCODE']=n_vid"
   ]
  },
  {
   "cell_type": "code",
   "execution_count": 0,
   "metadata": {
    "colab": {},
    "colab_type": "code",
    "id": "pfLH6-FFKM2t"
   },
   "outputs": [],
   "source": [
    "subjects_df.to_csv(os.path.join(data_prep_path,'ADNI_subjects_withVISCODE.csv')"
   ]
  },
  {
   "cell_type": "code",
   "execution_count": 64,
   "metadata": {
    "colab": {},
    "colab_type": "code",
    "id": "vtb2jF4GKM2w"
   },
   "outputs": [],
   "source": [
    "my_pd = pd.read_csv(os.path.join(data_prep_path,'my_csv_final1.csv'))\n",
    "subjects_df= pd.read_csv(os.path.join(data_prep_path,'ADNI_subjects_withVISCODE.csv'))"
   ]
  },
  {
   "cell_type": "markdown",
   "metadata": {
    "colab_type": "text",
    "id": "lRBIjnhzKM2z"
   },
   "source": [
    "At this point we have all the files with consistent visit code. Now let's fill my_csv with presence of imaging data information"
   ]
  },
  {
   "cell_type": "code",
   "execution_count": 68,
   "metadata": {
    "colab": {},
    "colab_type": "code",
    "id": "3TMjPIPFKM29",
    "outputId": "f0df6dbc-a65c-49ab-f95a-f118baf2c2c9"
   },
   "outputs": [
    {
     "data": {
      "text/plain": [
       "Index(['Unnamed: 0', 'COLPROT', 'VISCODE', 'PTID', 'EXAMDATE', 'AGE',\n",
       "       'PTGENDER', 'PTEDUCAT', 'PTETHCAT', 'PTRACCAT', 'APOE4', 'FDG_bl',\n",
       "       'FDG', 'ABETA_bl', 'ABETA', 'TAU_bl', 'TAU', 'PTAU_bl', 'PTAU',\n",
       "       'Hippocampus_bl', 'Hippocampus', 'WholeBrain_bl', 'WholeBrain',\n",
       "       'ADAS13_bl', 'ADAS13', 'MMSE_bl', 'MMSE', 'DX_bl', 'DX', 'MRI',\n",
       "       'FDG_PET', 'AV45_PET', 'TAU_PET'],\n",
       "      dtype='object')"
      ]
     },
     "execution_count": 68,
     "metadata": {},
     "output_type": "execute_result"
    }
   ],
   "source": [
    "my_pd.columns"
   ]
  },
  {
   "cell_type": "code",
   "execution_count": 69,
   "metadata": {
    "colab": {},
    "colab_type": "code",
    "id": "rxST6tBwKM2_"
   },
   "outputs": [],
   "source": [
    "my_pd = my_pd.assign(MRI=0)\n",
    "my_pd = my_pd.assign(FDG_PET=0)\n",
    "my_pd = my_pd.assign(AV45_PET=0)\n",
    "my_pd = my_pd.assign(TAU_PET=0)"
   ]
  },
  {
   "cell_type": "code",
   "execution_count": 70,
   "metadata": {
    "colab": {},
    "colab_type": "code",
    "id": "IJ_tPMeDKM3D"
   },
   "outputs": [],
   "source": [
    "for i in range(len(my_pd)):\n",
    "    \n",
    "    ptid = my_pd.iloc[i]['PTID']\n",
    "    phase = 'ADNI ' + my_pd.iloc[i]['COLPROT'][4:] #to accomodate for space in subject_df\n",
    "    group = my_pd.iloc[i]['DX'] #or DX_bl\n",
    "    matching_images = subjects_df[(subjects_df['Subject ID'] == ptid) & (subjects_df['Phase'] == phase) & (subjects_df['Research Group'] == group)]\n",
    "    if 'MRI' in set(matching_images['Modality']):\n",
    "        my_pd.at[i,'MRI']= 1\n",
    "    \n",
    "    if 'PET' in set(matching_images['Modality']):\n",
    "        images_descr = list(set(matching_images['Description']))\n",
    "        for pet in images_descr:\n",
    "            if 'FDG' in pet:\n",
    "                my_pd.at[i,'FDG_PET']= 1\n",
    "            \n",
    "            if 'AV45' in pet:\n",
    "                my_pd.at[i,'AV45_PET']= 1\n",
    "                \n",
    "            if 'Tau' in pet:\n",
    "                my_pd.at[i,'TAU_PET']= 1\n",
    "        \n",
    "    "
   ]
  },
  {
   "cell_type": "markdown",
   "metadata": {
    "colab_type": "text",
    "id": "PgpDoV9IKM3F"
   },
   "source": [
    "For how many subjects with genetic expression data corresponding modalities of imaging data is available (For either baseline diagnosis or current diagnosis\n",
    "\n",
    "Current Diagnosis(DX) OR Baseline Diagnosis(DX_bl)\n",
    "\n",
    "MRI = 649:\n",
    "        DX_bl = Counter({'CN': 229, 'AD': 40, 'EMCI': 179, 'LMCI': 201})\n",
    "        DX= Counter({'CN': 216, 'Dementia': 102, 'MCI': 323, nan: 8})\n",
    "        \n",
    "AV45_PET = 599:\n",
    "        DX_bl = Counter({'AD': 37, 'CN': 208, 'EMCI': 163, 'LMCI': 191})\n",
    "        DX= Counter({'Dementia': 97, 'CN': 195, 'MCI': 300, nan: 7})\n",
    "\n",
    "\n",
    "FDG_PET = 610:\n",
    "        DX_bl = Counter({'AD': 38, 'CN': 210, 'EMCI': 168, 'LMCI': 194})\n",
    "        DX= Counter({'Dementia': 98, 'CN': 197, 'MCI': 307, nan: 8})\n",
    "\n",
    "\n",
    "TAU_PET = 39:\n",
    "        DX_bl = Counter({'AD': 5, 'EMCI': 13, 'CN': 16, 'LMCI': 5})\n",
    "        DX= Counter({'Dementia': 5, 'MCI': 20, 'CN': 12, nan: 2})\n",
    "\n",
    "\n",
    "But genetic expression changes over time so to be more accurate the count of imaging corresponding to only the current diagnosis is:\n",
    "\n",
    "for MRI: Counter({'MCI': 148, 'CN': 94, 'Dementia': 40, nan: 3}) Total:  285\n",
    "\n",
    "for AV45_PET: Counter({'MCI': 131, 'CN': 79, 'Dementia': 36, nan: 3}) Total:  249\n",
    "\n",
    "for FDG_PET: Counter({'MCI': 137, 'CN': 79, 'Dementia': 37, nan: 3}) Total:  256\n",
    "\n",
    "for TAU_PET: Counter({'MCI': 10, 'CN': 8, 'Dementia': 3, nan: 1}) Total:  22\n"
   ]
  },
  {
   "cell_type": "code",
   "execution_count": 71,
   "metadata": {
    "colab": {},
    "colab_type": "code",
    "id": "6TiDYm0QKM3G",
    "outputId": "398ba7bd-52ae-4660-944b-f34c4317915e"
   },
   "outputs": [
    {
     "name": "stdout",
     "output_type": "stream",
     "text": [
      "for MRI: Counter({'CN': 228, 'MCI': 57}) Total:  285\n",
      "for AV45_PET: Counter({'CN': 205, 'MCI': 44}) Total:  249\n",
      "for FDG_PET: Counter({'CN': 210, 'MCI': 46}) Total:  256\n",
      "for TAU_PET: Counter({'CN': 22}) Total:  22\n"
     ]
    }
   ],
   "source": [
    "print('for MRI:',Counter(my_pd[my_pd['MRI']==1]['DX']),'Total: ',my_pd['MRI'].sum())\n",
    "print('for AV45_PET:',Counter(my_pd[my_pd['AV45_PET']==1]['DX']),'Total: ',my_pd['AV45_PET'].sum())\n",
    "print('for FDG_PET:',Counter(my_pd[my_pd['FDG_PET']==1]['DX']),'Total: ',my_pd['FDG_PET'].sum())  \n",
    "print('for TAU_PET:',Counter(my_pd[my_pd['TAU_PET']==1]['DX']),'Total: ',my_pd['TAU_PET'].sum())"
   ]
  },
  {
   "cell_type": "markdown",
   "metadata": {
    "colab_type": "text",
    "id": "Qo4dL73mKM3I"
   },
   "source": [
    "At this point my_pd has data from ADNIMERGE and information about  presence of imaging data"
   ]
  },
  {
   "cell_type": "markdown",
   "metadata": {
    "colab_type": "text",
    "id": "VCZqQ73MKM3I"
   },
   "source": [
    "Now let's add the gene expression data on it!!"
   ]
  },
  {
   "cell_type": "code",
   "execution_count": 72,
   "metadata": {
    "colab": {},
    "colab_type": "code",
    "id": "vfPd8IP7KM3J",
    "outputId": "90ce6b7c-a42a-403b-d289-2f5e42933472"
   },
   "outputs": [
    {
     "data": {
      "text/plain": [
       "49386"
      ]
     },
     "execution_count": 72,
     "metadata": {},
     "output_type": "execute_result"
    }
   ],
   "source": [
    "probes = gene_exp['Phase'][8:]\n",
    "len(probes)"
   ]
  },
  {
   "cell_type": "code",
   "execution_count": 73,
   "metadata": {
    "colab": {},
    "colab_type": "code",
    "id": "-Q8SXefiKM3M",
    "outputId": "27b853ae-d13b-429a-ab34-101ffc02ae55"
   },
   "outputs": [
    {
     "data": {
      "text/plain": [
       "(49386, 744)"
      ]
     },
     "execution_count": 73,
     "metadata": {},
     "output_type": "execute_result"
    }
   ],
   "source": [
    "exps = gene_exp.iloc[8:,3:-1]\n",
    "\n",
    "exps.shape"
   ]
  },
  {
   "cell_type": "code",
   "execution_count": 74,
   "metadata": {
    "colab": {},
    "colab_type": "code",
    "id": "m2bbBx3WKM3N",
    "outputId": "f061747b-8a63-4609-9bdb-d3972f959437"
   },
   "outputs": [
    {
     "data": {
      "text/plain": [
       "(744, (49419, 744), (49386, 744))"
      ]
     },
     "execution_count": 74,
     "metadata": {},
     "output_type": "execute_result"
    }
   ],
   "source": [
    "header_list = list(my_pd.columns) + list(probes)\n",
    "my_pd = my_pd.reindex(columns = header_list) \n",
    "my_pd = my_pd.T\n",
    "len(my_pd.columns),my_pd.shape,exps.shape"
   ]
  },
  {
   "cell_type": "code",
   "execution_count": 79,
   "metadata": {
    "colab": {},
    "colab_type": "code",
    "id": "ak0BBIXlKM3P",
    "outputId": "d767ab1b-e2d6-44b1-be7a-2ace6c917b0f"
   },
   "outputs": [
    {
     "data": {
      "text/plain": [
       "33"
      ]
     },
     "execution_count": 79,
     "metadata": {},
     "output_type": "execute_result"
    }
   ],
   "source": [
    "49419-49386"
   ]
  },
  {
   "cell_type": "code",
   "execution_count": 80,
   "metadata": {
    "colab": {},
    "colab_type": "code",
    "id": "Ei65_jloKM3R"
   },
   "outputs": [],
   "source": [
    "import numpy as np\n",
    "my_pd.iloc[33:,:] = np.array(exps.iloc[:,:]) #copy the gene expression values for each subjects"
   ]
  },
  {
   "cell_type": "code",
   "execution_count": 82,
   "metadata": {
    "colab": {},
    "colab_type": "code",
    "id": "UcJa02g1KM3d"
   },
   "outputs": [],
   "source": [
    "my_pd.to_csv(os.path.join(data_prep_path,'ADNI_Imaging_Gene_Expression_MMSE_Combined.csv'))"
   ]
  }
 ],
 "metadata": {
  "colab": {
   "name": "Gene_Expression_Analysis_Data_Prep.ipynb",
   "provenance": []
  },
  "kernelspec": {
   "display_name": "Python 3",
   "language": "python",
   "name": "python3"
  },
  "language_info": {
   "codemirror_mode": {
    "name": "ipython",
    "version": 3
   },
   "file_extension": ".py",
   "mimetype": "text/x-python",
   "name": "python",
   "nbconvert_exporter": "python",
   "pygments_lexer": "ipython3",
   "version": "3.8.3"
  }
 },
 "nbformat": 4,
 "nbformat_minor": 1
}
