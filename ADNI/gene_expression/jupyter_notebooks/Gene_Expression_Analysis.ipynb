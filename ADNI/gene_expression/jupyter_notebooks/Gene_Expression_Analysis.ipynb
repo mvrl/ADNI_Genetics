{
 "cells": [
  {
   "cell_type": "markdown",
   "metadata": {},
   "source": [
    "# Statistical Analysis for Gene Expression profile for ADNI "
   ]
  },
  {
   "cell_type": "markdown",
   "metadata": {
    "colab_type": "text",
    "id": "AQACj2CyKBcS"
   },
   "source": [
    "Using the file created in data_prep, Now let's run statistical significance test to identify \" important genes\""
   ]
  },
  {
   "cell_type": "code",
   "execution_count": 1,
   "metadata": {
    "colab": {},
    "colab_type": "code",
    "id": "HLhAgSXLKBcT"
   },
   "outputs": [],
   "source": [
    "import pandas as pd\n",
    "import numpy as np\n",
    "import os"
   ]
  },
  {
   "cell_type": "code",
   "execution_count": 2,
   "metadata": {},
   "outputs": [],
   "source": [
    "data_prep_path = '/Users/subashkhanal/Desktop/MLforAlzheimers/data/ADNI/genetics/data_prep'\n",
    "stats_path = '/Users/subashkhanal/Desktop/MLforAlzheimers/data/ADNI/genetics/stats'\n",
    "gene_expr_path = '/Users/subashkhanal/Desktop/MLforAlzheimers/data/ADNI/genetics/ADNI_Gene_Expression_Profile/'"
   ]
  },
  {
   "cell_type": "code",
   "execution_count": 28,
   "metadata": {
    "colab": {},
    "colab_type": "code",
    "id": "6HjCih6gKBcY"
   },
   "outputs": [],
   "source": [
    "df = pd.read_csv(os.path.join(data_prep_path,'ADNI_Imaging_Gene_Expression_MMSE_Combined.csv'),low_memory=False)"
   ]
  },
  {
   "cell_type": "code",
   "execution_count": 29,
   "metadata": {
    "colab": {},
    "colab_type": "code",
    "id": "RRD5fd_XKBcd"
   },
   "outputs": [],
   "source": [
    "df = df.T"
   ]
  },
  {
   "cell_type": "code",
   "execution_count": 30,
   "metadata": {
    "colab": {},
    "colab_type": "code",
    "id": "eCefRq7cKBch"
   },
   "outputs": [],
   "source": [
    "df.columns = df.iloc[0]\n",
    "df = df.drop(df.index[0])"
   ]
  },
  {
   "cell_type": "code",
   "execution_count": 31,
   "metadata": {
    "colab": {},
    "colab_type": "code",
    "id": "85qS2qf5KBcq"
   },
   "outputs": [],
   "source": [
    "df_exp = df.loc[:,'11715100_at': 'AFFX-r2-TagQ-5_at'].astype('float')"
   ]
  },
  {
   "cell_type": "code",
   "execution_count": 34,
   "metadata": {},
   "outputs": [],
   "source": [
    "df_exp = df_exp.drop('Gene')"
   ]
  },
  {
   "cell_type": "code",
   "execution_count": 7,
   "metadata": {
    "colab": {},
    "colab_type": "code",
    "id": "_Dp-IycRKBcu"
   },
   "outputs": [],
   "source": [
    "df_MMSE = df.loc[:,['MMSE']]"
   ]
  },
  {
   "cell_type": "code",
   "execution_count": 8,
   "metadata": {
    "colab": {},
    "colab_type": "code",
    "id": "nJXy-O82KBcz"
   },
   "outputs": [],
   "source": [
    "from numpy import cov\n",
    "df_exp_MMSE =pd.concat([df_exp, df_MMSE], axis=1)\n",
    "#df_cov = df_exp_MMSE.cov()"
   ]
  },
  {
   "cell_type": "code",
   "execution_count": 9,
   "metadata": {
    "colab": {},
    "colab_type": "code",
    "id": "B1rHe7hdKBc2"
   },
   "outputs": [],
   "source": [
    "#df_cov.shape"
   ]
  },
  {
   "cell_type": "code",
   "execution_count": 10,
   "metadata": {
    "colab": {},
    "colab_type": "code",
    "id": "C26BoDCEKBc7"
   },
   "outputs": [],
   "source": [
    "#df_cov.to_csv('gene_covarainces.csv')"
   ]
  },
  {
   "cell_type": "code",
   "execution_count": 11,
   "metadata": {
    "colab": {},
    "colab_type": "code",
    "id": "mSt9mFAhKBdA"
   },
   "outputs": [],
   "source": [
    "df_exp_MMSE = df_exp_MMSE.dropna()"
   ]
  },
  {
   "cell_type": "code",
   "execution_count": 12,
   "metadata": {
    "colab": {},
    "colab_type": "code",
    "id": "eeqcAc2OKBdF"
   },
   "outputs": [],
   "source": [
    "from scipy.stats import spearmanr\n",
    "from scipy.stats import pearsonr"
   ]
  },
  {
   "cell_type": "markdown",
   "metadata": {},
   "source": [
    "# Spearman correlation with MMSE"
   ]
  },
  {
   "cell_type": "code",
   "execution_count": 13,
   "metadata": {
    "colab": {},
    "colab_type": "code",
    "id": "l0K9HJmiKBdI"
   },
   "outputs": [],
   "source": [
    "df_genes_corr = pd.DataFrame(data = list(df_exp.columns), columns=['gene_probes'])\n",
    "df_genes_corr['cov'] = ''\n",
    "df_genes_corr['pvalue'] = ''\n",
    "df_genes_corr = df_genes_corr.set_index('gene_probes')"
   ]
  },
  {
   "cell_type": "code",
   "execution_count": 16,
   "metadata": {
    "colab": {},
    "colab_type": "code",
    "id": "V02iu3V3KBdL"
   },
   "outputs": [
    {
     "data": {
      "text/html": [
       "<div>\n",
       "<style scoped>\n",
       "    .dataframe tbody tr th:only-of-type {\n",
       "        vertical-align: middle;\n",
       "    }\n",
       "\n",
       "    .dataframe tbody tr th {\n",
       "        vertical-align: top;\n",
       "    }\n",
       "\n",
       "    .dataframe thead th {\n",
       "        text-align: right;\n",
       "    }\n",
       "</style>\n",
       "<table border=\"1\" class=\"dataframe\">\n",
       "  <thead>\n",
       "    <tr style=\"text-align: right;\">\n",
       "      <th></th>\n",
       "      <th>cov</th>\n",
       "      <th>pvalue</th>\n",
       "    </tr>\n",
       "    <tr>\n",
       "      <th>gene_probes</th>\n",
       "      <th></th>\n",
       "      <th></th>\n",
       "    </tr>\n",
       "  </thead>\n",
       "  <tbody>\n",
       "    <tr>\n",
       "      <th>11715100_at</th>\n",
       "      <td>0.0387475</td>\n",
       "      <td>0.295129</td>\n",
       "    </tr>\n",
       "    <tr>\n",
       "      <th>11715101_s_at</th>\n",
       "      <td>-0.0183457</td>\n",
       "      <td>0.620215</td>\n",
       "    </tr>\n",
       "    <tr>\n",
       "      <th>11715102_x_at</th>\n",
       "      <td>-0.0464924</td>\n",
       "      <td>0.208969</td>\n",
       "    </tr>\n",
       "    <tr>\n",
       "      <th>11715103_x_at</th>\n",
       "      <td>-0.00824049</td>\n",
       "      <td>0.823868</td>\n",
       "    </tr>\n",
       "    <tr>\n",
       "      <th>11715104_s_at</th>\n",
       "      <td>0.0421453</td>\n",
       "      <td>0.254778</td>\n",
       "    </tr>\n",
       "    <tr>\n",
       "      <th>...</th>\n",
       "      <td>...</td>\n",
       "      <td>...</td>\n",
       "    </tr>\n",
       "    <tr>\n",
       "      <th>AFFX-r2-TagJ-5_at</th>\n",
       "      <td>-0.0496384</td>\n",
       "      <td>0.179751</td>\n",
       "    </tr>\n",
       "    <tr>\n",
       "      <th>AFFX-r2-TagO-3_at</th>\n",
       "      <td>0.00726335</td>\n",
       "      <td>0.844469</td>\n",
       "    </tr>\n",
       "    <tr>\n",
       "      <th>AFFX-r2-TagO-5_at</th>\n",
       "      <td>-0.096448</td>\n",
       "      <td>0.0090257</td>\n",
       "    </tr>\n",
       "    <tr>\n",
       "      <th>AFFX-r2-TagQ-3_at</th>\n",
       "      <td>-0.0414739</td>\n",
       "      <td>0.262432</td>\n",
       "    </tr>\n",
       "    <tr>\n",
       "      <th>AFFX-r2-TagQ-5_at</th>\n",
       "      <td>-0.0742376</td>\n",
       "      <td>0.0446568</td>\n",
       "    </tr>\n",
       "  </tbody>\n",
       "</table>\n",
       "<p>49386 rows × 2 columns</p>\n",
       "</div>"
      ],
      "text/plain": [
       "                          cov     pvalue\n",
       "gene_probes                             \n",
       "11715100_at         0.0387475   0.295129\n",
       "11715101_s_at      -0.0183457   0.620215\n",
       "11715102_x_at      -0.0464924   0.208969\n",
       "11715103_x_at     -0.00824049   0.823868\n",
       "11715104_s_at       0.0421453   0.254778\n",
       "...                       ...        ...\n",
       "AFFX-r2-TagJ-5_at  -0.0496384   0.179751\n",
       "AFFX-r2-TagO-3_at  0.00726335   0.844469\n",
       "AFFX-r2-TagO-5_at   -0.096448  0.0090257\n",
       "AFFX-r2-TagQ-3_at  -0.0414739   0.262432\n",
       "AFFX-r2-TagQ-5_at  -0.0742376  0.0446568\n",
       "\n",
       "[49386 rows x 2 columns]"
      ]
     },
     "execution_count": 16,
     "metadata": {},
     "output_type": "execute_result"
    }
   ],
   "source": [
    "for col in df_exp.columns:\n",
    "    data1 = df_exp_MMSE[col]\n",
    "    data1 = np.array(data1, dtype=float)\n",
    "    data2 = df_exp_MMSE['MMSE']\n",
    "    data2 = np.array(data2, dtype=float)\n",
    "    corr, p = spearmanr(data1, data2)\n",
    "    df_genes_corr.at[col,'cov'] = corr\n",
    "    df_genes_corr.at[col,'pvalue'] = p\n",
    "    \n",
    "df_genes_corr   "
   ]
  },
  {
   "cell_type": "code",
   "execution_count": 17,
   "metadata": {
    "colab": {},
    "colab_type": "code",
    "id": "NESUysDeKBdS"
   },
   "outputs": [],
   "source": [
    "df_genes_corr.to_csv(os.path.join(stats_path,'Spearmanr_with_MMSE.csv'))"
   ]
  },
  {
   "cell_type": "markdown",
   "metadata": {},
   "source": [
    "# Pearson correlation with MMSE"
   ]
  },
  {
   "cell_type": "code",
   "execution_count": 18,
   "metadata": {
    "colab": {},
    "colab_type": "code",
    "id": "177GH3AVKBdV"
   },
   "outputs": [
    {
     "data": {
      "text/html": [
       "<div>\n",
       "<style scoped>\n",
       "    .dataframe tbody tr th:only-of-type {\n",
       "        vertical-align: middle;\n",
       "    }\n",
       "\n",
       "    .dataframe tbody tr th {\n",
       "        vertical-align: top;\n",
       "    }\n",
       "\n",
       "    .dataframe thead th {\n",
       "        text-align: right;\n",
       "    }\n",
       "</style>\n",
       "<table border=\"1\" class=\"dataframe\">\n",
       "  <thead>\n",
       "    <tr style=\"text-align: right;\">\n",
       "      <th></th>\n",
       "      <th>cov</th>\n",
       "      <th>pvalue</th>\n",
       "    </tr>\n",
       "    <tr>\n",
       "      <th>gene_probes</th>\n",
       "      <th></th>\n",
       "      <th></th>\n",
       "    </tr>\n",
       "  </thead>\n",
       "  <tbody>\n",
       "    <tr>\n",
       "      <th>11715100_at</th>\n",
       "      <td>-0.0292606</td>\n",
       "      <td>0.42925</td>\n",
       "    </tr>\n",
       "    <tr>\n",
       "      <th>11715101_s_at</th>\n",
       "      <td>-0.0531343</td>\n",
       "      <td>0.150965</td>\n",
       "    </tr>\n",
       "    <tr>\n",
       "      <th>11715102_x_at</th>\n",
       "      <td>-0.049596</td>\n",
       "      <td>0.180123</td>\n",
       "    </tr>\n",
       "    <tr>\n",
       "      <th>11715103_x_at</th>\n",
       "      <td>-0.0131455</td>\n",
       "      <td>0.722541</td>\n",
       "    </tr>\n",
       "    <tr>\n",
       "      <th>11715104_s_at</th>\n",
       "      <td>0.00686301</td>\n",
       "      <td>0.852941</td>\n",
       "    </tr>\n",
       "    <tr>\n",
       "      <th>...</th>\n",
       "      <td>...</td>\n",
       "      <td>...</td>\n",
       "    </tr>\n",
       "    <tr>\n",
       "      <th>AFFX-r2-TagJ-5_at</th>\n",
       "      <td>-0.0542216</td>\n",
       "      <td>0.142768</td>\n",
       "    </tr>\n",
       "    <tr>\n",
       "      <th>AFFX-r2-TagO-3_at</th>\n",
       "      <td>0.038009</td>\n",
       "      <td>0.304436</td>\n",
       "    </tr>\n",
       "    <tr>\n",
       "      <th>AFFX-r2-TagO-5_at</th>\n",
       "      <td>-0.0837489</td>\n",
       "      <td>0.0234527</td>\n",
       "    </tr>\n",
       "    <tr>\n",
       "      <th>AFFX-r2-TagQ-3_at</th>\n",
       "      <td>-0.0346631</td>\n",
       "      <td>0.349013</td>\n",
       "    </tr>\n",
       "    <tr>\n",
       "      <th>AFFX-r2-TagQ-5_at</th>\n",
       "      <td>-0.0479605</td>\n",
       "      <td>0.194932</td>\n",
       "    </tr>\n",
       "  </tbody>\n",
       "</table>\n",
       "<p>49386 rows × 2 columns</p>\n",
       "</div>"
      ],
      "text/plain": [
       "                          cov     pvalue\n",
       "gene_probes                             \n",
       "11715100_at        -0.0292606    0.42925\n",
       "11715101_s_at      -0.0531343   0.150965\n",
       "11715102_x_at       -0.049596   0.180123\n",
       "11715103_x_at      -0.0131455   0.722541\n",
       "11715104_s_at      0.00686301   0.852941\n",
       "...                       ...        ...\n",
       "AFFX-r2-TagJ-5_at  -0.0542216   0.142768\n",
       "AFFX-r2-TagO-3_at    0.038009   0.304436\n",
       "AFFX-r2-TagO-5_at  -0.0837489  0.0234527\n",
       "AFFX-r2-TagQ-3_at  -0.0346631   0.349013\n",
       "AFFX-r2-TagQ-5_at  -0.0479605   0.194932\n",
       "\n",
       "[49386 rows x 2 columns]"
      ]
     },
     "execution_count": 18,
     "metadata": {},
     "output_type": "execute_result"
    }
   ],
   "source": [
    "for col in df_exp.columns:\n",
    "    data1 = df_exp_MMSE[col]\n",
    "    data1 = np.array(data1, dtype=float)\n",
    "    data2 = df_exp_MMSE['MMSE']\n",
    "    data2 = np.array(data2, dtype=float)\n",
    "    corr, p = pearsonr(data1, data2)\n",
    "    df_genes_corr.at[col,'cov'] = corr\n",
    "    df_genes_corr.at[col,'pvalue'] = p\n",
    "df_genes_corr"
   ]
  },
  {
   "cell_type": "code",
   "execution_count": 20,
   "metadata": {
    "colab": {},
    "colab_type": "code",
    "id": "3FHu6wNpKBdb"
   },
   "outputs": [],
   "source": [
    "df_genes_corr.to_csv(os.path.join(stats_path,'Pearsonr_with_MMSE.csv'))"
   ]
  },
  {
   "cell_type": "markdown",
   "metadata": {},
   "source": [
    "# T-test"
   ]
  },
  {
   "cell_type": "code",
   "execution_count": 52,
   "metadata": {
    "colab": {},
    "colab_type": "code",
    "id": "4D2xIlA6KBdm",
    "outputId": "e0d36c50-4e16-4c07-da3d-edabad25d44a"
   },
   "outputs": [
    {
     "data": {
      "text/plain": [
       "Counter({nan: 1, 'CN': 244, 'Dementia': 113, 'MCI': 377, nan: 10})"
      ]
     },
     "execution_count": 52,
     "metadata": {},
     "output_type": "execute_result"
    }
   ],
   "source": [
    "from collections import Counter\n",
    "Counter(df['DX'])"
   ]
  },
  {
   "cell_type": "code",
   "execution_count": null,
   "metadata": {},
   "outputs": [],
   "source": []
  },
  {
   "cell_type": "code",
   "execution_count": 8,
   "metadata": {
    "colab": {},
    "colab_type": "code",
    "id": "8W-9UPB8KBdp"
   },
   "outputs": [],
   "source": [
    "df_CN = df[df['DX']=='CN']\n",
    "df_AD = df[df['DX']=='Dementia']\n",
    "df_MCI = df[df['DX']=='MCI']"
   ]
  },
  {
   "cell_type": "code",
   "execution_count": 9,
   "metadata": {
    "colab": {},
    "colab_type": "code",
    "id": "EB0IukabKBdr",
    "outputId": "4da720ad-c8ca-4e9d-b198-98f67b3df5f0"
   },
   "outputs": [
    {
     "data": {
      "text/plain": [
       "(244, 113, 377)"
      ]
     },
     "execution_count": 9,
     "metadata": {},
     "output_type": "execute_result"
    }
   ],
   "source": [
    "len(df_CN),len(df_AD),len(df_MCI)"
   ]
  },
  {
   "cell_type": "code",
   "execution_count": 10,
   "metadata": {
    "colab": {},
    "colab_type": "code",
    "id": "jAtuIpFUKBdu"
   },
   "outputs": [],
   "source": [
    "df_CN_exp = df_CN.loc[:,'11715100_at': 'AFFX-r2-TagQ-5_at'].astype('float')\n",
    "df_AD_exp = df_AD.loc[:,'11715100_at': 'AFFX-r2-TagQ-5_at'].astype('float')\n",
    "df_MCI_exp = df_MCI.loc[:,'11715100_at': 'AFFX-r2-TagQ-5_at'].astype('float')"
   ]
  },
  {
   "cell_type": "code",
   "execution_count": 46,
   "metadata": {
    "colab": {},
    "colab_type": "code",
    "id": "-0lq24c5KBdx"
   },
   "outputs": [],
   "source": [
    "data = df_CN_exp.loc[:,'11715100_at': 'AFFX-r2-TagQ-5_at'].astype('float')"
   ]
  },
  {
   "cell_type": "code",
   "execution_count": 48,
   "metadata": {},
   "outputs": [
    {
     "data": {
      "text/plain": [
       "(0.00033234996674650475,\n",
       " NormaltestResult(statistic=16.018644055064676, pvalue=0.00033234996674650475))"
      ]
     },
     "execution_count": 48,
     "metadata": {},
     "output_type": "execute_result"
    }
   ],
   "source": [
    "stats.normaltest(data['11715100_at'])[1],stats.normaltest(data['11715100_at'])"
   ]
  },
  {
   "cell_type": "code",
   "execution_count": 49,
   "metadata": {
    "colab": {},
    "colab_type": "code",
    "id": "BnSQzLXRKBd0",
    "outputId": "18587efe-88ad-4963-db97-4f3834bd52e4"
   },
   "outputs": [
    {
     "data": {
      "text/plain": [
       "0.15998091462170227"
      ]
     },
     "execution_count": 49,
     "metadata": {},
     "output_type": "execute_result"
    }
   ],
   "source": [
    "p = []\n",
    "data = df_CN_exp\n",
    "from scipy import stats\n",
    "for col in data.columns:\n",
    "    p.append(stats.normaltest(data[col])[1])\n",
    "sum(p)/len(p)\n",
    "# null hypothesis: x comes from a normal distribution"
   ]
  },
  {
   "cell_type": "code",
   "execution_count": 50,
   "metadata": {},
   "outputs": [
    {
     "data": {
      "text/plain": [
       "0.2557328454985385"
      ]
     },
     "execution_count": 50,
     "metadata": {},
     "output_type": "execute_result"
    }
   ],
   "source": [
    "p = []\n",
    "data = df_AD_exp\n",
    "from scipy import stats\n",
    "for col in data.columns:\n",
    "    p.append(stats.normaltest(data[col])[1])\n",
    "sum(p)/len(p)\n",
    "# null hypothesis: x comes from a normal distribution"
   ]
  },
  {
   "cell_type": "code",
   "execution_count": 51,
   "metadata": {},
   "outputs": [
    {
     "data": {
      "text/plain": [
       "0.11950402945686361"
      ]
     },
     "execution_count": 51,
     "metadata": {},
     "output_type": "execute_result"
    }
   ],
   "source": [
    "p = []\n",
    "data = df_MCI_exp\n",
    "from scipy import stats\n",
    "for col in data.columns:\n",
    "    p.append(stats.normaltest(data[col])[1])\n",
    "sum(p)/len(p)\n",
    "# null hypothesis: x comes from a normal distribution"
   ]
  },
  {
   "cell_type": "code",
   "execution_count": 28,
   "metadata": {
    "colab": {},
    "colab_type": "code",
    "id": "KqWMW4KvKBd3",
    "outputId": "aaec7cfc-66ac-40c5-f38b-b40accf5e55c"
   },
   "outputs": [
    {
     "name": "stderr",
     "output_type": "stream",
     "text": [
      "<ipython-input-28-c6bd244b9852>:4: VisibleDeprecationWarning: Passing `normed=True` on non-uniform bins has always been broken, and computes neither the probability density function nor the probability mass function. The result is only correct if the bins are uniform, when density=True will produce the same result anyway. The argument will be removed in a future version of numpy.\n",
      "  hist, bins = np.histogram(data, bins=100, normed=True)\n"
     ]
    },
    {
     "data": {
      "text/plain": [
       "[<matplotlib.lines.Line2D at 0x7fe226924df0>]"
      ]
     },
     "execution_count": 28,
     "metadata": {},
     "output_type": "execute_result"
    },
    {
     "data": {
      "image/png": "[encoded data removed]",
      "text/plain": [
       "<Figure size 432x288 with 1 Axes>"
      ]
     },
     "metadata": {
      "needs_background": "light"
     },
     "output_type": "display_data"
    }
   ],
   "source": [
    "import matplotlib.pyplot as plt\n",
    "import numpy as np\n",
    "# a is your data array\n",
    "hist, bins = np.histogram(data, bins=100, normed=True)\n",
    "bin_centers = (bins[1:]+bins[:-1])*0.5\n",
    "plt.plot(bin_centers, hist)"
   ]
  },
  {
   "cell_type": "code",
   "execution_count": 37,
   "metadata": {
    "colab": {},
    "colab_type": "code",
    "id": "liKRoBOdKBd6"
   },
   "outputs": [],
   "source": [
    "from scipy.stats import ttest_ind"
   ]
  },
  {
   "cell_type": "code",
   "execution_count": 38,
   "metadata": {
    "colab": {},
    "colab_type": "code",
    "id": "_UOTuE44KBd8"
   },
   "outputs": [],
   "source": [
    "#Assuming gene expression values are normally distributed let's run a student's t test between different groups\n"
   ]
  },
  {
   "cell_type": "code",
   "execution_count": 39,
   "metadata": {
    "colab": {},
    "colab_type": "code",
    "id": "Z-RO0lOJKBd_"
   },
   "outputs": [],
   "source": [
    "gene_probes = df_AD_exp.columns"
   ]
  },
  {
   "cell_type": "code",
   "execution_count": 40,
   "metadata": {
    "colab": {},
    "colab_type": "code",
    "id": "GmZzsQ3cKBeD"
   },
   "outputs": [],
   "source": [
    "groups = ['AD_CN', 'AD_MCI', 'CN_MCI']\n",
    "df_p = pd.DataFrame(columns=groups, index = gene_probes) #datafrane for collecting p values for test"
   ]
  },
  {
   "cell_type": "code",
   "execution_count": 41,
   "metadata": {
    "colab": {},
    "colab_type": "code",
    "id": "BMW8BnpsKBeF"
   },
   "outputs": [],
   "source": [
    "for gene in gene_probes:\n",
    "    data1 = df_AD_exp[gene]\n",
    "    data2 = df_CN_exp[gene]\n",
    "    stat, p = ttest_ind(data1, data2)\n",
    "    df_p.loc[gene,'AD_CN'] = p\n",
    "    "
   ]
  },
  {
   "cell_type": "code",
   "execution_count": 42,
   "metadata": {
    "colab": {},
    "colab_type": "code",
    "id": "Bkpm8-GgKBeI"
   },
   "outputs": [],
   "source": [
    "for gene in gene_probes:\n",
    "    data1 = df_AD_exp[gene]\n",
    "    data2 = df_MCI_exp[gene]\n",
    "    stat, p = ttest_ind(data1, data2)\n",
    "    df_p.loc[gene,'AD_MCI'] = p"
   ]
  },
  {
   "cell_type": "code",
   "execution_count": 43,
   "metadata": {
    "colab": {},
    "colab_type": "code",
    "id": "uHHhbT8tKBeK"
   },
   "outputs": [],
   "source": [
    "for gene in gene_probes:\n",
    "    data1 = df_CN_exp[gene]\n",
    "    data2 = df_MCI_exp[gene]\n",
    "    stat, p = ttest_ind(data1, data2)\n",
    "    df_p.loc[gene,'CN_MCI'] = p"
   ]
  },
  {
   "cell_type": "markdown",
   "metadata": {
    "colab_type": "text",
    "id": "ghpYpbzeKBeN"
   },
   "source": [
    "Now since we have gene probes instead of gene names using the gene expression file create an additional column in df_p with respective gene name"
   ]
  },
  {
   "cell_type": "code",
   "execution_count": 53,
   "metadata": {
    "colab": {},
    "colab_type": "code",
    "id": "_fvBJ2q6KBeO",
    "outputId": "2217fecc-769d-4a36-be4e-5bd7e05dc123"
   },
   "outputs": [],
   "source": [
    "gene_exp = pd.read_csv(os.path.join(gene_expr_path,'ADNI_Gene_Expression_Profile.csv'),low_memory=False)"
   ]
  },
  {
   "cell_type": "code",
   "execution_count": 54,
   "metadata": {
    "colab": {},
    "colab_type": "code",
    "id": "VgoMxmK5KBeR"
   },
   "outputs": [],
   "source": [
    "gene_exp = gene_exp.drop(gene_exp.index[0:8])"
   ]
  },
  {
   "cell_type": "code",
   "execution_count": 55,
   "metadata": {
    "colab": {},
    "colab_type": "code",
    "id": "-k6gv_vKKBeX"
   },
   "outputs": [],
   "source": [
    "for i in range(len(df_p)):\n",
    "    gene = df_p.index[i]\n",
    "    Locus = gene_exp[gene_exp.Phase == gene]['Unnamed: 1']\n",
    "    Gene = gene_exp[gene_exp.Phase == gene]['Unnamed: 2']\n",
    "    if len(Locus) != 0 and len(Gene) != 0:\n",
    "        \n",
    "        df_p.at[gene,'Gene'] = Gene.iloc[0]\n",
    "        df_p.at[gene,'Locus'] = Locus.iloc[0]\n",
    "    "
   ]
  },
  {
   "cell_type": "code",
   "execution_count": 57,
   "metadata": {
    "colab": {},
    "colab_type": "code",
    "id": "2BnsgQ9CKBej"
   },
   "outputs": [],
   "source": [
    "df_p.to_csv(os.path.join(stats_path,'t_test_geneExpr.csv'))"
   ]
  }
 ],
 "metadata": {
  "colab": {
   "collapsed_sections": [],
   "name": "Gene_Expression_Analysis.ipynb",
   "provenance": []
  },
  "kernelspec": {
   "display_name": "Python 3",
   "language": "python",
   "name": "python3"
  },
  "language_info": {
   "codemirror_mode": {
    "name": "ipython",
    "version": 3
   },
   "file_extension": ".py",
   "mimetype": "text/x-python",
   "name": "python",
   "nbconvert_exporter": "python",
   "pygments_lexer": "ipython3",
   "version": "3.8.3"
  }
 },
 "nbformat": 4,
 "nbformat_minor": 1
}
