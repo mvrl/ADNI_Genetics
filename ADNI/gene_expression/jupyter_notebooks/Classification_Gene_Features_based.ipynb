{
 "cells": [
  {
   "cell_type": "code",
   "execution_count": 1,
   "metadata": {
    "colab": {},
    "colab_type": "code",
    "id": "lSdz9b8g9TgI"
   },
   "outputs": [],
   "source": [
    "import pandas as pd\n",
    "import os"
   ]
  },
  {
   "cell_type": "code",
   "execution_count": 238,
   "metadata": {
    "colab": {},
    "colab_type": "code",
    "id": "rEvAhTx-9TgO"
   },
   "outputs": [],
   "source": [
    "data_path = '/Users/subashkhanal/Desktop/MLforAlzheimers/data/ADNI/genetics/final/'\n",
    "#stats_path = '/Users/subashkhanal/Desktop/MLforAlzheimers/data/ADNI/genetics/stats'"
   ]
  },
  {
   "cell_type": "code",
   "execution_count": 254,
   "metadata": {},
   "outputs": [
    {
     "data": {
      "text/plain": [
       "['t_test_geneExpr_Unfiltered.csv',\n",
       " '.DS_Store',\n",
       " 'Bothfiltered_gene_expr_dx.csv',\n",
       " 'GeneExpr_brain_feat.csv',\n",
       " 't_test_geneExpr_Bothfiltered.csv',\n",
       " 'Unfiltered_gene_expr_dx.csv',\n",
       " 't_test_geneExpr_Probefiltered.csv',\n",
       " 'gene_probe_map.csv',\n",
       " 'Probfiltered_gene_expr_dx.csv']"
      ]
     },
     "execution_count": 254,
     "metadata": {},
     "output_type": "execute_result"
    }
   ],
   "source": [
    "os.listdir(data_prep_path)"
   ]
  },
  {
   "cell_type": "code",
   "execution_count": 300,
   "metadata": {},
   "outputs": [],
   "source": [
    "df0 = pd.read_csv(os.path.join(data_path,'Unfiltered_gene_expr_dx.csv'),low_memory=False)\n",
    "df1 = pd.read_csv(os.path.join(data_path,'Probfiltered_gene_expr_dx.csv'),low_memory=False)\n",
    "df2 = pd.read_csv(os.path.join(data_path,'Bothfiltered_gene_expr_dx.csv'),low_memory=False)\n",
    "tf0 = pd.read_csv(os.path.join(data_path,'t_test_geneExpr_Unfiltered.csv'),low_memory=False)\n",
    "tf1 = pd.read_csv(os.path.join(data_path,'t_test_geneExpr_Probefiltered.csv'),low_memory=False)\n",
    "tf2 = pd.read_csv(os.path.join(data_path,'t_test_geneExpr_Bothfiltered.csv'),low_memory=False)\n",
    "my_map = pd.read_csv(os.path.join(data_path,'gene_probe_map.csv'),low_memory=False)"
   ]
  },
  {
   "cell_type": "code",
   "execution_count": 231,
   "metadata": {},
   "outputs": [],
   "source": [
    "# gene_probe_map = df.loc[32:,['PTID','Gene']]\n",
    "# import numpy as np\n",
    "# unlabeled_probes = np.where(pd.isnull(gene_probe_map))[0]\n",
    "# print(len(unlabeled_probes))\n",
    "# for probe in unlabeled_probes:\n",
    "#     gene_probe_map.at[probe,'Gene'] = gene_probe_map.iloc[probe].PTID\n",
    "#     #print(gene_probe_map.at[probe,'Gene'])\n",
    "# len(np.where(pd.isnull(gene_probe_map))[0])"
   ]
  },
  {
   "cell_type": "code",
   "execution_count": 292,
   "metadata": {},
   "outputs": [
    {
     "data": {
      "text/plain": [
       "['CN', 'AD']"
      ]
     },
     "execution_count": 292,
     "metadata": {},
     "output_type": "execute_result"
    }
   ],
   "source": [
    "classes.split('_')"
   ]
  },
  {
   "cell_type": "code",
   "execution_count": 303,
   "metadata": {},
   "outputs": [
    {
     "name": "stdout",
     "output_type": "stream",
     "text": [
      "CN_Dementia Unfiltered Counter({'CN': 244, 'Dementia': 113})\n",
      "CN_Dementia Probfiltered Counter({'CN': 244, 'Dementia': 113})\n",
      "CN_Dementia Bothfiltered Counter({'CN': 118, 'Dementia': 56})\n",
      "CN_MCI Unfiltered Counter({'MCI': 377, 'CN': 244})\n",
      "CN_MCI Probfiltered Counter({'MCI': 379, 'CN': 244})\n",
      "CN_MCI Bothfiltered Counter({'MCI': 197, 'CN': 118})\n",
      "MCI_Dementia Unfiltered Counter({'MCI': 377, 'Dementia': 113})\n",
      "MCI_Dementia Probfiltered Counter({'MCI': 379, 'Dementia': 113})\n",
      "MCI_Dementia Bothfiltered Counter({'MCI': 197, 'Dementia': 56})\n"
     ]
    }
   ],
   "source": [
    "classes = ['CN_Dementia', 'CN_MCI','MCI_Dementia']\n",
    "feat_types = ['Unfiltered', 'Probfiltered','Bothfiltered']\n",
    "for c in classes:\n",
    "    for f in feat_types:\n",
    "        df = pd.read_csv(os.path.join(data_path,f+'_gene_expr_dx.csv'),low_memory=False)\n",
    "        my_df = df[(df['DX'] == c.split('_')[0]) | (df['DX'] == c.split('_')[1])]\n",
    "        my_df.to_csv(os.path.join(data_path, f+'_'+c+'.csv'))\n",
    "        print(c,f,Counter(my_df['DX']))\n",
    "\n"
   ]
  },
  {
   "cell_type": "code",
   "execution_count": 304,
   "metadata": {},
   "outputs": [
    {
     "data": {
      "text/plain": [
       "['t_test_geneExpr_Unfiltered.csv',\n",
       " 'Unfiltered_MCI_Dementia.csv',\n",
       " '.DS_Store',\n",
       " 'Bothfiltered_gene_expr_dx.csv',\n",
       " 'GeneExpr_brain_feat.csv',\n",
       " 't_test_geneExpr_Bothfiltered.csv',\n",
       " 'Unfiltered_gene_expr_dx.csv',\n",
       " 't_test_geneExpr_Probefiltered.csv',\n",
       " 'Bothfiltered_MCI_Dementia.csv',\n",
       " 'Probfiltered_CN_MCI.csv',\n",
       " 'gene_probe_map.csv',\n",
       " 'Unfiltered_CN_Dementia.csv',\n",
       " 'Unfiltered_CN_MCI.csv',\n",
       " 'Probfiltered_gene_expr_dx.csv',\n",
       " 'Bothfiltered_CN_Dementia.csv',\n",
       " 'Bothfiltered_CN_MCI.csv',\n",
       " 'Probfiltered_CN_Dementia.csv',\n",
       " 'Probfiltered_MCI_Dementia.csv']"
      ]
     },
     "execution_count": 304,
     "metadata": {},
     "output_type": "execute_result"
    }
   ],
   "source": [
    "os.listdir(data_prep_path)"
   ]
  },
  {
   "cell_type": "code",
   "execution_count": 108,
   "metadata": {
    "colab": {},
    "colab_type": "code",
    "id": "j1pML_Zl9Tgf"
   },
   "outputs": [],
   "source": [
    "stat_test = pd.read_csv(os.path.join(stats_path,'t_test_geneExpr_Probefiltered.csv'))\n",
    "full = 200\n",
    "partial = 50\n",
    "portion = full"
   ]
  },
  {
   "cell_type": "code",
   "execution_count": 113,
   "metadata": {
    "colab": {},
    "colab_type": "code",
    "id": "IlDIZ4Hi9Tgl"
   },
   "outputs": [],
   "source": [
    "top_AD_CN = stat_test.sort_values(by=['AD_CN_c']).iloc[0:portion]['Unnamed: 0']\n",
    "top_AD_MCI = stat_test.sort_values(by=['AD_MCI_c']).iloc[0:portion]['Unnamed: 0']\n",
    "top_CN_MCI = stat_test.sort_values(by=['CN_MCI_c']).iloc[0:portion]['Unnamed: 0']"
   ]
  },
  {
   "cell_type": "code",
   "execution_count": 114,
   "metadata": {},
   "outputs": [
    {
     "data": {
      "text/plain": [
       "4818        NSMAF\n",
       "10597        FLT3\n",
       "1223       ANP32B\n",
       "11412       BCL7A\n",
       "2804         CD63\n",
       "           ...   \n",
       "4458        PTGDS\n",
       "2905         TDP1\n",
       "6443        ITGB2\n",
       "1089        MLLT3\n",
       "2751     KIAA0319\n",
       "Name: Unnamed: 0, Length: 200, dtype: object"
      ]
     },
     "execution_count": 114,
     "metadata": {},
     "output_type": "execute_result"
    }
   ],
   "source": [
    "top_AD_CN "
   ]
  },
  {
   "cell_type": "code",
   "execution_count": 115,
   "metadata": {
    "colab": {},
    "colab_type": "code",
    "id": "AMOwqcuk9Tgu"
   },
   "outputs": [],
   "source": [
    "df_CN = df[df['DX']=='CN']\n",
    "df_AD = df[df['DX']=='Dementia']\n",
    "df_MCI = df[df['DX']=='MCI']"
   ]
  },
  {
   "cell_type": "code",
   "execution_count": 117,
   "metadata": {
    "colab": {},
    "colab_type": "code",
    "collapsed": true,
    "id": "StHL9pfT9Tg3"
   },
   "outputs": [
    {
     "ename": "KeyError",
     "evalue": "\"['EGLN1', 'RNF166', 'PYGL', 'S100A12', 'CYP4F3 || CYP4F2', 'NFE4', 'HDAC4', 'DOCK5', 'RNF24', 'PIK3C2B', 'ANKRD22', 'TMEM156', 'SLC25A44', 'MAPK14', 'KCNH7', 'ELP6', 'MBD6', 'LOC101929373 || SLC9B1', 'MMP9', 'RFTN1', 'P2RY10', 'RCN3', 'GID8', 'LOC254896', 'IGHV5-78', 'GCM1', 'FKBP5', 'FCRL1', 'FCHSD2', 'CYP4F3', 'NR4A1', 'DBP', 'C1ORF56', 'PRCP', 'KIAA0319', 'IQCK', 'QPCT', 'CDKN1C', 'NAB2', 'TSC22D4', 'DECR1', 'CPD', 'ASB2', 'MXD3', 'LINC00482', 'SULT1B1', 'MIR600HG', 'SH3GLB1', 'POLA1', 'PATZ1', 'FLT3', 'CYP4F2', 'TSPAN13', 'SLC12A2', 'AFF3', 'CD177', 'LTB4R', 'NFIL3', 'VMP1', 'C19ORF59', 'NAIP', 'EMD', 'SNX29P2', 'DUSP5', 'HPSE', 'CDCA7L', 'CTBP2', 'ALOX5AP', 'TMBIM6', 'HECW2', 'S100A11', 'WLS', 'LAT2', 'CD63', 'FBXL13', 'ODC1', 'KAZN', 'VAMP3', 'LINC01000', 'MLLT3', 'EBF1', 'CCNB1IP1', 'FAM129C', 'TRNP1', 'SERPINB8', 'ANXA3', 'TXNRD1', 'NBEAL2', 'TDP1', 'PANX2', 'SLC26A8', 'GPRC5B', '1-Mar', 'LHFPL2', 'CD46', 'CLEC4E', 'CKB', 'TRIM34', 'RBMS1', 'ABHD12B', 'PADI4', 'MIS18A', 'KCNE1', 'DGAT2', 'ENSG00000211625 || ENSG00000239951', 'CD79A', 'LTBR', 'TPPP3', 'TYROBP', 'KREMEN1', 'MSRB1', 'PMEPA1', 'ZC3H12D', 'NCF1B', 'TMEM144', 'TPST1', 'TRIM25', 'CKAP4', 'LRRC4', 'SLC6A6', 'E2F3', 'NCF2', 'ASAP1', 'METTL20', 'PTPRE', 'RTN3', 'LOC101929809 || LILRB3', 'BCL7A', 'BCL6', 'BCL11A', 'UBR2', 'CD72', 'TRIB2', 'NSMAF', 'SEL1L', 'ENSG00000211899 || ENSG00000233855', 'TENM1', 'RFESD', 'ADARB1', 'ICAM3', 'VNN3', 'IL1R2', 'TDRKH', 'SUSD3', 'LMNB1', 'CCNE1', 'HAL', 'LACTB', 'RAB30', 'PELO', 'LILRB3', 'APOL4', 'USP4', 'BPI', 'RFWD2', 'HIP1R', 'FXYD6', 'BLNK', 'TCF3', 'STX3', 'ZNF251', 'TCL1A', 'DNAH11', 'LSMEM1', 'NMI', 'MAFG', 'MYBPC3', 'RNF130', 'ENSG00000241351', 'HBEGF', 'TLR8', 'CBS', 'LILRA2', 'CLIC1', 'CD22', 'IRAK3', 'UBXN1', 'STMN1', 'MPZL3', 'MS4A1', 'DPYD', 'CREB5', 'PTGDS', 'FCGR3A', 'CARD6', 'ZNF703', 'IGSF6', 'STAP1', 'FOSL2', 'PLBD1', 'PPP1R3D', 'ROPN1L', 'TMEM41A', 'TREML4', 'ANP32B', 'ITGB2', 'SLC22A1', 'ACSL1', 'DYSF', 'GPER1'] not in index\"",
     "output_type": "error",
     "traceback": [
      "\u001b[0;31m---------------------------------------------------------------------------\u001b[0m",
      "\u001b[0;31mKeyError\u001b[0m                                  Traceback (most recent call last)",
      "\u001b[0;32m<ipython-input-117-04416a16dea8>\u001b[0m in \u001b[0;36m<module>\u001b[0;34m\u001b[0m\n\u001b[0;32m----> 1\u001b[0;31m \u001b[0mclass1\u001b[0m \u001b[0;34m=\u001b[0m \u001b[0mdf_CN\u001b[0m\u001b[0;34m[\u001b[0m\u001b[0;34m[\u001b[0m\u001b[0;34m'AGE'\u001b[0m\u001b[0;34m,\u001b[0m\u001b[0;34m'PTGENDER'\u001b[0m\u001b[0;34m,\u001b[0m\u001b[0;34m'APOE4'\u001b[0m\u001b[0;34m,\u001b[0m\u001b[0;34m'DX'\u001b[0m\u001b[0;34m]\u001b[0m\u001b[0;34m+\u001b[0m\u001b[0mlist\u001b[0m\u001b[0;34m(\u001b[0m\u001b[0mtop_AD_CN\u001b[0m\u001b[0;34m)\u001b[0m\u001b[0;34m]\u001b[0m\u001b[0;34m\u001b[0m\u001b[0;34m\u001b[0m\u001b[0m\n\u001b[0m\u001b[1;32m      2\u001b[0m \u001b[0mclass2\u001b[0m \u001b[0;34m=\u001b[0m \u001b[0mdf_AD\u001b[0m\u001b[0;34m[\u001b[0m\u001b[0;34m[\u001b[0m\u001b[0;34m'AGE'\u001b[0m\u001b[0;34m,\u001b[0m\u001b[0;34m'PTGENDER'\u001b[0m\u001b[0;34m,\u001b[0m\u001b[0;34m'APOE4'\u001b[0m\u001b[0;34m,\u001b[0m\u001b[0;34m'DX'\u001b[0m\u001b[0;34m]\u001b[0m\u001b[0;34m+\u001b[0m\u001b[0mlist\u001b[0m\u001b[0;34m(\u001b[0m\u001b[0mtop_AD_CN\u001b[0m\u001b[0;34m)\u001b[0m\u001b[0;34m]\u001b[0m\u001b[0;34m\u001b[0m\u001b[0;34m\u001b[0m\u001b[0m\n",
      "\u001b[0;32m~/miniconda3/lib/python3.8/site-packages/pandas/core/frame.py\u001b[0m in \u001b[0;36m__getitem__\u001b[0;34m(self, key)\u001b[0m\n\u001b[1;32m   3028\u001b[0m             \u001b[0;32mif\u001b[0m \u001b[0mis_iterator\u001b[0m\u001b[0;34m(\u001b[0m\u001b[0mkey\u001b[0m\u001b[0;34m)\u001b[0m\u001b[0;34m:\u001b[0m\u001b[0;34m\u001b[0m\u001b[0;34m\u001b[0m\u001b[0m\n\u001b[1;32m   3029\u001b[0m                 \u001b[0mkey\u001b[0m \u001b[0;34m=\u001b[0m \u001b[0mlist\u001b[0m\u001b[0;34m(\u001b[0m\u001b[0mkey\u001b[0m\u001b[0;34m)\u001b[0m\u001b[0;34m\u001b[0m\u001b[0;34m\u001b[0m\u001b[0m\n\u001b[0;32m-> 3030\u001b[0;31m             \u001b[0mindexer\u001b[0m \u001b[0;34m=\u001b[0m \u001b[0mself\u001b[0m\u001b[0;34m.\u001b[0m\u001b[0mloc\u001b[0m\u001b[0;34m.\u001b[0m\u001b[0m_get_listlike_indexer\u001b[0m\u001b[0;34m(\u001b[0m\u001b[0mkey\u001b[0m\u001b[0;34m,\u001b[0m \u001b[0maxis\u001b[0m\u001b[0;34m=\u001b[0m\u001b[0;36m1\u001b[0m\u001b[0;34m,\u001b[0m \u001b[0mraise_missing\u001b[0m\u001b[0;34m=\u001b[0m\u001b[0;32mTrue\u001b[0m\u001b[0;34m)\u001b[0m\u001b[0;34m[\u001b[0m\u001b[0;36m1\u001b[0m\u001b[0;34m]\u001b[0m\u001b[0;34m\u001b[0m\u001b[0;34m\u001b[0m\u001b[0m\n\u001b[0m\u001b[1;32m   3031\u001b[0m \u001b[0;34m\u001b[0m\u001b[0m\n\u001b[1;32m   3032\u001b[0m         \u001b[0;31m# take() does not accept boolean indexers\u001b[0m\u001b[0;34m\u001b[0m\u001b[0;34m\u001b[0m\u001b[0;34m\u001b[0m\u001b[0m\n",
      "\u001b[0;32m~/miniconda3/lib/python3.8/site-packages/pandas/core/indexing.py\u001b[0m in \u001b[0;36m_get_listlike_indexer\u001b[0;34m(self, key, axis, raise_missing)\u001b[0m\n\u001b[1;32m   1263\u001b[0m             \u001b[0mkeyarr\u001b[0m\u001b[0;34m,\u001b[0m \u001b[0mindexer\u001b[0m\u001b[0;34m,\u001b[0m \u001b[0mnew_indexer\u001b[0m \u001b[0;34m=\u001b[0m \u001b[0max\u001b[0m\u001b[0;34m.\u001b[0m\u001b[0m_reindex_non_unique\u001b[0m\u001b[0;34m(\u001b[0m\u001b[0mkeyarr\u001b[0m\u001b[0;34m)\u001b[0m\u001b[0;34m\u001b[0m\u001b[0;34m\u001b[0m\u001b[0m\n\u001b[1;32m   1264\u001b[0m \u001b[0;34m\u001b[0m\u001b[0m\n\u001b[0;32m-> 1265\u001b[0;31m         \u001b[0mself\u001b[0m\u001b[0;34m.\u001b[0m\u001b[0m_validate_read_indexer\u001b[0m\u001b[0;34m(\u001b[0m\u001b[0mkeyarr\u001b[0m\u001b[0;34m,\u001b[0m \u001b[0mindexer\u001b[0m\u001b[0;34m,\u001b[0m \u001b[0maxis\u001b[0m\u001b[0;34m,\u001b[0m \u001b[0mraise_missing\u001b[0m\u001b[0;34m=\u001b[0m\u001b[0mraise_missing\u001b[0m\u001b[0;34m)\u001b[0m\u001b[0;34m\u001b[0m\u001b[0;34m\u001b[0m\u001b[0m\n\u001b[0m\u001b[1;32m   1266\u001b[0m         \u001b[0;32mreturn\u001b[0m \u001b[0mkeyarr\u001b[0m\u001b[0;34m,\u001b[0m \u001b[0mindexer\u001b[0m\u001b[0;34m\u001b[0m\u001b[0;34m\u001b[0m\u001b[0m\n\u001b[1;32m   1267\u001b[0m \u001b[0;34m\u001b[0m\u001b[0m\n",
      "\u001b[0;32m~/miniconda3/lib/python3.8/site-packages/pandas/core/indexing.py\u001b[0m in \u001b[0;36m_validate_read_indexer\u001b[0;34m(self, key, indexer, axis, raise_missing)\u001b[0m\n\u001b[1;32m   1313\u001b[0m             \u001b[0;32mif\u001b[0m \u001b[0mraise_missing\u001b[0m\u001b[0;34m:\u001b[0m\u001b[0;34m\u001b[0m\u001b[0;34m\u001b[0m\u001b[0m\n\u001b[1;32m   1314\u001b[0m                 \u001b[0mnot_found\u001b[0m \u001b[0;34m=\u001b[0m \u001b[0mlist\u001b[0m\u001b[0;34m(\u001b[0m\u001b[0mset\u001b[0m\u001b[0;34m(\u001b[0m\u001b[0mkey\u001b[0m\u001b[0;34m)\u001b[0m \u001b[0;34m-\u001b[0m \u001b[0mset\u001b[0m\u001b[0;34m(\u001b[0m\u001b[0max\u001b[0m\u001b[0;34m)\u001b[0m\u001b[0;34m)\u001b[0m\u001b[0;34m\u001b[0m\u001b[0;34m\u001b[0m\u001b[0m\n\u001b[0;32m-> 1315\u001b[0;31m                 \u001b[0;32mraise\u001b[0m \u001b[0mKeyError\u001b[0m\u001b[0;34m(\u001b[0m\u001b[0;34mf\"{not_found} not in index\"\u001b[0m\u001b[0;34m)\u001b[0m\u001b[0;34m\u001b[0m\u001b[0;34m\u001b[0m\u001b[0m\n\u001b[0m\u001b[1;32m   1316\u001b[0m \u001b[0;34m\u001b[0m\u001b[0m\n\u001b[1;32m   1317\u001b[0m             \u001b[0mnot_found\u001b[0m \u001b[0;34m=\u001b[0m \u001b[0mkey\u001b[0m\u001b[0;34m[\u001b[0m\u001b[0mmissing_mask\u001b[0m\u001b[0;34m]\u001b[0m\u001b[0;34m\u001b[0m\u001b[0;34m\u001b[0m\u001b[0m\n",
      "\u001b[0;31mKeyError\u001b[0m: \"['EGLN1', 'RNF166', 'PYGL', 'S100A12', 'CYP4F3 || CYP4F2', 'NFE4', 'HDAC4', 'DOCK5', 'RNF24', 'PIK3C2B', 'ANKRD22', 'TMEM156', 'SLC25A44', 'MAPK14', 'KCNH7', 'ELP6', 'MBD6', 'LOC101929373 || SLC9B1', 'MMP9', 'RFTN1', 'P2RY10', 'RCN3', 'GID8', 'LOC254896', 'IGHV5-78', 'GCM1', 'FKBP5', 'FCRL1', 'FCHSD2', 'CYP4F3', 'NR4A1', 'DBP', 'C1ORF56', 'PRCP', 'KIAA0319', 'IQCK', 'QPCT', 'CDKN1C', 'NAB2', 'TSC22D4', 'DECR1', 'CPD', 'ASB2', 'MXD3', 'LINC00482', 'SULT1B1', 'MIR600HG', 'SH3GLB1', 'POLA1', 'PATZ1', 'FLT3', 'CYP4F2', 'TSPAN13', 'SLC12A2', 'AFF3', 'CD177', 'LTB4R', 'NFIL3', 'VMP1', 'C19ORF59', 'NAIP', 'EMD', 'SNX29P2', 'DUSP5', 'HPSE', 'CDCA7L', 'CTBP2', 'ALOX5AP', 'TMBIM6', 'HECW2', 'S100A11', 'WLS', 'LAT2', 'CD63', 'FBXL13', 'ODC1', 'KAZN', 'VAMP3', 'LINC01000', 'MLLT3', 'EBF1', 'CCNB1IP1', 'FAM129C', 'TRNP1', 'SERPINB8', 'ANXA3', 'TXNRD1', 'NBEAL2', 'TDP1', 'PANX2', 'SLC26A8', 'GPRC5B', '1-Mar', 'LHFPL2', 'CD46', 'CLEC4E', 'CKB', 'TRIM34', 'RBMS1', 'ABHD12B', 'PADI4', 'MIS18A', 'KCNE1', 'DGAT2', 'ENSG00000211625 || ENSG00000239951', 'CD79A', 'LTBR', 'TPPP3', 'TYROBP', 'KREMEN1', 'MSRB1', 'PMEPA1', 'ZC3H12D', 'NCF1B', 'TMEM144', 'TPST1', 'TRIM25', 'CKAP4', 'LRRC4', 'SLC6A6', 'E2F3', 'NCF2', 'ASAP1', 'METTL20', 'PTPRE', 'RTN3', 'LOC101929809 || LILRB3', 'BCL7A', 'BCL6', 'BCL11A', 'UBR2', 'CD72', 'TRIB2', 'NSMAF', 'SEL1L', 'ENSG00000211899 || ENSG00000233855', 'TENM1', 'RFESD', 'ADARB1', 'ICAM3', 'VNN3', 'IL1R2', 'TDRKH', 'SUSD3', 'LMNB1', 'CCNE1', 'HAL', 'LACTB', 'RAB30', 'PELO', 'LILRB3', 'APOL4', 'USP4', 'BPI', 'RFWD2', 'HIP1R', 'FXYD6', 'BLNK', 'TCF3', 'STX3', 'ZNF251', 'TCL1A', 'DNAH11', 'LSMEM1', 'NMI', 'MAFG', 'MYBPC3', 'RNF130', 'ENSG00000241351', 'HBEGF', 'TLR8', 'CBS', 'LILRA2', 'CLIC1', 'CD22', 'IRAK3', 'UBXN1', 'STMN1', 'MPZL3', 'MS4A1', 'DPYD', 'CREB5', 'PTGDS', 'FCGR3A', 'CARD6', 'ZNF703', 'IGSF6', 'STAP1', 'FOSL2', 'PLBD1', 'PPP1R3D', 'ROPN1L', 'TMEM41A', 'TREML4', 'ANP32B', 'ITGB2', 'SLC22A1', 'ACSL1', 'DYSF', 'GPER1'] not in index\""
     ]
    }
   ],
   "source": [
    "class1 = df_CN[['AGE','PTGENDER','APOE4','DX']+list(top_AD_CN)]\n",
    "class2 = df_AD[['AGE','PTGENDER','APOE4','DX']+list(top_AD_CN)]\n"
   ]
  },
  {
   "cell_type": "code",
   "execution_count": 82,
   "metadata": {
    "colab": {},
    "colab_type": "code",
    "id": "m-U87EbS9Tg-"
   },
   "outputs": [],
   "source": [
    "overall_df = pd.concat([class1, class2], axis=0)"
   ]
  },
  {
   "cell_type": "code",
   "execution_count": 83,
   "metadata": {
    "colab": {},
    "colab_type": "code",
    "id": "Y0WeJ6dt9ThC",
    "outputId": "c4f03bb2-3841-4ceb-aeab-742b7fcb81bd"
   },
   "outputs": [
    {
     "data": {
      "text/plain": [
       "(490, 204)"
      ]
     },
     "execution_count": 83,
     "metadata": {},
     "output_type": "execute_result"
    }
   ],
   "source": [
    "overall_df.shape"
   ]
  },
  {
   "cell_type": "code",
   "execution_count": 84,
   "metadata": {
    "colab": {},
    "colab_type": "code",
    "id": "xod1rxPa9ThJ"
   },
   "outputs": [],
   "source": [
    "y = overall_df['DX']"
   ]
  },
  {
   "cell_type": "code",
   "execution_count": 85,
   "metadata": {
    "colab": {},
    "colab_type": "code",
    "id": "yujPylcy9ThN"
   },
   "outputs": [],
   "source": [
    "X = overall_df.drop(columns = ['DX'])"
   ]
  },
  {
   "cell_type": "code",
   "execution_count": 86,
   "metadata": {
    "colab": {},
    "colab_type": "code",
    "id": "hLwf51hm9ThR"
   },
   "outputs": [],
   "source": [
    "X['PTGENDER'] = X['PTGENDER'].astype('category').cat.codes"
   ]
  },
  {
   "cell_type": "code",
   "execution_count": 87,
   "metadata": {
    "colab": {},
    "colab_type": "code",
    "id": "J_zMfbjm9ThV",
    "outputId": "9abc0e66-a32f-4574-c95f-4e1a0c6b8734"
   },
   "outputs": [
    {
     "data": {
      "text/plain": [
       "((490, 203), (490,))"
      ]
     },
     "execution_count": 87,
     "metadata": {},
     "output_type": "execute_result"
    }
   ],
   "source": [
    "X.shape, y.shape"
   ]
  },
  {
   "cell_type": "code",
   "execution_count": 88,
   "metadata": {},
   "outputs": [],
   "source": [
    "#X = X.drop(columns = ['AGE','PTGENDER','APOE4']) #do not use extra"
   ]
  },
  {
   "cell_type": "code",
   "execution_count": 89,
   "metadata": {
    "colab": {},
    "colab_type": "code",
    "id": "LxCZgeR89ThZ",
    "outputId": "9c50fbe8-6abc-47e6-9cd6-8b9653d65df7"
   },
   "outputs": [
    {
     "data": {
      "text/html": [
       "<div>\n",
       "<style scoped>\n",
       "    .dataframe tbody tr th:only-of-type {\n",
       "        vertical-align: middle;\n",
       "    }\n",
       "\n",
       "    .dataframe tbody tr th {\n",
       "        vertical-align: top;\n",
       "    }\n",
       "\n",
       "    .dataframe thead th {\n",
       "        text-align: right;\n",
       "    }\n",
       "</style>\n",
       "<table border=\"1\" class=\"dataframe\">\n",
       "  <thead>\n",
       "    <tr style=\"text-align: right;\">\n",
       "      <th>PTID</th>\n",
       "      <th>AGE</th>\n",
       "      <th>PTGENDER</th>\n",
       "      <th>APOE4</th>\n",
       "      <th>11719922_a_at</th>\n",
       "      <th>11747156_x_at</th>\n",
       "      <th>11739565_a_at</th>\n",
       "      <th>11716149_a_at</th>\n",
       "      <th>11728500_a_at</th>\n",
       "      <th>11740108_a_at</th>\n",
       "      <th>11750247_x_at</th>\n",
       "      <th>...</th>\n",
       "      <th>11745459_a_at</th>\n",
       "      <th>11756587_a_at</th>\n",
       "      <th>11758462_s_at</th>\n",
       "      <th>11734802_x_at</th>\n",
       "      <th>11731577_a_at</th>\n",
       "      <th>11754915_a_at</th>\n",
       "      <th>11718066_a_at</th>\n",
       "      <th>11763417_a_at</th>\n",
       "      <th>11744282_at</th>\n",
       "      <th>11720266_a_at</th>\n",
       "    </tr>\n",
       "  </thead>\n",
       "  <tbody>\n",
       "    <tr>\n",
       "      <th>099_S_4205</th>\n",
       "      <td>81.4</td>\n",
       "      <td>0</td>\n",
       "      <td>0</td>\n",
       "      <td>4.183</td>\n",
       "      <td>4.868</td>\n",
       "      <td>4.996</td>\n",
       "      <td>6.02</td>\n",
       "      <td>8.318</td>\n",
       "      <td>6.224</td>\n",
       "      <td>3.244</td>\n",
       "      <td>...</td>\n",
       "      <td>5.572</td>\n",
       "      <td>7.085</td>\n",
       "      <td>3.054</td>\n",
       "      <td>7.173</td>\n",
       "      <td>7.07</td>\n",
       "      <td>7.355</td>\n",
       "      <td>4.091</td>\n",
       "      <td>5.644</td>\n",
       "      <td>10.692</td>\n",
       "      <td>6.235</td>\n",
       "    </tr>\n",
       "    <tr>\n",
       "      <th>007_S_4467</th>\n",
       "      <td>61.9</td>\n",
       "      <td>0</td>\n",
       "      <td>2</td>\n",
       "      <td>3.857</td>\n",
       "      <td>4.161</td>\n",
       "      <td>4.864</td>\n",
       "      <td>5.291</td>\n",
       "      <td>7.684</td>\n",
       "      <td>6.314</td>\n",
       "      <td>3.374</td>\n",
       "      <td>...</td>\n",
       "      <td>4.728</td>\n",
       "      <td>5.94</td>\n",
       "      <td>2.747</td>\n",
       "      <td>6.341</td>\n",
       "      <td>6.102</td>\n",
       "      <td>7.267</td>\n",
       "      <td>2.889</td>\n",
       "      <td>4.782</td>\n",
       "      <td>10.145</td>\n",
       "      <td>6.52</td>\n",
       "    </tr>\n",
       "    <tr>\n",
       "      <th>003_S_2374</th>\n",
       "      <td>81.3</td>\n",
       "      <td>0</td>\n",
       "      <td>0</td>\n",
       "      <td>4.408</td>\n",
       "      <td>4.461</td>\n",
       "      <td>5.546</td>\n",
       "      <td>4.827</td>\n",
       "      <td>8.773</td>\n",
       "      <td>5.582</td>\n",
       "      <td>3.475</td>\n",
       "      <td>...</td>\n",
       "      <td>5.429</td>\n",
       "      <td>5.949</td>\n",
       "      <td>2.95</td>\n",
       "      <td>6.14</td>\n",
       "      <td>6.642</td>\n",
       "      <td>7.116</td>\n",
       "      <td>3.413</td>\n",
       "      <td>5.393</td>\n",
       "      <td>10.328</td>\n",
       "      <td>5.711</td>\n",
       "    </tr>\n",
       "    <tr>\n",
       "      <th>098_S_4059</th>\n",
       "      <td>71.9</td>\n",
       "      <td>1</td>\n",
       "      <td>2</td>\n",
       "      <td>3.603</td>\n",
       "      <td>4.466</td>\n",
       "      <td>5.588</td>\n",
       "      <td>4.784</td>\n",
       "      <td>8.63</td>\n",
       "      <td>6.21</td>\n",
       "      <td>3.927</td>\n",
       "      <td>...</td>\n",
       "      <td>5.156</td>\n",
       "      <td>7.566</td>\n",
       "      <td>3.288</td>\n",
       "      <td>6.302</td>\n",
       "      <td>7.139</td>\n",
       "      <td>7.523</td>\n",
       "      <td>3.77</td>\n",
       "      <td>5.108</td>\n",
       "      <td>10.501</td>\n",
       "      <td>5.781</td>\n",
       "    </tr>\n",
       "    <tr>\n",
       "      <th>031_S_2018</th>\n",
       "      <td>76.4</td>\n",
       "      <td>0</td>\n",
       "      <td>0</td>\n",
       "      <td>4.005</td>\n",
       "      <td>4.501</td>\n",
       "      <td>5.345</td>\n",
       "      <td>5.862</td>\n",
       "      <td>8.813</td>\n",
       "      <td>5.873</td>\n",
       "      <td>3.865</td>\n",
       "      <td>...</td>\n",
       "      <td>5.398</td>\n",
       "      <td>5.899</td>\n",
       "      <td>2.759</td>\n",
       "      <td>6.038</td>\n",
       "      <td>5.889</td>\n",
       "      <td>7.595</td>\n",
       "      <td>3.248</td>\n",
       "      <td>4.539</td>\n",
       "      <td>10.692</td>\n",
       "      <td>5.621</td>\n",
       "    </tr>\n",
       "  </tbody>\n",
       "</table>\n",
       "<p>5 rows × 203 columns</p>\n",
       "</div>"
      ],
      "text/plain": [
       "PTID         AGE  PTGENDER APOE4 11719922_a_at 11747156_x_at 11739565_a_at  \\\n",
       "099_S_4205  81.4         0     0         4.183         4.868         4.996   \n",
       "007_S_4467  61.9         0     2         3.857         4.161         4.864   \n",
       "003_S_2374  81.3         0     0         4.408         4.461         5.546   \n",
       "098_S_4059  71.9         1     2         3.603         4.466         5.588   \n",
       "031_S_2018  76.4         0     0         4.005         4.501         5.345   \n",
       "\n",
       "PTID       11716149_a_at 11728500_a_at 11740108_a_at 11750247_x_at  ...  \\\n",
       "099_S_4205          6.02         8.318         6.224         3.244  ...   \n",
       "007_S_4467         5.291         7.684         6.314         3.374  ...   \n",
       "003_S_2374         4.827         8.773         5.582         3.475  ...   \n",
       "098_S_4059         4.784          8.63          6.21         3.927  ...   \n",
       "031_S_2018         5.862         8.813         5.873         3.865  ...   \n",
       "\n",
       "PTID       11745459_a_at 11756587_a_at 11758462_s_at 11734802_x_at  \\\n",
       "099_S_4205         5.572         7.085         3.054         7.173   \n",
       "007_S_4467         4.728          5.94         2.747         6.341   \n",
       "003_S_2374         5.429         5.949          2.95          6.14   \n",
       "098_S_4059         5.156         7.566         3.288         6.302   \n",
       "031_S_2018         5.398         5.899         2.759         6.038   \n",
       "\n",
       "PTID       11731577_a_at 11754915_a_at 11718066_a_at 11763417_a_at  \\\n",
       "099_S_4205          7.07         7.355         4.091         5.644   \n",
       "007_S_4467         6.102         7.267         2.889         4.782   \n",
       "003_S_2374         6.642         7.116         3.413         5.393   \n",
       "098_S_4059         7.139         7.523          3.77         5.108   \n",
       "031_S_2018         5.889         7.595         3.248         4.539   \n",
       "\n",
       "PTID       11744282_at 11720266_a_at  \n",
       "099_S_4205      10.692         6.235  \n",
       "007_S_4467      10.145          6.52  \n",
       "003_S_2374      10.328         5.711  \n",
       "098_S_4059      10.501         5.781  \n",
       "031_S_2018      10.692         5.621  \n",
       "\n",
       "[5 rows x 203 columns]"
      ]
     },
     "execution_count": 89,
     "metadata": {},
     "output_type": "execute_result"
    }
   ],
   "source": [
    "X.head()"
   ]
  },
  {
   "cell_type": "code",
   "execution_count": 90,
   "metadata": {
    "colab": {},
    "colab_type": "code",
    "id": "WG4A9YHF9Thc"
   },
   "outputs": [],
   "source": [
    "from sklearn.model_selection import train_test_split\n",
    "from sklearn.model_selection import StratifiedKFold\n",
    "from sklearn.ensemble import RandomForestClassifier\n",
    "from sklearn.linear_model import LogisticRegression\n",
    "from sklearn.ensemble import RandomForestClassifier,GradientBoostingClassifier"
   ]
  },
  {
   "cell_type": "code",
   "execution_count": 91,
   "metadata": {
    "colab": {},
    "colab_type": "code",
    "id": "VXtF4roF9Thf"
   },
   "outputs": [],
   "source": [
    "K = 5\n",
    "kfold = StratifiedKFold(n_splits=K, shuffle=True, random_state=1)\n",
    "# enumerate the splits and summarize the distributions\n",
    "index_array = []\n",
    "for train_ix, test_ix in kfold.split(X, y):\n",
    "    \n",
    "    fold_index = [train_ix,test_ix]\n",
    "    index_array.append(fold_index)\n",
    "\n",
    "    "
   ]
  },
  {
   "cell_type": "code",
   "execution_count": 92,
   "metadata": {
    "colab": {},
    "colab_type": "code",
    "id": "c8IIOWdA9Thn"
   },
   "outputs": [],
   "source": [
    "import numpy as np\n",
    "X = np.array(X)\n",
    "y = np.array(y)"
   ]
  },
  {
   "cell_type": "code",
   "execution_count": 93,
   "metadata": {
    "colab": {},
    "colab_type": "code",
    "id": "vLGA1fh29Thr",
    "outputId": "1db6fd64-af5d-47eb-bcc4-f29803ba15c5"
   },
   "outputs": [
    {
     "name": "stdout",
     "output_type": "stream",
     "text": [
      "1.0 0.7551020408163265\n"
     ]
    }
   ],
   "source": [
    "import random\n",
    "random.seed(30)\n",
    "from imblearn.over_sampling import ADASYN, SMOTE\n",
    "clf = RandomForestClassifier(n_estimators=200,random_state=30)\n",
    "#clf = GradientBoostingClassifier(n_estimators=200,random_state=30)\n",
    "tr_acc = []\n",
    "ts_acc = []\n",
    "\n",
    "for i in range(K):\n",
    "    X_train, y_train = X[index_array[i][0]], y[index_array[i][0]]\n",
    "    oversample = SMOTE(sampling_strategy=1.0, k_neighbors=7)\n",
    "    X_train, y_train = oversample.fit_resample(X_train, y_train)  \n",
    "    X_test, y_test = X[index_array[i][1]], y[index_array[i][1]]\n",
    "    clf.fit(X_train, y_train)\n",
    "    y_pred_train = clf.predict(X_train)\n",
    "    y_pred_test = clf.predict(X_test)\n",
    "    train_acc = (y_pred_train == y_train).sum()/len(y_train)\n",
    "    test_acc = (y_pred_test == y_test).sum()/len(y_test)\n",
    "    \n",
    "    tr_acc.append(train_acc)\n",
    "    ts_acc.append(test_acc)\n",
    "    \n",
    "print(np.array(tr_acc).mean(),np.array(ts_acc).mean())\n",
    "\n",
    "# 1.0 0.7450312989045382 while including APOE4 feature\n",
    "#When that is removed!"
   ]
  },
  {
   "cell_type": "code",
   "execution_count": 94,
   "metadata": {
    "colab": {},
    "colab_type": "code",
    "id": "Ffz4EnX29Thu",
    "outputId": "d49e1942-eed9-4f9d-a175-20485aae5626"
   },
   "outputs": [
    {
     "data": {
      "text/plain": [
       "(Counter({'MCI': 75, 'Dementia': 23}), Counter({'MCI': 83, 'Dementia': 15}))"
      ]
     },
     "execution_count": 94,
     "metadata": {},
     "output_type": "execute_result"
    }
   ],
   "source": [
    "from collections import Counter\n",
    "Counter(y_test),Counter(y_pred_test)"
   ]
  },
  {
   "cell_type": "code",
   "execution_count": 95,
   "metadata": {
    "colab": {},
    "colab_type": "code",
    "id": "C2W23vvT9Th6",
    "outputId": "0a569cda-c56e-4bba-ef57-7614e049ff05"
   },
   "outputs": [
    {
     "name": "stdout",
     "output_type": "stream",
     "text": [
      "              precision    recall  f1-score   support\n",
      "\n",
      "          CN       0.47      0.30      0.37        23\n",
      "          AD       0.81      0.89      0.85        75\n",
      "\n",
      "    accuracy                           0.76        98\n",
      "   macro avg       0.64      0.60      0.61        98\n",
      "weighted avg       0.73      0.76      0.74        98\n",
      "\n"
     ]
    }
   ],
   "source": [
    "from sklearn.metrics import classification_report\n",
    "y_true = y_test\n",
    "y_pred = y_pred_test\n",
    "target_names = ['CN', 'AD']\n",
    "print(classification_report(y_true, y_pred, target_names=target_names))"
   ]
  },
  {
   "cell_type": "code",
   "execution_count": 96,
   "metadata": {
    "colab": {},
    "colab_type": "code",
    "id": "obubuSlq9Th-"
   },
   "outputs": [
    {
     "data": {
      "text/plain": [
       "0.5988405797101449"
      ]
     },
     "execution_count": 96,
     "metadata": {},
     "output_type": "execute_result"
    }
   ],
   "source": [
    "from sklearn.metrics import balanced_accuracy_score\n",
    "balanced_accuracy_score(y_true, y_pred)"
   ]
  },
  {
   "cell_type": "code",
   "execution_count": 97,
   "metadata": {},
   "outputs": [
    {
     "data": {
      "text/plain": [
       "<sklearn.metrics._plot.confusion_matrix.ConfusionMatrixDisplay at 0x7fe08d7df1f0>"
      ]
     },
     "execution_count": 97,
     "metadata": {},
     "output_type": "execute_result"
    },
    {
     "data": {
      "image/png": "[encoded data removed]",
      "text/plain": [
       "<Figure size 432x288 with 2 Axes>"
      ]
     },
     "metadata": {
      "needs_background": "light"
     },
     "output_type": "display_data"
    }
   ],
   "source": [
    "from sklearn.metrics import plot_confusion_matrix\n",
    "plot_confusion_matrix(clf, X_test, y_test)  "
   ]
  },
  {
   "cell_type": "code",
   "execution_count": null,
   "metadata": {},
   "outputs": [],
   "source": []
  }
 ],
 "metadata": {
  "colab": {
   "name": "Classification_Gene_Features_based.ipynb",
   "provenance": []
  },
  "kernelspec": {
   "display_name": "Python 3",
   "language": "python",
   "name": "python3"
  },
  "language_info": {
   "codemirror_mode": {
    "name": "ipython",
    "version": 3
   },
   "file_extension": ".py",
   "mimetype": "text/x-python",
   "name": "python",
   "nbconvert_exporter": "python",
   "pygments_lexer": "ipython3",
   "version": "3.8.3"
  }
 },
 "nbformat": 4,
 "nbformat_minor": 1
}
