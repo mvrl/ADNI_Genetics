{
 "cells": [
  {
   "cell_type": "code",
   "execution_count": 4,
   "metadata": {},
   "outputs": [],
   "source": [
    "import os\n",
    "import pandas as pd\n",
    "log_path = '/Users/subashkhanal/Desktop/paper1_results/GeneExpr'\n",
    "feats_path = './results_final/'"
   ]
  },
  {
   "cell_type": "code",
   "execution_count": 2,
   "metadata": {},
   "outputs": [
    {
     "data": {
      "text/plain": [
       "['Features_ranked_for_CN_AD_xgb_25_no_prune_fromModel_correct.csv',\n",
       " 'Features_ranked_for_CN_EMCI_xgb_50_no_prune_fromModel_correct.csv',\n",
       " 'top_genes_exper.ipynb',\n",
       " 'results_final',\n",
       " 'GeneExpr_sweep_without_extra.log',\n",
       " 'ttest',\n",
       " 'Features_ranked_for_LMCI_AD_xgb_25_no_prune_fromModel_correct.csv',\n",
       " '.ipynb_checkpoints',\n",
       " 'results_without_Extra.csv',\n",
       " 'Features_ranked_for_EMCI_AD_xgb_25_no_prune_fromModel_correct.csv']"
      ]
     },
     "execution_count": 2,
     "metadata": {},
     "output_type": "execute_result"
    }
   ],
   "source": [
    "os.listdir(log_path)"
   ]
  },
  {
   "cell_type": "code",
   "execution_count": 23,
   "metadata": {},
   "outputs": [],
   "source": [
    "with open('GeneExpr_sweep_without_extra.log','r') as infile:\n",
    "    text = infile.read().strip().split('For parameters: ')[1:]"
   ]
  },
  {
   "cell_type": "code",
   "execution_count": 40,
   "metadata": {},
   "outputs": [
    {
     "data": {
      "text/plain": [
       "\"('CN_AD', 'xgb', 'correct', 25, 'not_extra', 'prune', 'fromModel')\\nBest hyperparameters for xgb : (10, 2)\\nbest Macro ACC: 0.5667735042735043 best Macro AUC: 0.6190972222222222\\nAvg number of features AFTER FEATURE SELECTION: 10\\nfor Avg 10 Features\\nMean Balanced Accuracy: 0.5667735042735043\\nMean AUC: 0.6190972222222222\\nEND OF THE EXPERIMENT\\n0.5667735042735043 0.6190972222222222\\n\\n\\n\""
      ]
     },
     "execution_count": 40,
     "metadata": {},
     "output_type": "execute_result"
    }
   ],
   "source": [
    "text[0]"
   ]
  },
  {
   "cell_type": "code",
   "execution_count": 49,
   "metadata": {},
   "outputs": [],
   "source": [
    "results = []\n",
    "for t in text:\n",
    "    group = t.split('\\n')[0].split(',')[0].replace('(','')\n",
    "    N = int(t.split('\\n')[0].split(',')[3].strip())\n",
    "    prune = t.split('\\n')[0].split(',')[5]\n",
    "    F = int(t.split('\\n')[3].split(':')[1].strip())\n",
    "    params = t.split('\\n')[1].split(':')[1].strip()\n",
    "    ACC = float(t.split('END OF THE EXPERIMENT')[1].strip().split(' ')[0])\n",
    "    AUC = float(t.split('END OF THE EXPERIMENT')[1].strip().split(' ')[1])\n",
    "    result = [group,N, prune, F, params, ACC, AUC]\n",
    "    results.append(result)\n",
    "df = pd.DataFrame(results,columns=['group','N','prune','F','params','ACC','AUC'])"
   ]
  },
  {
   "cell_type": "code",
   "execution_count": 51,
   "metadata": {},
   "outputs": [],
   "source": [
    "df.to_csv('results_without_Extra.csv')"
   ]
  },
  {
   "cell_type": "code",
   "execution_count": 5,
   "metadata": {},
   "outputs": [
    {
     "data": {
      "text/plain": [
       "['LMCI_AD_xgb_25_no_prune_fromModel_correct_whole_imp.csv',\n",
       " 'Features_ranked_for_CN_AD_xgb_25_no_prune_fromModel_correct.csv',\n",
       " 'ROC_for:CN_EMCI_xgb_50_no_prune_fromModel_correct.png',\n",
       " 'Features_ranked_for_CN_EMCI_xgb_50_no_prune_fromModel_correct.csv',\n",
       " 'ROC_for:CN_AD_xgb_25_no_prune_fromModel_correct.png',\n",
       " 'CN_AD_xgb_25_no_prune_fromModel_correct_whole_imp.csv',\n",
       " 'ROC_for:LMCI_AD_xgb_25_no_prune_fromModel_correct.png',\n",
       " 'Features_ranked_for_LMCI_AD_xgb_25_no_prune_fromModel_correct.csv',\n",
       " 'CN_EMCI_xgb_50_no_prune_fromModel_correct_whole_imp.csv',\n",
       " 'ROC_for:EMCI_AD_xgb_25_no_prune_fromModel_correct.png',\n",
       " 'Features_ranked_for_EMCI_AD_xgb_25_no_prune_fromModel_correct.csv',\n",
       " 'EMCI_AD_xgb_25_no_prune_fromModel_correct_whole_imp.csv']"
      ]
     },
     "execution_count": 5,
     "metadata": {},
     "output_type": "execute_result"
    }
   ],
   "source": [
    "os.listdir(feats_path)"
   ]
  },
  {
   "cell_type": "code",
   "execution_count": 97,
   "metadata": {},
   "outputs": [],
   "source": [
    "def clean_feats(feats): \n",
    "    final_feats = []\n",
    "    for f in feats:\n",
    "        if len(f.split('_at_')) > 1:\n",
    "            final_feats.append(f.split('_at_')[1])\n",
    "        else:\n",
    "            final_feats.append(f)\n",
    "    return final_feats"
   ]
  },
  {
   "cell_type": "code",
   "execution_count": 6,
   "metadata": {},
   "outputs": [],
   "source": [
    "best_map = {\n",
    "    'CN_AD':'CN_AD_xgb_25_no_prune_fromModel_correct_whole_imp.csv',\n",
    "    'CN_EMCI':'CN_EMCI_xgb_50_no_prune_fromModel_correct_whole_imp.csv',\n",
    "    'EMCI_AD':'EMCI_AD_xgb_25_no_prune_fromModel_correct_whole_imp.csv',\n",
    "    'LMCI_AD':'LMCI_AD_xgb_25_no_prune_fromModel_correct_whole_imp.csv'\n",
    "    }"
   ]
  },
  {
   "cell_type": "code",
   "execution_count": 7,
   "metadata": {},
   "outputs": [],
   "source": [
    "groups = ['CN_AD', 'CN_EMCI', 'EMCI_AD', 'LMCI_AD']\n",
    "final_dict= {}"
   ]
  },
  {
   "cell_type": "code",
   "execution_count": 14,
   "metadata": {},
   "outputs": [],
   "source": [
    "filepath = '/Users/subashkhanal/Desktop/paper1_results/GeneExpr/results_final'"
   ]
  },
  {
   "cell_type": "code",
   "execution_count": 15,
   "metadata": {},
   "outputs": [
    {
     "data": {
      "text/html": [
       "<div>\n",
       "<style scoped>\n",
       "    .dataframe tbody tr th:only-of-type {\n",
       "        vertical-align: middle;\n",
       "    }\n",
       "\n",
       "    .dataframe tbody tr th {\n",
       "        vertical-align: top;\n",
       "    }\n",
       "\n",
       "    .dataframe thead th {\n",
       "        text-align: right;\n",
       "    }\n",
       "</style>\n",
       "<table border=\"1\" class=\"dataframe\">\n",
       "  <thead>\n",
       "    <tr style=\"text-align: right;\">\n",
       "      <th></th>\n",
       "      <th>Unnamed: 0</th>\n",
       "      <th>features_fold0</th>\n",
       "      <th>importance_fold0</th>\n",
       "      <th>features_fold1</th>\n",
       "      <th>importance_fold1</th>\n",
       "      <th>features_fold2</th>\n",
       "      <th>importance_fold2</th>\n",
       "      <th>features_fold3</th>\n",
       "      <th>importance_fold3</th>\n",
       "      <th>features_fold4</th>\n",
       "      <th>importance_fold4</th>\n",
       "    </tr>\n",
       "  </thead>\n",
       "  <tbody>\n",
       "    <tr>\n",
       "      <th>0</th>\n",
       "      <td>0</td>\n",
       "      <td>AGE</td>\n",
       "      <td>0.051372</td>\n",
       "      <td>AGE</td>\n",
       "      <td>0.052416</td>\n",
       "      <td>AGE</td>\n",
       "      <td>0.064489</td>\n",
       "      <td>AGE</td>\n",
       "      <td>0.035081</td>\n",
       "      <td>AGE</td>\n",
       "      <td>0.048787</td>\n",
       "    </tr>\n",
       "    <tr>\n",
       "      <th>1</th>\n",
       "      <td>1</td>\n",
       "      <td>PTEDUCAT</td>\n",
       "      <td>0.064223</td>\n",
       "      <td>PTEDUCAT</td>\n",
       "      <td>0.048959</td>\n",
       "      <td>PTEDUCAT</td>\n",
       "      <td>0.026712</td>\n",
       "      <td>PTEDUCAT</td>\n",
       "      <td>0.022104</td>\n",
       "      <td>PTEDUCAT</td>\n",
       "      <td>0.059664</td>\n",
       "    </tr>\n",
       "    <tr>\n",
       "      <th>2</th>\n",
       "      <td>2</td>\n",
       "      <td>11761978_at_ARHGEF12</td>\n",
       "      <td>0.096794</td>\n",
       "      <td>11719477_a_at_FASTKD5</td>\n",
       "      <td>0.078151</td>\n",
       "      <td>11763538_x_at_PRR5</td>\n",
       "      <td>0.103760</td>\n",
       "      <td>11720732_a_at_SUMF1</td>\n",
       "      <td>0.138276</td>\n",
       "      <td>11738864_a_at_ABHD12B</td>\n",
       "      <td>0.000000</td>\n",
       "    </tr>\n",
       "    <tr>\n",
       "      <th>3</th>\n",
       "      <td>3</td>\n",
       "      <td>11750580_x_at_ARHGEF12</td>\n",
       "      <td>0.000000</td>\n",
       "      <td>11755705_a_at_SMIM5</td>\n",
       "      <td>0.072915</td>\n",
       "      <td>AFFX-r2-Bs-phe-M_at_nan</td>\n",
       "      <td>0.156322</td>\n",
       "      <td>11747479_x_at_MLST8</td>\n",
       "      <td>0.000000</td>\n",
       "      <td>11743803_s_at_SEPHS2</td>\n",
       "      <td>0.038672</td>\n",
       "    </tr>\n",
       "    <tr>\n",
       "      <th>4</th>\n",
       "      <td>4</td>\n",
       "      <td>11758611_s_at_TRIM10</td>\n",
       "      <td>0.026200</td>\n",
       "      <td>11752515_a_at_ODC1</td>\n",
       "      <td>0.000000</td>\n",
       "      <td>11726810_s_at_C19ORF77</td>\n",
       "      <td>0.069105</td>\n",
       "      <td>11754381_a_at_TMOD1</td>\n",
       "      <td>0.000000</td>\n",
       "      <td>11750558_s_at_ZNF271</td>\n",
       "      <td>0.053384</td>\n",
       "    </tr>\n",
       "  </tbody>\n",
       "</table>\n",
       "</div>"
      ],
      "text/plain": [
       "   Unnamed: 0          features_fold0  importance_fold0  \\\n",
       "0           0                     AGE          0.051372   \n",
       "1           1                PTEDUCAT          0.064223   \n",
       "2           2    11761978_at_ARHGEF12          0.096794   \n",
       "3           3  11750580_x_at_ARHGEF12          0.000000   \n",
       "4           4    11758611_s_at_TRIM10          0.026200   \n",
       "\n",
       "          features_fold1  importance_fold1           features_fold2  \\\n",
       "0                    AGE          0.052416                      AGE   \n",
       "1               PTEDUCAT          0.048959                 PTEDUCAT   \n",
       "2  11719477_a_at_FASTKD5          0.078151       11763538_x_at_PRR5   \n",
       "3    11755705_a_at_SMIM5          0.072915  AFFX-r2-Bs-phe-M_at_nan   \n",
       "4     11752515_a_at_ODC1          0.000000   11726810_s_at_C19ORF77   \n",
       "\n",
       "   importance_fold2       features_fold3  importance_fold3  \\\n",
       "0          0.064489                  AGE          0.035081   \n",
       "1          0.026712             PTEDUCAT          0.022104   \n",
       "2          0.103760  11720732_a_at_SUMF1          0.138276   \n",
       "3          0.156322  11747479_x_at_MLST8          0.000000   \n",
       "4          0.069105  11754381_a_at_TMOD1          0.000000   \n",
       "\n",
       "          features_fold4  importance_fold4  \n",
       "0                    AGE          0.048787  \n",
       "1               PTEDUCAT          0.059664  \n",
       "2  11738864_a_at_ABHD12B          0.000000  \n",
       "3   11743803_s_at_SEPHS2          0.038672  \n",
       "4   11750558_s_at_ZNF271          0.053384  "
      ]
     },
     "execution_count": 15,
     "metadata": {},
     "output_type": "execute_result"
    }
   ],
   "source": [
    "df = pd.read_csv(os.path.join(filepath,best_map[groups[0]]))\n",
    "df.head()"
   ]
  },
  {
   "cell_type": "code",
   "execution_count": 105,
   "metadata": {},
   "outputs": [],
   "source": [
    "FOLDS = 5\n",
    "def importance_avg(group,threshold=0.01):\n",
    "    df = pd.read_csv(os.path.join(filepath,best_map[group]))\n",
    "    all_feats = []\n",
    "    for fold in range(FOLDS):\n",
    "        all_feats = all_feats + list(df['features_fold'+str(fold)])\n",
    "    all_feats = list(set(all_feats)) # Overall features in all folds\n",
    "    df_avg = pd.DataFrame(columns=['features','importance'])\n",
    "    df_avg['features'] = all_feats\n",
    "    df_avg['importance'] = np.zeros(len(all_feats,))\n",
    "    for i in range(len(df_avg)):\n",
    "        tmp_imp = np.zeros(FOLDS,)\n",
    "        current_feat = df_avg.iloc[i]['features']\n",
    "        for fold in range(FOLDS):\n",
    "            temp_df =df[['features_fold'+str(fold),'importance_fold'+str(fold)]]\n",
    "            if current_feat in list(temp_df['features_fold'+str(fold)]):\n",
    "                tmp_imp[fold] = temp_df[temp_df['features_fold'+str(fold)] == current_feat]['importance_fold'+str(fold)].item()\n",
    "        df_avg.at[i,'features'] = current_feat\n",
    "        df_avg.at[i,'importance'] = np.mean(tmp_imp)\n",
    "    df_avg_sorted = df_avg.sort_values(by=['importance'],ascending=False)\n",
    "    df_avg_sorted = df_avg_sorted[df_avg_sorted['importance']>=threshold]\n",
    "    clean_features = clean_feats(df_avg_sorted['features'])\n",
    "    df_avg_sorted['features'] = clean_features\n",
    "    df_avg_sorted.groupby(\"features\")[\"importance\"].mean()\n",
    "    df_avg_sorted = df_avg_sorted[df_avg_sorted.features != 'nan']\n",
    "    return df_avg_sorted"
   ]
  },
  {
   "cell_type": "code",
   "execution_count": 117,
   "metadata": {},
   "outputs": [],
   "source": [
    "df = importance_avg(groups[0],0.01)\n",
    "df.to_csv(os.path.join(feats_path,'final_gene_ranked_for'+groups[0]+'.csv'))\n",
    "df = importance_avg(groups[1],0.01)\n",
    "df.to_csv(os.path.join(feats_path,'final_gene_ranked_for'+groups[1]+'.csv'))\n",
    "df = importance_avg(groups[2],0.01)\n",
    "df.to_csv(os.path.join(feats_path,'final_gene_ranked_for'+groups[2]+'.csv'))"
   ]
  }
 ],
 "metadata": {
  "kernelspec": {
   "display_name": "Python 3",
   "language": "python",
   "name": "python3"
  },
  "language_info": {
   "codemirror_mode": {
    "name": "ipython",
    "version": 3
   },
   "file_extension": ".py",
   "mimetype": "text/x-python",
   "name": "python",
   "nbconvert_exporter": "python",
   "pygments_lexer": "ipython3",
   "version": "3.8.3"
  }
 },
 "nbformat": 4,
 "nbformat_minor": 4
}
