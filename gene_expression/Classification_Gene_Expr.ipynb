{
 "cells": [
  {
   "cell_type": "code",
   "execution_count": 1,
   "metadata": {},
   "outputs": [],
   "source": [
    "import os\n",
    "from pandas import read_csv\n",
    "import pandas as pd\n",
    "from collections import Counter\n",
    "from sklearn.preprocessing import OneHotEncoder\n",
    "from sklearn.preprocessing import LabelBinarizer\n",
    "import numpy as np\n",
    "from sklearn.model_selection import train_test_split\n",
    "from sklearn.preprocessing import LabelEncoder\n",
    "from sklearn.preprocessing import OneHotEncoder\n",
    "from scipy.sparse import hstack\n",
    "from matplotlib import pyplot as plt\n",
    "from sklearn.metrics import make_scorer\n",
    "from sklearn.metrics import accuracy_score\n",
    "from sklearn.model_selection import RepeatedStratifiedKFold\n",
    "from sklearn.model_selection import GridSearchCV\n",
    "from sklearn.model_selection import RandomizedSearchCV\n",
    "from sklearn.ensemble import (RandomForestClassifier,\n",
    "                              GradientBoostingClassifier)\n",
    "from sklearn.preprocessing import StandardScaler\n",
    "from imblearn.over_sampling import ADASYN, SMOTE, SMOTENC\n",
    "from imblearn.pipeline import Pipeline\n",
    "from scipy.sparse import hstack\n",
    "import warnings\n",
    "from sklearn.metrics import roc_curve, auc, f1_score, roc_auc_score, balanced_accuracy_score\n",
    "warnings.filterwarnings(\"ignore\")"
   ]
  },
  {
   "cell_type": "code",
   "execution_count": 2,
   "metadata": {},
   "outputs": [],
   "source": [
    "SEED = 1"
   ]
  },
  {
   "cell_type": "markdown",
   "metadata": {},
   "source": [
    "## Data Preparation"
   ]
  },
  {
   "cell_type": "code",
   "execution_count": 3,
   "metadata": {},
   "outputs": [
    {
     "name": "stdout",
     "output_type": "stream",
     "text": [
      "Counter({'CN': 260, 'LMCI': 225, 'EMCI': 215, 'AD': 43, nan: 1})\n"
     ]
    },
    {
     "data": {
      "text/plain": [
       "Counter({'AD2': 268})"
      ]
     },
     "execution_count": 3,
     "metadata": {},
     "output_type": "execute_result"
    }
   ],
   "source": [
    "final_path = '/Users/subashkhanal/Desktop/BMI633/ADNI_Genetics/gene_expression/data/'\n",
    "df = pd.read_csv(os.path.join(final_path,'Unfiltered_gene_expr_dx.csv'),low_memory=False)\n",
    "from collections import Counter\n",
    "\n",
    "print(Counter(df['DX_bl']))\n",
    "\n",
    "df_CN = df[df['DX_bl']=='CN']\n",
    "df_AD = df[df['DX_bl']=='AD']\n",
    "df_EMCI = df[df['DX_bl']=='EMCI']\n",
    "df_LMCI = df[df['DX_bl']=='LMCI']\n",
    "df_AD2 =  df[(df['DX_bl']=='LMCI') | (df['DX_bl']=='AD')] #Combine AD with LMCI\n",
    "df_AD2['DX_bl'] = 'AD2'\n",
    "Counter(df_AD2.DX_bl)"
   ]
  },
  {
   "cell_type": "code",
   "execution_count": 8,
   "metadata": {},
   "outputs": [],
   "source": [
    "top_features = list(ranked_genes.features)"
   ]
  },
  {
   "cell_type": "markdown",
   "metadata": {},
   "source": [
    "# t-test as Feature selection "
   ]
  },
  {
   "cell_type": "code",
   "execution_count": 4,
   "metadata": {},
   "outputs": [],
   "source": [
    "# from scipy import stats\n",
    "# df_CN_exp = df_CN.loc[:,'11715100_at_HIST1H3G': 'AFFX-r2-TagQ-5_at_nan'].astype('float')\n",
    "# df_AD_exp = df_AD.loc[:,'11715100_at_HIST1H3G': 'AFFX-r2-TagQ-5_at_nan'].astype('float')\n",
    "# df_EMCI_exp = df_EMCI.loc[:,'11715100_at_HIST1H3G': 'AFFX-r2-TagQ-5_at_nan'].astype('float')\n",
    "# df_LMCI_exp = df_LMCI.loc[:,'11715100_at_HIST1H3G': 'AFFX-r2-TagQ-5_at_nan'].astype('float')\n",
    "# df_AD2_exp = df_AD2.loc[:,'11715100_at_HIST1H3G': 'AFFX-r2-TagQ-5_at_nan'].astype('float')\n",
    "\n",
    "# p = []\n",
    "# data = df_CN_exp\n",
    "# from scipy import stats\n",
    "# for col in data.columns:\n",
    "#     p.append(stats.normaltest(data[col])[1])\n",
    "    \n",
    "# print(\"Average P value for normality test for all features for CN group is:\",sum(p)/len(p))\n",
    "# # null hypothesis: x comes from a normal distribution\n",
    "\n",
    "\n",
    "# p = []\n",
    "# data = df_EMCI_exp\n",
    "# for col in data.columns:\n",
    "#     p.append(stats.normaltest(data[col])[1])\n",
    "    \n",
    "# print(\"Average P value for normality test for all features for EMCI group is:\",sum(p)/len(p))\n",
    "# # null hypothesis: x comes from a normal distribution\n",
    "\n",
    "# p = []\n",
    "# data = df_LMCI_exp\n",
    "# for col in data.columns:\n",
    "#     p.append(stats.normaltest(data[col])[1])\n",
    "    \n",
    "# print(\"Average P value for normality test for all features for LMCI group is:\",sum(p)/len(p))\n",
    "# # null hypothesis: x comes from a normal distribution\n",
    "\n",
    "# p = []\n",
    "# data = df_AD_exp\n",
    "# for col in data.columns:\n",
    "#     p.append(stats.normaltest(data[col])[1])\n",
    "    \n",
    "# print(\"Average P value for normality test for all features for AD group is:\",sum(p)/len(p))\n",
    "# # null hypothesis: x comes from a normal distribution\n",
    "\n",
    "# p = []\n",
    "# data = df_AD2_exp\n",
    "# for col in data.columns:\n",
    "#     p.append(stats.normaltest(data[col])[1])\n",
    "    \n",
    "# print(\"Average P value for normality test for all features for AD2 group is:\",sum(p)/len(p))\n",
    "# # null hypothesis: x comes from a normal distribution\n",
    "\n",
    "# from scipy.stats import ttest_ind\n",
    "# import statsmodels.stats.multitest as multi\n",
    "\n",
    "# fdr_alpha =0.10 ##DEFAULT IS 0.05\n",
    "# alpha = fdr_alpha\n",
    "# gene_probes = df_AD_exp.columns\n",
    "# groups = ['CN_AD','CN_AD_c','CN_AD2','CN_AD2_c','CN_EMCI','CN_EMCI_c','CN_LMCI','CN_LMCI_c', 'EMCI_LMCI','EMCI_LMCI_c','EMCI_AD','EMCI_AD_c','LMCI_AD','LMCI_AD_c']\n",
    "# df_p = pd.DataFrame(columns=groups, index = gene_probes) #dataframe for collecting p values for test\n",
    "\n",
    "# for gene in gene_probes:\n",
    "#     data1 = df_CN_exp[gene]\n",
    "#     data2 = df_AD_exp[gene]\n",
    "#     stat, p = ttest_ind(data1, data2)\n",
    "#     df_p.loc[gene,'CN_AD'] = p\n",
    "# hyp, corr_p = multi.fdrcorrection(df_p['CN_AD'],alpha = fdr_alpha) #FDR correction \n",
    "# df_p['CN_AD_c'] = corr_p \n",
    "       \n",
    "\n",
    "# for gene in gene_probes:\n",
    "#     data1 = df_CN_exp[gene]\n",
    "#     data2 = df_AD2_exp[gene]\n",
    "#     stat, p = ttest_ind(data1, data2)\n",
    "#     df_p.loc[gene,'CN_AD2'] = p\n",
    "# hyp, corr_p = multi.fdrcorrection(df_p['CN_AD'],alpha = fdr_alpha) #FDR correction \n",
    "# df_p['CN_AD2_c'] = corr_p \n",
    "\n",
    "\n",
    "# for gene in gene_probes:\n",
    "#     data1 = df_CN_exp[gene]\n",
    "#     data2 = df_AD_exp[gene]\n",
    "#     stat, p = ttest_ind(data1, data2)\n",
    "#     df_p.loc[gene,'CN_AD'] = p\n",
    "# hyp, corr_p = multi.fdrcorrection(df_p['CN_AD'],alpha = fdr_alpha) #FDR correction \n",
    "# df_p['CN_AD_c'] = corr_p \n",
    "       \n",
    "# for gene in gene_probes:\n",
    "#     data1 = df_CN_exp[gene]\n",
    "#     data2 = df_EMCI_exp[gene]\n",
    "#     stat, p = ttest_ind(data1, data2)\n",
    "#     df_p.loc[gene,'CN_EMCI'] = p\n",
    "# hyp, corr_p = multi.fdrcorrection(df_p['CN_EMCI'],alpha = fdr_alpha) #FDR correction\n",
    "# df_p['CN_EMCI_c'] = corr_p \n",
    "\n",
    "# for gene in gene_probes:\n",
    "#     data1 = df_CN_exp[gene]\n",
    "#     data2 = df_LMCI_exp[gene]\n",
    "#     stat, p = ttest_ind(data1, data2)\n",
    "#     df_p.loc[gene,'CN_LMCI'] = p\n",
    "# hyp, corr_p = multi.fdrcorrection(df_p['CN_LMCI'],alpha = fdr_alpha) #FDR correction\n",
    "# df_p['CN_LMCI_c'] = corr_p \n",
    "\n",
    "# for gene in gene_probes:\n",
    "#     data1 = df_EMCI_exp[gene]\n",
    "#     data2 = df_LMCI_exp[gene]\n",
    "#     stat, p = ttest_ind(data1, data2)\n",
    "#     df_p.loc[gene,'EMCI_LMCI'] = p\n",
    "# hyp, corr_p = multi.fdrcorrection(df_p['EMCI_LMCI'],alpha = fdr_alpha) #FDR correction \n",
    "# df_p['EMCI_LMCI_c'] = corr_p \n",
    "       \n",
    "# for gene in gene_probes:\n",
    "#     data1 = df_EMCI_exp[gene]\n",
    "#     data2 = df_AD_exp[gene]\n",
    "#     stat, p = ttest_ind(data1, data2)\n",
    "#     df_p.loc[gene,'EMCI_AD'] = p\n",
    "# hyp, corr_p = multi.fdrcorrection(df_p['EMCI_AD'],alpha = fdr_alpha) #FDR correction\n",
    "# df_p['EMCI_AD_c'] = corr_p \n",
    "\n",
    "# for gene in gene_probes:\n",
    "#     data1 = df_LMCI_exp[gene]\n",
    "#     data2 = df_AD_exp[gene]\n",
    "#     stat, p = ttest_ind(data1, data2)\n",
    "#     df_p.loc[gene,'LMCI_AD'] = p\n",
    "# hyp, corr_p = multi.fdrcorrection(df_p['LMCI_AD'],alpha = fdr_alpha) #FDR correction\n",
    "# df_p['LMCI_AD_c'] = corr_p \n",
    "\n",
    "# df_p1 = df_p.reset_index()\n",
    "# df_p2 = df_p1.rename(columns={'index':'Gene'})\n",
    "# df_p2.to_csv(os.path.join(final_path,'t_test_0.10_geneExpr_Unfiltered_bl.csv'))\n",
    "# print(\"Ttest calculated for all the unfiltered probes among all baseline diagnostic groups in Gene Expression data\")"
   ]
  },
  {
   "cell_type": "code",
   "execution_count": 9,
   "metadata": {},
   "outputs": [],
   "source": [
    "overall_groups = ['CN_AD','CN_EMCI','CN_LMCI','EMCI_LMCI','EMCI_AD','LMCI_AD']"
   ]
  },
  {
   "cell_type": "code",
   "execution_count": 10,
   "metadata": {},
   "outputs": [],
   "source": [
    "def prepare_targets(y):\n",
    "    le = LabelBinarizer()\n",
    "    le.fit(y)\n",
    "    y = le.transform(y)\n",
    "    return y\n",
    "\n",
    "def data_prep(df): \n",
    "    target = prepare_targets(list(df.DX_bl))\n",
    "    df1 = df.drop(columns=['Unnamed: 0','DX_bl']).reset_index(drop=True) #Patient ID and DIAG not needed  \n",
    "    return df1, target.ravel()"
   ]
  },
  {
   "cell_type": "markdown",
   "metadata": {},
   "source": [
    "## Classifier"
   ]
  },
  {
   "cell_type": "code",
   "execution_count": 12,
   "metadata": {},
   "outputs": [
    {
     "name": "stdout",
     "output_type": "stream",
     "text": [
      "EXPERIMENT LOG FOR: CN_AD\n",
      "\n",
      "\n",
      "Label distribution of overall data:\n",
      "Counter({'CN': 260, 'LMCI': 225, 'EMCI': 215, 'AD': 43, nan: 1})\n",
      "Label distribution of current experiment:\n",
      "Counter({'CN': 260, 'AD': 43})\n",
      "Shape of final data BEFORE FEATURE SELECTION\n",
      "(303, 103) (303,)\n"
     ]
    }
   ],
   "source": [
    "features = 100\n",
    "groups = 'CN_AD'\n",
    "N = features\n",
    "print(\"EXPERIMENT LOG FOR:\",groups)\n",
    "print('\\n')\n",
    "root_path = '/Users/subashkhanal/Desktop/BMI633/ADNI_Genetics/gene_expression/'\n",
    "#\n",
    "#Gene ranking based on ttest\n",
    "ttest = read_csv(os.path.join(root_path,'data','t_test_0.10_geneExpr_Unfiltered_bl.csv')).sort_values(groups).reset_index()\n",
    "important_probes = ttest.sort_values(groups+'_c')['Gene'][0:N] #suffix _c to use the FDR corrected p values \n",
    "#CHANGE THE LINE ABOVE ACCORDINGLY FOR DIFFERENT CLASSES\n",
    "\n",
    "#Gene Expression Data\n",
    "df = pd.read_csv(os.path.join(root_path,'data','Unfiltered_gene_expr_dx.csv'),low_memory=False)\n",
    "Gene_expr = df[['Unnamed: 0','AGE','PTGENDER','PTEDUCAT','DX_bl']+list(important_probes)]\n",
    "df = Gene_expr\n",
    "print('Label distribution of overall data:')\n",
    "print(Counter(df.DX_bl))\n",
    "df_CN = df[df['DX_bl']=='CN']\n",
    "df_AD = df[df['DX_bl']=='AD']\n",
    "df_EMCI = df[df['DX_bl']=='EMCI']\n",
    "df_LMCI = df[df['DX_bl']=='LMCI']\n",
    "SAMPLING = 1.0\n",
    "if groups == 'CN_AD':\n",
    "    curr_df = pd.concat([df_CN, df_AD], ignore_index=True)\n",
    "    SAMPLING = 0.7 \n",
    "if groups == 'CN_EMCI':\n",
    "    curr_df = pd.concat([df_CN, df_EMCI], ignore_index=True)\n",
    "if groups == 'CN_LMCI':\n",
    "    curr_df = pd.concat([df_CN, df_LMCI], ignore_index=True)\n",
    "if groups == 'EMCI_LMCI':\n",
    "    curr_df = pd.concat([df_EMCI, df_LMCI], ignore_index=True)\n",
    "if groups == 'EMCI_AD':\n",
    "    curr_df = pd.concat([df_EMCI, df_AD], ignore_index=True)\n",
    "if groups == 'LMCI_AD':\n",
    "    curr_df = pd.concat([df_LMCI, df_AD], ignore_index=True)\n",
    "\n",
    "curr_df['PTGENDER'] = curr_df['PTGENDER'].astype('category').cat.codes \n",
    "print('Label distribution of current experiment:')\n",
    "print(Counter(curr_df.DX_bl))\n",
    "df, y = data_prep(curr_df)\n",
    "print(\"Shape of final data BEFORE FEATURE SELECTION\")\n",
    "print(df.shape, y.shape)"
   ]
  },
  {
   "cell_type": "code",
   "execution_count": 8,
   "metadata": {},
   "outputs": [],
   "source": [
    "cat_columns = ['PTGENDER']\n",
    "final_N = df.shape[1]\n",
    "cat_columns_index = []\n",
    "cat_columns_index.append(list(df.columns).index('PTGENDER'))\n"
   ]
  },
  {
   "cell_type": "code",
   "execution_count": 9,
   "metadata": {},
   "outputs": [
    {
     "data": {
      "text/plain": [
       "Counter({'CN': 260, 'AD': 43})"
      ]
     },
     "execution_count": 9,
     "metadata": {},
     "output_type": "execute_result"
    }
   ],
   "source": [
    "Counter(curr_df.DX_bl)"
   ]
  },
  {
   "cell_type": "code",
   "execution_count": 10,
   "metadata": {},
   "outputs": [
    {
     "data": {
      "text/plain": [
       "[]"
      ]
     },
     "execution_count": 10,
     "metadata": {},
     "output_type": "execute_result"
    }
   ],
   "source": [
    "curr_df.columns[curr_df.isna().any()].tolist()"
   ]
  },
  {
   "cell_type": "code",
   "execution_count": 11,
   "metadata": {},
   "outputs": [
    {
     "name": "stdout",
     "output_type": "stream",
     "text": [
      "Shape of final data AFTER FEATURE SELECTION\n",
      "(303, 63) (303,)\n"
     ]
    }
   ],
   "source": [
    "from sklearn.feature_selection import RFECV\n",
    "estimator = GradientBoostingClassifier(random_state=SEED,n_estimators=2*df.shape[1])\n",
    "cv = RepeatedStratifiedKFold(n_splits=5, n_repeats=3, random_state=SEED)\n",
    "selector = RFECV(estimator, n_jobs=-1,step=int(features/20), cv=cv)\n",
    "selector = selector.fit(df, y)\n",
    "df = df.loc[:, selector.support_]\n",
    "print(\"Shape of final data AFTER FEATURE SELECTION\")\n",
    "print(df.shape, y.shape)\n",
    "final_N = df.shape[1]"
   ]
  },
  {
   "cell_type": "markdown",
   "metadata": {},
   "source": [
    "## Hyperparameters Grid Search"
   ]
  },
  {
   "cell_type": "markdown",
   "metadata": {},
   "source": [
    "Adapted from https://machinelearningmastery.com/hyperparameter-optimization-with-random-search-and-grid-search/"
   ]
  },
  {
   "cell_type": "code",
   "execution_count": 51,
   "metadata": {},
   "outputs": [
    {
     "name": "stdout",
     "output_type": "stream",
     "text": [
      "Best Score: 0.7188034188034188\n",
      "Best Hyperparameters: {'classifier__n_estimators': 100}\n",
      "Automatically created module for IPython interactive environment\n"
     ]
    },
    {
     "data": {
      "image/png": "[encoded data removed]",
      "text/plain": [
       "<Figure size 936x936 with 1 Axes>"
      ]
     },
     "metadata": {
      "needs_background": "light"
     },
     "output_type": "display_data"
    }
   ],
   "source": [
    "#Adapted from #https://scikit-learn.org/stable/auto_examples/model_selection/plot_multi_metric_evaluation.html#sphx-glr-auto-examples-model-selection-plot-multi-metric-evaluation-py\n",
    "\n",
    "# Author: Raghav RV <rvraghav93@gmail.com>\n",
    "# License: BSD\n",
    "\n",
    "model = Pipeline([\n",
    "        ('sampling', SMOTENC(sampling_strategy=SAMPLING, k_neighbors=7,random_state=SEED,categorical_features =cat_columns_index)),\n",
    "        ('classifier', GradientBoostingClassifier(random_state=SEED))\n",
    "    ])\n",
    "space = dict()\n",
    "X, y = df, y\n",
    "\n",
    "# define evaluation\n",
    "cv = RepeatedStratifiedKFold(n_splits=5, n_repeats=3, random_state=SEED)\n",
    "# define search space\n",
    "space = dict()\n",
    "space['classifier__n_estimators'] = range(50,7*X.shape[1],50)\n",
    "\n",
    "scoring = {'AUC': 'roc_auc', 'balanced_accuracy':'balanced_accuracy'}\n",
    "# define search\n",
    "search = GridSearchCV(model, space,n_jobs=-1, cv=cv,scoring=scoring, refit='balanced_accuracy', return_train_score=True)\n",
    "# execute search\n",
    "result = search.fit(X, y)\n",
    "# summarize result\n",
    "print('Best Score: %s' % result.best_score_)\n",
    "print('Best Hyperparameters: %s' % result.best_params_)\n",
    "results = search.cv_results_\n",
    "\n",
    "print(__doc__)\n",
    "plt.figure(figsize=(13, 13))\n",
    "plt.title(\"GridSearchCV evaluating using multiple scorers simultaneously\",\n",
    "        fontsize=16)\n",
    "\n",
    "plt.xlabel(\"param_n_estimators\")\n",
    "plt.ylabel(\"Score\")\n",
    "\n",
    "ax = plt.gca()\n",
    "ax.set_xlim(min(space['classifier__n_estimators']), max(space['classifier__n_estimators'])+2)\n",
    "ax.set_ylim(0.50, 1)\n",
    "\n",
    "# Get the regular numpy array from the MaskedArray\n",
    "X_axis = np.array(results['param_classifier__n_estimators'].data, dtype=float)\n",
    "\n",
    "for scorer, color in zip(sorted(scoring), ['g', 'k']):\n",
    "    for sample, style in (('train', '--'), ('test', '-')):\n",
    "        sample_score_mean = results['mean_%s_%s' % (sample, scorer)]\n",
    "        sample_score_std = results['std_%s_%s' % (sample, scorer)]\n",
    "        ax.fill_between(X_axis, sample_score_mean - sample_score_std,\n",
    "                        sample_score_mean + sample_score_std,\n",
    "                        alpha=0.1 if sample == 'test' else 0, color=color)\n",
    "        ax.plot(X_axis, sample_score_mean, style, color=color,\n",
    "                alpha=1 if sample == 'test' else 0.7,\n",
    "                label=\"%s (%s)\" % (scorer, sample))\n",
    "\n",
    "    best_index = np.nonzero(results['rank_test_%s' % scorer] == 1)[0][0]\n",
    "    best_score = results['mean_test_%s' % scorer][best_index]\n",
    "\n",
    "    # Plot a dotted vertical line at the best score for that scorer marked by x\n",
    "    ax.plot([X_axis[best_index], ] * 2, [0, best_score],\n",
    "            linestyle='-.', color=color, marker='x', markeredgewidth=3, ms=8)\n",
    "\n",
    "    # Annotate the best score for that scorer\n",
    "    ax.annotate(\"%0.2f\" % best_score,\n",
    "                (X_axis[best_index], best_score + 0.005))\n",
    "\n",
    "plt.legend(loc=\"best\")\n",
    "plt.grid(False)\n",
    "plt.savefig(os.path.join(root_path,'results','Grid_search_Using_'+str(final_N)+'features_for:'+groups+'.png'))\n"
   ]
  },
  {
   "cell_type": "markdown",
   "metadata": {},
   "source": [
    "## Final Run and Save Results"
   ]
  },
  {
   "cell_type": "code",
   "execution_count": 52,
   "metadata": {},
   "outputs": [
    {
     "data": {
      "image/png": "[encoded data removed]",
      "text/plain": [
       "<Figure size 432x288 with 1 Axes>"
      ]
     },
     "metadata": {
      "needs_background": "light"
     },
     "output_type": "display_data"
    },
    {
     "name": "stdout",
     "output_type": "stream",
     "text": [
      "for total of  43 Features\n",
      "Mean Balanced Accuracy: 0.7188034188034188\n",
      "Mean AUC: 0.8780092592592592\n",
      "END OF THE EXPERIMENT\n"
     ]
    },
    {
     "data": {
      "text/plain": [
       "<Figure size 432x288 with 0 Axes>"
      ]
     },
     "metadata": {},
     "output_type": "display_data"
    }
   ],
   "source": [
    "tprs = []\n",
    "aucs = []\n",
    "acc = []\n",
    "imp = []\n",
    "mean_fpr = np.linspace(0, 1, 100)\n",
    "cv = RepeatedStratifiedKFold(n_splits=5, n_repeats=3, random_state=SEED)\n",
    "fig, ax = plt.subplots()\n",
    "X, y = df, y\n",
    "for train, test in cv.split(X, y):\n",
    "    X_train = X.iloc[train]\n",
    "    y_train = y[train]\n",
    "\n",
    "    X_test = X.iloc[test]\n",
    "    y_test = y[test]\n",
    "    n_estimators = result.best_params_['classifier__n_estimators']\n",
    "    model = GradientBoostingClassifier(random_state=SEED,n_estimators=n_estimators)\n",
    "    oversample = SMOTENC(sampling_strategy=SAMPLING, k_neighbors=7,random_state=SEED,categorical_features =cat_columns_index)\n",
    "    X_train, y_train = oversample.fit_resample(X_train, y_train)\n",
    "    probas_ = model.fit(X_train, y_train).predict_proba(X_test)\n",
    "    y_pred = model.predict(X_test)\n",
    "    acc.append(balanced_accuracy_score(y_test, y_pred))\n",
    "    fpr, tpr, thresholds = roc_curve(y_test, probas_[:, 1],drop_intermediate='False')\n",
    "    roc_auc = roc_auc_score(y_test, probas_[:, 1])\n",
    "    interp_tpr = np.interp(mean_fpr, fpr, tpr)\n",
    "    interp_tpr[0] = 0.0\n",
    "    tprs.append(interp_tpr)\n",
    "    aucs.append(roc_auc)\n",
    "    imp.append(model.feature_importances_)\n",
    "\n",
    "ax.plot([0, 1], [0, 1], linestyle='--', lw=2, color='r',\n",
    "        label='Chance', alpha=.8)\n",
    "\n",
    "mean_tpr = np.mean(tprs, axis=0)\n",
    "mean_tpr[-1] = 1.0\n",
    "mean_auc = auc(mean_fpr, mean_tpr)\n",
    "std_auc = np.std(aucs)\n",
    "ax.plot(mean_fpr, mean_tpr, color='b',\n",
    "        label=r'Mean ROC (AUC = %0.2f $\\pm$ %0.2f)' % (mean_auc, std_auc),\n",
    "        lw=2, alpha=.8)\n",
    "\n",
    "std_tpr = np.std(tprs, axis=0)\n",
    "tprs_upper = np.minimum(mean_tpr + std_tpr, 1)\n",
    "tprs_lower = np.maximum(mean_tpr - std_tpr, 0)\n",
    "ax.fill_between(mean_fpr, tprs_lower, tprs_upper, color='grey', alpha=.2,\n",
    "                label=r'$\\pm$ 1 std. dev.')\n",
    "\n",
    "ax.set(xlim=[-0.05, 1.05], ylim=[-0.05, 1.05],\n",
    "    title=\"Receiver operating characteristic\")\n",
    "ax.legend(loc=\"lower right\")\n",
    "plt.show()\n",
    "plt.savefig(os.path.join(root_path,'results','ROC_for:'+groups+'.png'))\n",
    "print('for total of ',final_N,\"Features\")\n",
    "print('Mean Balanced Accuracy:',sum(acc)/len(acc))\n",
    "print('Mean AUC:',sum(aucs)/len(aucs))\n",
    "\n",
    "imp = np.array(imp)\n",
    "imp = imp.mean(axis=0)\n",
    "\n",
    "imp_df = pd.DataFrame(columns=['features','importance'])\n",
    "imp_df['features'] = list(X.columns)\n",
    "imp_df['importance'] = imp\n",
    "\n",
    "imp_df_sorted = imp_df.sort_values(by=['importance'],ascending=False)\n",
    "imp_df_sorted.to_csv(os.path.join(root_path,'results',groups+'_Classification_ranked_'+str(final_N)+'_GeneExpr_features.csv'))\n",
    "\n",
    "print(\"END OF THE EXPERIMENT\")"
   ]
  },
  {
   "cell_type": "markdown",
   "metadata": {},
   "source": [
    "# Re run model with the best number of features"
   ]
  },
  {
   "cell_type": "code",
   "execution_count": 5,
   "metadata": {},
   "outputs": [],
   "source": [
    "ranked_genes = pd.read_csv('CN_AD_Classification_ranked_8_GeneExpr_features.csv')"
   ]
  },
  {
   "cell_type": "code",
   "execution_count": 14,
   "metadata": {},
   "outputs": [
    {
     "data": {
      "text/html": [
       "<div>\n",
       "<style scoped>\n",
       "    .dataframe tbody tr th:only-of-type {\n",
       "        vertical-align: middle;\n",
       "    }\n",
       "\n",
       "    .dataframe tbody tr th {\n",
       "        vertical-align: top;\n",
       "    }\n",
       "\n",
       "    .dataframe thead th {\n",
       "        text-align: right;\n",
       "    }\n",
       "</style>\n",
       "<table border=\"1\" class=\"dataframe\">\n",
       "  <thead>\n",
       "    <tr style=\"text-align: right;\">\n",
       "      <th></th>\n",
       "      <th>AGE</th>\n",
       "      <th>11730765_at_CD177</th>\n",
       "      <th>11720732_a_at_SUMF1</th>\n",
       "      <th>11747640_a_at_TDP2</th>\n",
       "      <th>11719477_a_at_FASTKD5</th>\n",
       "      <th>11742943_a_at_CKM</th>\n",
       "      <th>11716563_s_at_AIMP2</th>\n",
       "      <th>11761447_at_nan</th>\n",
       "    </tr>\n",
       "  </thead>\n",
       "  <tbody>\n",
       "    <tr>\n",
       "      <th>0</th>\n",
       "      <td>70.8</td>\n",
       "      <td>2.685</td>\n",
       "      <td>3.332</td>\n",
       "      <td>6.250</td>\n",
       "      <td>7.662</td>\n",
       "      <td>2.133</td>\n",
       "      <td>7.690</td>\n",
       "      <td>2.376</td>\n",
       "    </tr>\n",
       "    <tr>\n",
       "      <th>1</th>\n",
       "      <td>69.1</td>\n",
       "      <td>2.871</td>\n",
       "      <td>3.313</td>\n",
       "      <td>6.363</td>\n",
       "      <td>7.743</td>\n",
       "      <td>1.953</td>\n",
       "      <td>7.919</td>\n",
       "      <td>2.470</td>\n",
       "    </tr>\n",
       "    <tr>\n",
       "      <th>2</th>\n",
       "      <td>72.1</td>\n",
       "      <td>2.574</td>\n",
       "      <td>3.871</td>\n",
       "      <td>5.965</td>\n",
       "      <td>7.474</td>\n",
       "      <td>2.231</td>\n",
       "      <td>7.967</td>\n",
       "      <td>2.346</td>\n",
       "    </tr>\n",
       "    <tr>\n",
       "      <th>3</th>\n",
       "      <td>84.1</td>\n",
       "      <td>5.755</td>\n",
       "      <td>3.732</td>\n",
       "      <td>4.997</td>\n",
       "      <td>7.318</td>\n",
       "      <td>2.344</td>\n",
       "      <td>8.175</td>\n",
       "      <td>2.832</td>\n",
       "    </tr>\n",
       "    <tr>\n",
       "      <th>4</th>\n",
       "      <td>74.0</td>\n",
       "      <td>3.866</td>\n",
       "      <td>3.251</td>\n",
       "      <td>6.088</td>\n",
       "      <td>7.638</td>\n",
       "      <td>2.182</td>\n",
       "      <td>7.742</td>\n",
       "      <td>2.482</td>\n",
       "    </tr>\n",
       "    <tr>\n",
       "      <th>...</th>\n",
       "      <td>...</td>\n",
       "      <td>...</td>\n",
       "      <td>...</td>\n",
       "      <td>...</td>\n",
       "      <td>...</td>\n",
       "      <td>...</td>\n",
       "      <td>...</td>\n",
       "      <td>...</td>\n",
       "    </tr>\n",
       "    <tr>\n",
       "      <th>298</th>\n",
       "      <td>55.9</td>\n",
       "      <td>3.217</td>\n",
       "      <td>3.377</td>\n",
       "      <td>6.645</td>\n",
       "      <td>7.296</td>\n",
       "      <td>1.948</td>\n",
       "      <td>7.778</td>\n",
       "      <td>2.857</td>\n",
       "    </tr>\n",
       "    <tr>\n",
       "      <th>299</th>\n",
       "      <td>75.8</td>\n",
       "      <td>3.744</td>\n",
       "      <td>3.299</td>\n",
       "      <td>5.659</td>\n",
       "      <td>7.882</td>\n",
       "      <td>2.130</td>\n",
       "      <td>8.032</td>\n",
       "      <td>2.158</td>\n",
       "    </tr>\n",
       "    <tr>\n",
       "      <th>300</th>\n",
       "      <td>64.0</td>\n",
       "      <td>5.112</td>\n",
       "      <td>3.463</td>\n",
       "      <td>6.405</td>\n",
       "      <td>7.264</td>\n",
       "      <td>1.943</td>\n",
       "      <td>7.999</td>\n",
       "      <td>2.007</td>\n",
       "    </tr>\n",
       "    <tr>\n",
       "      <th>301</th>\n",
       "      <td>55.9</td>\n",
       "      <td>3.280</td>\n",
       "      <td>3.399</td>\n",
       "      <td>6.090</td>\n",
       "      <td>7.447</td>\n",
       "      <td>1.942</td>\n",
       "      <td>7.827</td>\n",
       "      <td>2.394</td>\n",
       "    </tr>\n",
       "    <tr>\n",
       "      <th>302</th>\n",
       "      <td>73.0</td>\n",
       "      <td>3.908</td>\n",
       "      <td>3.635</td>\n",
       "      <td>6.597</td>\n",
       "      <td>7.678</td>\n",
       "      <td>1.841</td>\n",
       "      <td>7.756</td>\n",
       "      <td>2.628</td>\n",
       "    </tr>\n",
       "  </tbody>\n",
       "</table>\n",
       "<p>303 rows × 8 columns</p>\n",
       "</div>"
      ],
      "text/plain": [
       "      AGE  11730765_at_CD177  11720732_a_at_SUMF1  11747640_a_at_TDP2  \\\n",
       "0    70.8              2.685                3.332               6.250   \n",
       "1    69.1              2.871                3.313               6.363   \n",
       "2    72.1              2.574                3.871               5.965   \n",
       "3    84.1              5.755                3.732               4.997   \n",
       "4    74.0              3.866                3.251               6.088   \n",
       "..    ...                ...                  ...                 ...   \n",
       "298  55.9              3.217                3.377               6.645   \n",
       "299  75.8              3.744                3.299               5.659   \n",
       "300  64.0              5.112                3.463               6.405   \n",
       "301  55.9              3.280                3.399               6.090   \n",
       "302  73.0              3.908                3.635               6.597   \n",
       "\n",
       "     11719477_a_at_FASTKD5  11742943_a_at_CKM  11716563_s_at_AIMP2  \\\n",
       "0                    7.662              2.133                7.690   \n",
       "1                    7.743              1.953                7.919   \n",
       "2                    7.474              2.231                7.967   \n",
       "3                    7.318              2.344                8.175   \n",
       "4                    7.638              2.182                7.742   \n",
       "..                     ...                ...                  ...   \n",
       "298                  7.296              1.948                7.778   \n",
       "299                  7.882              2.130                8.032   \n",
       "300                  7.264              1.943                7.999   \n",
       "301                  7.447              1.942                7.827   \n",
       "302                  7.678              1.841                7.756   \n",
       "\n",
       "     11761447_at_nan  \n",
       "0              2.376  \n",
       "1              2.470  \n",
       "2              2.346  \n",
       "3              2.832  \n",
       "4              2.482  \n",
       "..               ...  \n",
       "298            2.857  \n",
       "299            2.158  \n",
       "300            2.007  \n",
       "301            2.394  \n",
       "302            2.628  \n",
       "\n",
       "[303 rows x 8 columns]"
      ]
     },
     "execution_count": 14,
     "metadata": {},
     "output_type": "execute_result"
    }
   ],
   "source": [
    "top_df = df.loc[:,top_features]\n",
    "top_df"
   ]
  },
  {
   "cell_type": "code",
   "execution_count": 18,
   "metadata": {},
   "outputs": [
    {
     "data": {
      "image/png": "[encoded data removed]",
      "text/plain": [
       "<Figure size 432x288 with 1 Axes>"
      ]
     },
     "metadata": {
      "needs_background": "light"
     },
     "output_type": "display_data"
    },
    {
     "name": "stdout",
     "output_type": "stream",
     "text": [
      "for total of 8 Features\n",
      "Mean Balanced Accuracy: 0.7569088319088318\n",
      "Mean AUC: 0.8832621082621084\n",
      "END OF THE EXPERIMENT\n"
     ]
    },
    {
     "data": {
      "text/plain": [
       "<Figure size 432x288 with 0 Axes>"
      ]
     },
     "metadata": {},
     "output_type": "display_data"
    }
   ],
   "source": [
    "tprs = []\n",
    "aucs = []\n",
    "acc = []\n",
    "imp = []\n",
    "mean_fpr = np.linspace(0, 1, 100)\n",
    "cv = RepeatedStratifiedKFold(n_splits=5, n_repeats=3, random_state=SEED)\n",
    "fig, ax = plt.subplots()\n",
    "X, y = top_df, y\n",
    "for train, test in cv.split(X, y):\n",
    "    X_train = X.iloc[train]\n",
    "    y_train = y[train]\n",
    "\n",
    "    X_test = X.iloc[test]\n",
    "    y_test = y[test]\n",
    "    n_estimators = 50\n",
    "    model = GradientBoostingClassifier(random_state=SEED,n_estimators=n_estimators)\n",
    "    oversample = SMOTE(sampling_strategy=SAMPLING, k_neighbors=7,random_state=SEED)\n",
    "    X_train, y_train = oversample.fit_resample(X_train, y_train)\n",
    "    probas_ = model.fit(X_train, y_train).predict_proba(X_test)\n",
    "    y_pred = model.predict(X_test)\n",
    "    acc.append(balanced_accuracy_score(y_test, y_pred))\n",
    "    fpr, tpr, thresholds = roc_curve(y_test, probas_[:, 1],drop_intermediate='False')\n",
    "    roc_auc = roc_auc_score(y_test, probas_[:, 1])\n",
    "    interp_tpr = np.interp(mean_fpr, fpr, tpr)\n",
    "    interp_tpr[0] = 0.0\n",
    "    tprs.append(interp_tpr)\n",
    "    aucs.append(roc_auc)\n",
    "    imp.append(model.feature_importances_)\n",
    "\n",
    "ax.plot([0, 1], [0, 1], linestyle='--', lw=2, color='r',\n",
    "        label='Chance', alpha=.8)\n",
    "\n",
    "mean_tpr = np.mean(tprs, axis=0)\n",
    "mean_tpr[-1] = 1.0\n",
    "mean_auc = auc(mean_fpr, mean_tpr)\n",
    "std_auc = np.std(aucs)\n",
    "ax.plot(mean_fpr, mean_tpr, color='b',\n",
    "        label=r'Mean ROC (AUC = %0.2f $\\pm$ %0.2f)' % (mean_auc, std_auc),\n",
    "        lw=2, alpha=.8)\n",
    "\n",
    "std_tpr = np.std(tprs, axis=0)\n",
    "tprs_upper = np.minimum(mean_tpr + std_tpr, 1)\n",
    "tprs_lower = np.maximum(mean_tpr - std_tpr, 0)\n",
    "ax.fill_between(mean_fpr, tprs_lower, tprs_upper, color='grey', alpha=.2,\n",
    "                label=r'$\\pm$ 1 std. dev.')\n",
    "\n",
    "ax.set(xlim=[-0.05, 1.05], ylim=[-0.05, 1.05],\n",
    "    title=\"Receiver operating characteristic\")\n",
    "ax.legend(loc=\"lower right\")\n",
    "plt.show()\n",
    "plt.savefig(os.path.join(root_path,'results','ROC_for:'+groups+'.png'))\n",
    "print('for total of 8 Features')\n",
    "print('Mean Balanced Accuracy:',sum(acc)/len(acc))\n",
    "print('Mean AUC:',sum(aucs)/len(aucs))\n",
    "\n",
    "imp = np.array(imp)\n",
    "imp = imp.mean(axis=0)\n",
    "\n",
    "imp_df = pd.DataFrame(columns=['features','importance'])\n",
    "imp_df['features'] = list(X.columns)\n",
    "imp_df['importance'] = imp\n",
    "\n",
    "imp_df_sorted = imp_df.sort_values(by=['importance'],ascending=False)\n",
    "imp_df_sorted.to_csv(os.path.join(root_path,'results',groups+'_Classification_ranked_'+str(8)+'_GeneExpr_features.csv'))\n",
    "\n",
    "print(\"END OF THE EXPERIMENT\")"
   ]
  }
 ],
 "metadata": {
  "kernelspec": {
   "display_name": "Python 3",
   "language": "python",
   "name": "python3"
  },
  "language_info": {
   "codemirror_mode": {
    "name": "ipython",
    "version": 3
   },
   "file_extension": ".py",
   "mimetype": "text/x-python",
   "name": "python",
   "nbconvert_exporter": "python",
   "pygments_lexer": "ipython3",
   "version": "3.8.3"
  }
 },
 "nbformat": 4,
 "nbformat_minor": 4
}
