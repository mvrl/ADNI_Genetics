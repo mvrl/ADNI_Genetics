{
 "cells": [
  {
   "cell_type": "code",
   "execution_count": 30,
   "metadata": {},
   "outputs": [],
   "source": [
    "import os\n",
    "import pandas as pd\n"
   ]
  },
  {
   "cell_type": "code",
   "execution_count": 31,
   "metadata": {},
   "outputs": [],
   "source": [
    "def clean_feats(feats): \n",
    "    final_feats = []\n",
    "    for f in feats:\n",
    "        if len(f.split('_at_')) > 1:\n",
    "            final_feats.append(f.split('_at_')[1])\n",
    "        else:\n",
    "            final_feats.append(f)\n",
    "    return final_feats"
   ]
  },
  {
   "cell_type": "code",
   "execution_count": 32,
   "metadata": {},
   "outputs": [],
   "source": [
    "best_map = {\n",
    "    'CN_AD':'Features_ranked_for_CN_AD_400_prune.csv',\n",
    "    'CN_EMCI':'Features_ranked_for_CN_EMCI_300_prune.csv',\n",
    "    'CN_LMCI':'Features_ranked_for_CN_LMCI_400_prune.csv', \n",
    "    'EMCI_LMCI':'Features_ranked_for_EMCI_LMCI_500_prune.csv',\n",
    "    'EMCI_AD':'Features_ranked_for_EMCI_AD_300_prune.csv',\n",
    "    'LMCI_AD':'Features_ranked_for_LMCI_AD_500_prune.csv'\n",
    "    }"
   ]
  },
  {
   "cell_type": "code",
   "execution_count": 33,
   "metadata": {},
   "outputs": [],
   "source": [
    "groups = ['CN_AD', 'CN_EMCI', 'CN_LMCI', 'EMCI_AD', 'EMCI_LMCI', 'LMCI_AD']\n",
    "final_dict= {}"
   ]
  },
  {
   "cell_type": "code",
   "execution_count": 34,
   "metadata": {},
   "outputs": [],
   "source": [
    "filepath = '/Users/subashkhanal/Desktop/paper1_results/final/Gene_Expr/'"
   ]
  },
  {
   "cell_type": "code",
   "execution_count": 36,
   "metadata": {},
   "outputs": [],
   "source": [
    "for group in groups:\n",
    "    df = pd.read_csv(os.path.join(filepath,best_map[group]))\n",
    "    feats = list(df[df['importance']>=0.01]['features'])\n",
    "    final_dict[group] = clean_feats(feats)"
   ]
  },
  {
   "cell_type": "code",
   "execution_count": 38,
   "metadata": {},
   "outputs": [],
   "source": [
    "df_final = pd.DataFrame(dict([ (k,pd.Series(v)) for k,v in final_dict.items() ]))"
   ]
  },
  {
   "cell_type": "code",
   "execution_count": 39,
   "metadata": {},
   "outputs": [],
   "source": [
    "df_final.to_csv('topGeneExpr_genes.csv')"
   ]
  },
  {
   "cell_type": "code",
   "execution_count": 40,
   "metadata": {},
   "outputs": [
    {
     "data": {
      "text/html": [
       "<div>\n",
       "<style scoped>\n",
       "    .dataframe tbody tr th:only-of-type {\n",
       "        vertical-align: middle;\n",
       "    }\n",
       "\n",
       "    .dataframe tbody tr th {\n",
       "        vertical-align: top;\n",
       "    }\n",
       "\n",
       "    .dataframe thead th {\n",
       "        text-align: right;\n",
       "    }\n",
       "</style>\n",
       "<table border=\"1\" class=\"dataframe\">\n",
       "  <thead>\n",
       "    <tr style=\"text-align: right;\">\n",
       "      <th></th>\n",
       "      <th>CN_AD</th>\n",
       "      <th>CN_EMCI</th>\n",
       "      <th>CN_LMCI</th>\n",
       "      <th>EMCI_AD</th>\n",
       "      <th>EMCI_LMCI</th>\n",
       "      <th>LMCI_AD</th>\n",
       "    </tr>\n",
       "  </thead>\n",
       "  <tbody>\n",
       "    <tr>\n",
       "      <th>0</th>\n",
       "      <td>SUMF1</td>\n",
       "      <td>AGE</td>\n",
       "      <td>AGE</td>\n",
       "      <td>UBB</td>\n",
       "      <td>MYEOV</td>\n",
       "      <td>MYEOV</td>\n",
       "    </tr>\n",
       "    <tr>\n",
       "      <th>1</th>\n",
       "      <td>AGE</td>\n",
       "      <td>DOK5</td>\n",
       "      <td>AFF4</td>\n",
       "      <td>C19ORF77</td>\n",
       "      <td>CCDC89</td>\n",
       "      <td>DYRK3</td>\n",
       "    </tr>\n",
       "    <tr>\n",
       "      <th>2</th>\n",
       "      <td>LYSMD1</td>\n",
       "      <td>LMOD2</td>\n",
       "      <td>VIP</td>\n",
       "      <td>AGE</td>\n",
       "      <td>NUP43</td>\n",
       "      <td>SNORD16</td>\n",
       "    </tr>\n",
       "    <tr>\n",
       "      <th>3</th>\n",
       "      <td>DYRK3</td>\n",
       "      <td>LETM1</td>\n",
       "      <td>MYBPC3</td>\n",
       "      <td>XRCC5</td>\n",
       "      <td>GALNT1</td>\n",
       "      <td>SUMF1</td>\n",
       "    </tr>\n",
       "    <tr>\n",
       "      <th>4</th>\n",
       "      <td>CD177</td>\n",
       "      <td>NDUFA5</td>\n",
       "      <td>RABL5</td>\n",
       "      <td>CNOT8</td>\n",
       "      <td>UBE2J2</td>\n",
       "      <td>LRRC39</td>\n",
       "    </tr>\n",
       "  </tbody>\n",
       "</table>\n",
       "</div>"
      ],
      "text/plain": [
       "    CN_AD CN_EMCI CN_LMCI   EMCI_AD EMCI_LMCI  LMCI_AD\n",
       "0   SUMF1     AGE     AGE       UBB     MYEOV    MYEOV\n",
       "1     AGE    DOK5    AFF4  C19ORF77    CCDC89    DYRK3\n",
       "2  LYSMD1   LMOD2     VIP       AGE     NUP43  SNORD16\n",
       "3   DYRK3   LETM1  MYBPC3     XRCC5    GALNT1    SUMF1\n",
       "4   CD177  NDUFA5   RABL5     CNOT8    UBE2J2   LRRC39"
      ]
     },
     "execution_count": 40,
     "metadata": {},
     "output_type": "execute_result"
    }
   ],
   "source": [
    "df_final.head()"
   ]
  },
  {
   "cell_type": "code",
   "execution_count": null,
   "metadata": {},
   "outputs": [],
   "source": []
  }
 ],
 "metadata": {
  "kernelspec": {
   "display_name": "Python 3",
   "language": "python",
   "name": "python3"
  },
  "language_info": {
   "codemirror_mode": {
    "name": "ipython",
    "version": 3
   },
   "file_extension": ".py",
   "mimetype": "text/x-python",
   "name": "python",
   "nbconvert_exporter": "python",
   "pygments_lexer": "ipython3",
   "version": "3.8.3"
  }
 },
 "nbformat": 4,
 "nbformat_minor": 4
}
